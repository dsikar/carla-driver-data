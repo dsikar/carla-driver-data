{
 "cells": [
  {
   "cell_type": "markdown",
   "metadata": {},
   "source": [
    "# Spawn points study\n",
    "Spawn points returned by world.get_map().get_spawn_points() are Transform objects, which tell us about a physical location on a Carla world map e.g. Town04, as well as matrices that determine the motion of an object from the Transform object properties"
   ]
  },
  {
   "cell_type": "code",
   "execution_count": 60,
   "metadata": {},
   "outputs": [],
   "source": [
    "import carla \n",
    "import math \n",
    "import random \n",
    "import time \n",
    "\n",
    "# Connect to the client and get the world object\n",
    "client = carla.Client('localhost', 2000) \n",
    "world = client.get_world() \n",
    "\n",
    "# load Town04 map\n",
    "world = client.load_world('Town04')\n",
    "\n",
    "# Get the blueprint library and the spawn points for the map\n",
    "bp_lib = world.get_blueprint_library() \n",
    "spawn_points = world.get_map().get_spawn_points() "
   ]
  },
  {
   "cell_type": "markdown",
   "metadata": {},
   "source": [
    "## Place spectator\n",
    "We place the Spectator object, using a helper function, to observe the location of default spawn points."
   ]
  },
  {
   "cell_type": "code",
   "execution_count": 61,
   "metadata": {},
   "outputs": [
    {
     "name": "stdout",
     "output_type": "stream",
     "text": [
      "\n",
      "=== Spectator Transform Set ===\n",
      "Location: x=12.53, y=-430.17, z=200.86\n",
      "Rotation: pitch=-37.66, yaw=57.56, roll=0.00\n"
     ]
    }
   ],
   "source": [
    "import carla_helpers as helpers\n",
    "#transform = helpers.get_spectator_transform(world)\n",
    "transform = helpers.set_spectator_transform(world, (12.53, -430.17, 200.86), (-37.66, 57.56, 0))"
   ]
  },
  {
   "cell_type": "markdown",
   "metadata": {},
   "source": [
    "## Spawn point methods"
   ]
  },
  {
   "cell_type": "code",
   "execution_count": null,
   "metadata": {},
   "outputs": [],
   "source": [
    "for method in dir(spawn_points[0]):\n",
    "    print(method)"
   ]
  },
  {
   "cell_type": "markdown",
   "metadata": {},
   "source": [
    "## Mark spawn points on the map"
   ]
  },
  {
   "cell_type": "code",
   "execution_count": 1,
   "metadata": {},
   "outputs": [
    {
     "ename": "NameError",
     "evalue": "name 'carla' is not defined",
     "output_type": "error",
     "traceback": [
      "\u001b[0;31m---------------------------------------------------------------------------\u001b[0m",
      "\u001b[0;31mNameError\u001b[0m                                 Traceback (most recent call last)",
      "\u001b[0;32m<ipython-input-1-668d86f094be>\u001b[0m in \u001b[0;36m<module>\u001b[0;34m\u001b[0m\n\u001b[1;32m      6\u001b[0m    \u001b[0;32mreturn\u001b[0m \u001b[0;34m[\u001b[0m\u001b[0mwp\u001b[0m \u001b[0;32mfor\u001b[0m \u001b[0mwp\u001b[0m \u001b[0;32min\u001b[0m \u001b[0mcarla_map\u001b[0m\u001b[0;34m.\u001b[0m\u001b[0mgenerate_waypoints\u001b[0m\u001b[0;34m(\u001b[0m\u001b[0;36m2.0\u001b[0m\u001b[0;34m)\u001b[0m \u001b[0;32mif\u001b[0m \u001b[0mwp\u001b[0m\u001b[0;34m.\u001b[0m\u001b[0mroad_id\u001b[0m \u001b[0;34m==\u001b[0m \u001b[0mroad_id\u001b[0m\u001b[0;34m]\u001b[0m\u001b[0;34m\u001b[0m\u001b[0;34m\u001b[0m\u001b[0m\n\u001b[1;32m      7\u001b[0m \u001b[0;34m\u001b[0m\u001b[0m\n\u001b[0;32m----> 8\u001b[0;31m \u001b[0;32mdef\u001b[0m \u001b[0mvisualize_waypoints\u001b[0m\u001b[0;34m(\u001b[0m\u001b[0mworld\u001b[0m\u001b[0;34m,\u001b[0m \u001b[0mwaypoints\u001b[0m\u001b[0;34m,\u001b[0m \u001b[0mcolor\u001b[0m\u001b[0;34m=\u001b[0m\u001b[0mcarla\u001b[0m\u001b[0;34m.\u001b[0m\u001b[0mColor\u001b[0m\u001b[0;34m(\u001b[0m\u001b[0;36m255\u001b[0m\u001b[0;34m,\u001b[0m\u001b[0;36m0\u001b[0m\u001b[0;34m,\u001b[0m\u001b[0;36m0\u001b[0m\u001b[0;34m)\u001b[0m\u001b[0;34m)\u001b[0m\u001b[0;34m:\u001b[0m\u001b[0;34m\u001b[0m\u001b[0;34m\u001b[0m\u001b[0m\n\u001b[0m\u001b[1;32m      9\u001b[0m    \u001b[0;34m\"\"\"Visualizes provided waypoints in specified color\"\"\"\u001b[0m\u001b[0;34m\u001b[0m\u001b[0;34m\u001b[0m\u001b[0m\n\u001b[1;32m     10\u001b[0m    \u001b[0mdebug\u001b[0m \u001b[0;34m=\u001b[0m \u001b[0mworld\u001b[0m\u001b[0;34m.\u001b[0m\u001b[0mdebug\u001b[0m\u001b[0;34m\u001b[0m\u001b[0;34m\u001b[0m\u001b[0m\n",
      "\u001b[0;31mNameError\u001b[0m: name 'carla' is not defined"
     ]
    },
    {
     "ename": "",
     "evalue": "",
     "output_type": "error",
     "traceback": [
      "\u001b[1;31mThe Kernel crashed while executing code in the the current cell or a previous cell. Please review the code in the cell(s) to identify a possible cause of the failure. Click <a href='https://aka.ms/vscodeJupyterKernelCrash'>here</a> for more info. View Jupyter <a href='command:jupyter.viewOutput'>log</a> for further details."
     ]
    }
   ],
   "source": [
    "import time\n",
    "# Create markers for all spawn points\n",
    "i = 1\n",
    "for spawn_point in spawn_points:\n",
    "    # Create debug helper\n",
    "    debug = world.debug\n",
    "\n",
    "    # Draw red sphere at spawn point location\n",
    "    size = 0.5  # Marker size in meters\n",
    "    color = carla.Color(r=255, g=0, b=0)  # Red color\n",
    "    life_time = -1  # Permanent marker (-1)\n",
    "\n",
    "    debug.draw_point(\n",
    "        spawn_point.location,\n",
    "        size=size,\n",
    "        color=color, \n",
    "        life_time=life_time,\n",
    "        persistent_lines=True\n",
    "    )\n",
    "    time.sleep(0.025)  # Sleep for 0.1 seconds\n",
    "    i = i + 1\n",
    "    print(f\"Spawn points: {i-1}\")"
   ]
  },
  {
   "cell_type": "markdown",
   "metadata": {},
   "source": [
    "## Youtube video\n",
    "https://youtu.be/hFAWLdytkTA"
   ]
  }
 ],
 "metadata": {
  "kernelspec": {
   "display_name": "carla-env",
   "language": "python",
   "name": "python3"
  },
  "language_info": {
   "codemirror_mode": {
    "name": "ipython",
    "version": 3
   },
   "file_extension": ".py",
   "mimetype": "text/x-python",
   "name": "python",
   "nbconvert_exporter": "python",
   "pygments_lexer": "ipython3",
   "version": "3.6.9"
  }
 },
 "nbformat": 4,
 "nbformat_minor": 2
}
