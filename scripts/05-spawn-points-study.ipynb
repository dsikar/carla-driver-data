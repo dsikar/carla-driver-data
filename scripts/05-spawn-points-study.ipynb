{
 "cells": [
  {
   "cell_type": "markdown",
   "metadata": {},
   "source": [
    "# Spawn points study\n",
    "Spawn points returned by world.get_map().get_spawn_points() are Transform objects, which tell us about a physical location on a Carla world map e.g. Town04, as well as matrices that determine the motion of an object from the Transform object properties"
   ]
  },
  {
   "cell_type": "code",
   "execution_count": 60,
   "metadata": {},
   "outputs": [],
   "source": [
    "import carla \n",
    "import math \n",
    "import random \n",
    "import time \n",
    "\n",
    "# Connect to the client and get the world object\n",
    "client = carla.Client('localhost', 2000) \n",
    "world = client.get_world() \n",
    "\n",
    "# load Town04 map\n",
    "world = client.load_world('Town04')\n",
    "\n",
    "# Get the blueprint library and the spawn points for the map\n",
    "bp_lib = world.get_blueprint_library() \n",
    "spawn_points = world.get_map().get_spawn_points() "
   ]
  },
  {
   "cell_type": "markdown",
   "metadata": {},
   "source": [
    "## Place spectator\n",
    "We place the Spectator object, using a helper function, to observe the location of default spawn points."
   ]
  },
  {
   "cell_type": "code",
   "execution_count": 61,
   "metadata": {},
   "outputs": [
    {
     "name": "stdout",
     "output_type": "stream",
     "text": [
      "\n",
      "=== Spectator Transform Set ===\n",
      "Location: x=12.53, y=-430.17, z=200.86\n",
      "Rotation: pitch=-37.66, yaw=57.56, roll=0.00\n"
     ]
    }
   ],
   "source": [
    "import carla_helpers as helpers\n",
    "#transform = helpers.get_spectator_transform(world)\n",
    "transform = helpers.set_spectator_transform(world, (12.53, -430.17, 200.86), (-37.66, 57.56, 0))"
   ]
  },
  {
   "cell_type": "markdown",
   "metadata": {},
   "source": [
    "## Spawn point methods"
   ]
  },
  {
   "cell_type": "code",
   "execution_count": null,
   "metadata": {},
   "outputs": [],
   "source": [
    "for method in dir(spawn_points[0]):\n",
    "    print(method)"
   ]
  },
  {
   "cell_type": "markdown",
   "metadata": {},
   "source": [
    "## Mark spawn points on the map"
   ]
  },
  {
   "cell_type": "code",
   "execution_count": null,
   "metadata": {},
   "outputs": [],
   "source": [
    "import time\n",
    "# Create markers for all spawn points\n",
    "i = 1\n",
    "for spawn_point in spawn_points:\n",
    "    # Create debug helper\n",
    "    debug = world.debug\n",
    "\n",
    "    # Draw red sphere at spawn point location\n",
    "    size = 0.5  # Marker size in meters\n",
    "    color = carla.Color(r=255, g=0, b=0)  # Red color\n",
    "    life_time = -1  # Permanent marker (-1)\n",
    "\n",
    "    debug.draw_point(\n",
    "        spawn_point.location,\n",
    "        size=size,\n",
    "        color=color, \n",
    "        life_time=life_time,\n",
    "        persistent_lines=True\n",
    "    )\n",
    "    time.sleep(0.025)  # Sleep for 0.1 seconds\n",
    "    i = i + 1\n",
    "    print(f\"Spawn points: {i-1}\")"
   ]
  }
 ],
 "metadata": {
  "kernelspec": {
   "display_name": "carla-env",
   "language": "python",
   "name": "python3"
  },
  "language_info": {
   "codemirror_mode": {
    "name": "ipython",
    "version": 3
   },
   "file_extension": ".py",
   "mimetype": "text/x-python",
   "name": "python",
   "nbconvert_exporter": "python",
   "pygments_lexer": "ipython3",
   "version": "3.6.9"
  }
 },
 "nbformat": 4,
 "nbformat_minor": 2
}
