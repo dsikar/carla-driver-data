{
 "cells": [
  {
   "cell_type": "markdown",
   "metadata": {},
   "source": [
    "# Cyclist going around Map04"
   ]
  },
  {
   "cell_type": "code",
   "execution_count": 1,
   "metadata": {},
   "outputs": [
    {
     "ename": "",
     "evalue": "",
     "output_type": "error",
     "traceback": [
      "\u001b[1;31mThe Kernel crashed while executing code in the the current cell or a previous cell. Please review the code in the cell(s) to identify a possible cause of the failure. Click <a href='https://aka.ms/vscodeJupyterKernelCrash'>here</a> for more info. View Jupyter <a href='command:jupyter.viewOutput'>log</a> for further details."
     ]
    }
   ],
   "source": [
    "# boilerplate code\n",
    "import carla \n",
    "import math \n",
    "import random \n",
    "import time \n",
    "import logging\n",
    "\n",
    "# Initialize logging\n",
    "logging.basicConfig(level=logging.INFO, format='%(asctime)s - %(message)s')\n",
    "\n",
    "# Create a file handler\n",
    "file_handler = logging.FileHandler('../data/carla_simulation.log')\n",
    "file_handler.setLevel(logging.INFO)\n",
    "file_handler.setFormatter(logging.Formatter('%(asctime)s - %(message)s'))\n",
    "\n",
    "# Add the file handler to the logger\n",
    "logger = logging.getLogger(__name__)\n",
    "logger.addHandler(file_handler)\n",
    "\n",
    "# Connect to the client and get the world object\n",
    "client = carla.Client('localhost', 2000) \n",
    "world = client.get_world() \n",
    "\n",
    "# load Town04 map\n",
    "world = client.load_world('Town04')\n",
    "\n",
    "# Get the blueprint library and the spawn points for the map\n",
    "bp_lib = world.get_blueprint_library() \n",
    "spawn_points = world.get_map().get_spawn_points() \n",
    "\n",
    "# Get the blueprint for the bycicle you want\n",
    "vehicle_bp = bp_lib.find('vehicle.bh.crossbike') \n",
    "# nb other options are:\n",
    "# 'vehicle.gazelle.omafiets',\n",
    "#vehicle_bp = bp_lib.find('vehicle.diamondback.century') \n",
    "# 'vehicle.diamondback.century'\n",
    "\n",
    "# Try spawning the vehicle at a randomly chosen spawn point\n",
    "vehicle = world.try_spawn_actor(vehicle_bp, random.choice(spawn_points))\n",
    "\n",
    "# start the simulation\n",
    "vehicle.set_autopilot(True)\n",
    "\n"
   ]
  },
  {
   "cell_type": "markdown",
   "metadata": {},
   "source": [
    "## Following vehicle with a camera"
   ]
  },
  {
   "cell_type": "code",
   "execution_count": 2,
   "metadata": {},
   "outputs": [
    {
     "name": "stdout",
     "output_type": "stream",
     "text": [
      "Camera following started\n"
     ]
    }
   ],
   "source": [
    "from carla_camera import CameraManager\n",
    "\n",
    "# Connect to CARLA\n",
    "client = carla.Client('localhost', 2000)\n",
    "client.set_timeout(10.0)\n",
    "world = client.get_world()\n",
    "\n",
    "# Get spectator\n",
    "spectator = world.get_spectator()\n",
    "\n",
    "# Spawn vehicle (example)\n",
    "spawn_points = world.get_map().get_spawn_points()\n",
    "# vehicle_bp = world.get_blueprint_library().find('vehicle.tesla.model3')\n",
    "vehicle = world.spawn_actor(vehicle_bp, spawn_points[0])\n",
    "vehicle.set_autopilot(True)\n",
    "\n",
    "# Create camera manager\n",
    "camera = CameraManager()\n",
    "\n",
    "# Cell 2: Control Camera\n",
    "# Start following\n",
    "camera.start_following(world, vehicle, spectator)"
   ]
  },
  {
   "cell_type": "markdown",
   "metadata": {},
   "source": [
    "## Modify views on the fly\n",
    "This can be done as long as logging loop is not running"
   ]
  },
  {
   "cell_type": "code",
   "execution_count": 3,
   "metadata": {},
   "outputs": [],
   "source": [
    "# camera.set_front_view()\n",
    "camera.set_front_right_diagonal()"
   ]
  },
  {
   "cell_type": "markdown",
   "metadata": {},
   "source": [
    "## Monitoring Loop"
   ]
  },
  {
   "cell_type": "code",
   "execution_count": null,
   "metadata": {},
   "outputs": [],
   "source": [
    "# Cell 2: Monitoring Loop\n",
    "try:\n",
    "    # Main loop to monitor steering angle\n",
    "    while True:\n",
    "        # Get vehicle control\n",
    "        control = vehicle.get_control()\n",
    "        \n",
    "        # Get steering angle (ranges from -1.0 to 1.0)\n",
    "        steering_angle = control.steer\n",
    "        \n",
    "        # Convert to degrees for better readability (-70 to 70 degrees)\n",
    "        steering_degrees = steering_angle * 70.0\n",
    "        \n",
    "        # Print steering information with different formats\n",
    "        logger.info(f\"Steering Angle: Raw={steering_angle:.3f}, Degrees={steering_degrees:.1f}°\")\n",
    "        \n",
    "        # Get vehicle's transform for additional context\n",
    "        transform = vehicle.get_transform()\n",
    "        logger.info(f\"Vehicle Location: x={transform.location.x:.1f}, \"\n",
    "                   f\"y={transform.location.y:.1f}, \"\n",
    "                   f\"heading={transform.rotation.yaw:.1f}°\")\n",
    "        \n",
    "        # Add a small delay to prevent flooding the output\n",
    "        time.sleep(0.1)\n",
    "        \n",
    "except KeyboardInterrupt:\n",
    "    logger.info(\"Monitoring stopped by user\")\n",
    "finally:\n",
    "    # Cleanup\n",
    "    vehicle.destroy()\n",
    "    logger.info(\"Vehicle destroyed\")"
   ]
  },
  {
   "cell_type": "markdown",
   "metadata": {},
   "source": [
    "## Stop the spectator from following vehicle"
   ]
  },
  {
   "cell_type": "code",
   "execution_count": 4,
   "metadata": {},
   "outputs": [
    {
     "name": "stdout",
     "output_type": "stream",
     "text": [
      "Camera following stopped\n"
     ]
    },
    {
     "ename": "",
     "evalue": "",
     "output_type": "error",
     "traceback": [
      "\u001b[1;31mThe Kernel crashed while executing code in the the current cell or a previous cell. Please review the code in the cell(s) to identify a possible cause of the failure. Click <a href='https://aka.ms/vscodeJupyterKernelCrash'>here</a> for more info. View Jupyter <a href='command:jupyter.viewOutput'>log</a> for further details."
     ]
    }
   ],
   "source": [
    "camera.stop_following()"
   ]
  },
  {
   "cell_type": "markdown",
   "metadata": {},
   "source": [
    "## Start spectator vehicle following"
   ]
  },
  {
   "cell_type": "code",
   "execution_count": null,
   "metadata": {},
   "outputs": [],
   "source": [
    "camera.start_following(world, vehicle, spectator)"
   ]
  },
  {
   "cell_type": "markdown",
   "metadata": {},
   "source": [
    "## Youtube video capture\n",
    "https://youtu.be/A7Wn2t2cFaM"
   ]
  }
 ],
 "metadata": {
  "kernelspec": {
   "display_name": "carla-env",
   "language": "python",
   "name": "python3"
  },
  "language_info": {
   "codemirror_mode": {
    "name": "ipython",
    "version": 3
   },
   "file_extension": ".py",
   "mimetype": "text/x-python",
   "name": "python",
   "nbconvert_exporter": "python",
   "pygments_lexer": "ipython3",
   "version": "3.6.9"
  }
 },
 "nbformat": 4,
 "nbformat_minor": 2
}
