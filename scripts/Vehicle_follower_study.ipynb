{
 "cells": [
  {
   "cell_type": "markdown",
   "metadata": {},
   "source": [
    "# Vehicle follower\n",
    "Tasks:\n",
    "1. List all vehicles in scene\n",
    "2. Delete all vehicles\n",
    "3. Recreate all vehicles\n",
    "## Preliminaries\n",
    "Assumptions are:\n",
    "1. Carla 0.9.13 si running\n",
    "2. Python version is 3.9.6\n",
    "3. Python API version is 0.9.13"
   ]
  },
  {
   "cell_type": "code",
   "execution_count": 8,
   "metadata": {},
   "outputs": [],
   "source": [
    "import carla \n",
    "import math \n",
    "import random \n",
    "import time "
   ]
  },
  {
   "cell_type": "code",
   "execution_count": 33,
   "metadata": {},
   "outputs": [
    {
     "name": "stdout",
     "output_type": "stream",
     "text": [
      "Requirement already satisfied: ipykernel in /home/daniel/.pyenv/versions/3.6.9/envs/carla-env/lib/python3.6/site-packages (5.5.6)\n",
      "Requirement already satisfied: ipython-genutils in /home/daniel/.pyenv/versions/3.6.9/envs/carla-env/lib/python3.6/site-packages (from ipykernel) (0.2.0)\n",
      "Requirement already satisfied: tornado>=4.2 in /home/daniel/.pyenv/versions/3.6.9/envs/carla-env/lib/python3.6/site-packages (from ipykernel) (6.1)\n",
      "Requirement already satisfied: jupyter-client in /home/daniel/.pyenv/versions/3.6.9/envs/carla-env/lib/python3.6/site-packages (from ipykernel) (7.1.2)\n",
      "Requirement already satisfied: traitlets>=4.1.0 in /home/daniel/.pyenv/versions/3.6.9/envs/carla-env/lib/python3.6/site-packages (from ipykernel) (4.3.3)\n",
      "Requirement already satisfied: ipython>=5.0.0 in /home/daniel/.pyenv/versions/3.6.9/envs/carla-env/lib/python3.6/site-packages (from ipykernel) (7.16.3)\n",
      "Requirement already satisfied: jedi<=0.17.2,>=0.10 in /home/daniel/.pyenv/versions/3.6.9/envs/carla-env/lib/python3.6/site-packages (from ipython>=5.0.0->ipykernel) (0.17.2)\n",
      "Requirement already satisfied: pickleshare in /home/daniel/.pyenv/versions/3.6.9/envs/carla-env/lib/python3.6/site-packages (from ipython>=5.0.0->ipykernel) (0.7.5)\n",
      "Requirement already satisfied: backcall in /home/daniel/.pyenv/versions/3.6.9/envs/carla-env/lib/python3.6/site-packages (from ipython>=5.0.0->ipykernel) (0.2.0)\n",
      "Requirement already satisfied: setuptools>=18.5 in /home/daniel/.pyenv/versions/3.6.9/envs/carla-env/lib/python3.6/site-packages (from ipython>=5.0.0->ipykernel) (40.6.2)\n",
      "Requirement already satisfied: decorator in /home/daniel/.pyenv/versions/3.6.9/envs/carla-env/lib/python3.6/site-packages (from ipython>=5.0.0->ipykernel) (5.1.1)\n",
      "Requirement already satisfied: pexpect in /home/daniel/.pyenv/versions/3.6.9/envs/carla-env/lib/python3.6/site-packages (from ipython>=5.0.0->ipykernel) (4.9.0)\n",
      "Requirement already satisfied: pygments in /home/daniel/.pyenv/versions/3.6.9/envs/carla-env/lib/python3.6/site-packages (from ipython>=5.0.0->ipykernel) (2.14.0)\n",
      "Requirement already satisfied: prompt-toolkit!=3.0.0,!=3.0.1,<3.1.0,>=2.0.0 in /home/daniel/.pyenv/versions/3.6.9/envs/carla-env/lib/python3.6/site-packages (from ipython>=5.0.0->ipykernel) (3.0.36)\n",
      "Requirement already satisfied: six in /home/daniel/.pyenv/versions/3.6.9/envs/carla-env/lib/python3.6/site-packages (from traitlets>=4.1.0->ipykernel) (1.16.0)\n",
      "Requirement already satisfied: nest-asyncio>=1.5 in /home/daniel/.pyenv/versions/3.6.9/envs/carla-env/lib/python3.6/site-packages (from jupyter-client->ipykernel) (1.6.0)\n",
      "Requirement already satisfied: pyzmq>=13 in /home/daniel/.pyenv/versions/3.6.9/envs/carla-env/lib/python3.6/site-packages (from jupyter-client->ipykernel) (25.1.2)\n",
      "Requirement already satisfied: jupyter-core>=4.6.0 in /home/daniel/.pyenv/versions/3.6.9/envs/carla-env/lib/python3.6/site-packages (from jupyter-client->ipykernel) (4.9.2)\n",
      "Requirement already satisfied: entrypoints in /home/daniel/.pyenv/versions/3.6.9/envs/carla-env/lib/python3.6/site-packages (from jupyter-client->ipykernel) (0.4)\n",
      "Requirement already satisfied: python-dateutil>=2.1 in /home/daniel/.pyenv/versions/3.6.9/envs/carla-env/lib/python3.6/site-packages (from jupyter-client->ipykernel) (2.9.0.post0)\n",
      "Requirement already satisfied: parso<0.8.0,>=0.7.0 in /home/daniel/.pyenv/versions/3.6.9/envs/carla-env/lib/python3.6/site-packages (from jedi<=0.17.2,>=0.10->ipython>=5.0.0->ipykernel) (0.7.1)\n",
      "Requirement already satisfied: wcwidth in /home/daniel/.pyenv/versions/3.6.9/envs/carla-env/lib/python3.6/site-packages (from prompt-toolkit!=3.0.0,!=3.0.1,<3.1.0,>=2.0.0->ipython>=5.0.0->ipykernel) (0.2.13)\n",
      "Requirement already satisfied: ptyprocess>=0.5 in /home/daniel/.pyenv/versions/3.6.9/envs/carla-env/lib/python3.6/site-packages (from pexpect->ipython>=5.0.0->ipykernel) (0.7.0)\n"
     ]
    }
   ],
   "source": [
    "# ipykernel for debugging line by line\n",
    "!pip install -U ipykernel"
   ]
  },
  {
   "cell_type": "markdown",
   "metadata": {},
   "source": [
    "## Check\n",
    "### TODO check versions"
   ]
  },
  {
   "cell_type": "code",
   "execution_count": 1,
   "metadata": {},
   "outputs": [
    {
     "ename": "AttributeError",
     "evalue": "module 'carla' has no attribute '__version__'",
     "output_type": "error",
     "traceback": [
      "\u001b[0;31m---------------------------------------------------------------------------\u001b[0m",
      "\u001b[0;31mAttributeError\u001b[0m                            Traceback (most recent call last)",
      "\u001b[0;32m<ipython-input-1-ece6d5d39dba>\u001b[0m in \u001b[0;36m<module>\u001b[0;34m\u001b[0m\n\u001b[1;32m      8\u001b[0m \u001b[0;31m# Check Carla module version\u001b[0m\u001b[0;34m\u001b[0m\u001b[0;34m\u001b[0m\u001b[0;34m\u001b[0m\u001b[0m\n\u001b[1;32m      9\u001b[0m \u001b[0mrequired_carla_version\u001b[0m \u001b[0;34m=\u001b[0m \u001b[0;34m\"0.9.13\"\u001b[0m\u001b[0;34m\u001b[0m\u001b[0;34m\u001b[0m\u001b[0m\n\u001b[0;32m---> 10\u001b[0;31m \u001b[0;32mif\u001b[0m \u001b[0mcarla\u001b[0m\u001b[0;34m.\u001b[0m\u001b[0m__version__\u001b[0m \u001b[0;34m!=\u001b[0m \u001b[0mrequired_carla_version\u001b[0m\u001b[0;34m:\u001b[0m\u001b[0;34m\u001b[0m\u001b[0;34m\u001b[0m\u001b[0m\n\u001b[0m\u001b[1;32m     11\u001b[0m     \u001b[0;32mraise\u001b[0m \u001b[0mValueError\u001b[0m\u001b[0;34m(\u001b[0m\u001b[0;34mf\"Carla module version {required_carla_version} is required.\"\u001b[0m\u001b[0;34m)\u001b[0m\u001b[0;34m\u001b[0m\u001b[0;34m\u001b[0m\u001b[0m\n\u001b[1;32m     12\u001b[0m \u001b[0;34m\u001b[0m\u001b[0m\n",
      "\u001b[0;31mAttributeError\u001b[0m: module 'carla' has no attribute '__version__'"
     ]
    }
   ],
   "source": [
    "import sys\n",
    "import carla\n",
    "\n",
    "# Check Python version\n",
    "if sys.version_info < (3, 6, 9):\n",
    "    raise ValueError(\"Python version 3.6.9 or higher is required.\")\n",
    "\n",
    "# Check Carla module version\n",
    "required_carla_version = \"0.9.13\"\n",
    "if carla.__version__ != required_carla_version:\n",
    "    raise ValueError(f\"Carla module version {required_carla_version} is required.\")\n",
    "\n",
    "# If the code reaches this point, the versions are correct\n",
    "print(\"Python and Carla module versions are correct.\")\n",
    "## todo fix carla version\n",
    "for member in dir(carla):\n",
    "    print(member)"
   ]
  },
  {
   "cell_type": "markdown",
   "metadata": {},
   "source": [
    "## Connect to client and get world object"
   ]
  },
  {
   "cell_type": "code",
   "execution_count": 2,
   "metadata": {},
   "outputs": [],
   "source": [
    "# Connect to the client and get the world object\n",
    "client = carla.Client('localhost', 2000) \n",
    "world = client.get_world() \n"
   ]
  },
  {
   "cell_type": "markdown",
   "metadata": {},
   "source": [
    "## Load Town04"
   ]
  },
  {
   "cell_type": "code",
   "execution_count": 3,
   "metadata": {},
   "outputs": [],
   "source": [
    "world = client.load_world('Town04')\n",
    "# world methods\n",
    "# methods = dir(world)\n",
    "# # print(methods)\n",
    "# for method in methods:\n",
    "#     print(method)"
   ]
  },
  {
   "cell_type": "code",
   "execution_count": 4,
   "metadata": {},
   "outputs": [],
   "source": [
    "# Get the blueprint library and the spawn points for the map\n",
    "bp_lib = world.get_blueprint_library() \n",
    "spawn_points = world.get_map().get_spawn_points() "
   ]
  },
  {
   "cell_type": "code",
   "execution_count": 11,
   "metadata": {},
   "outputs": [
    {
     "data": {
      "image/png": "[encoded data removed]",
      "text/plain": [
       "<Figure size 432x288 with 1 Axes>"
      ]
     },
     "metadata": {
      "needs_background": "light"
     },
     "output_type": "display_data"
    }
   ],
   "source": [
    "import carla\n",
    "import numpy as np\n",
    "import matplotlib.pyplot as plt\n",
    "from mpl_toolkits.mplot3d import Axes3D\n",
    "\n",
    "transform = random.choice(spawn_points) # carla.Transform()  # replace with your Transform object\n",
    "position = np.array([transform.location.x, transform.location.y, transform.location.z])\n",
    "rotation = np.array([transform.rotation.pitch, transform.rotation.yaw, transform.rotation.roll])\n",
    "\n",
    "fig = plt.figure()\n",
    "ax = fig.add_subplot(111, projection='3d')\n",
    "ax.scatter(position[0], position[1], position[2], marker='o', label='position')\n",
    "ax.scatter(rotation[0], rotation[1], rotation[2], marker='^', label='rotation')\n",
    "ax.set_xlabel('X')\n",
    "ax.set_ylabel('Y')\n",
    "ax.set_zlabel('Z')\n",
    "ax.legend()\n",
    "plt.show()"
   ]
  },
  {
   "cell_type": "code",
   "execution_count": 5,
   "metadata": {},
   "outputs": [
    {
     "ename": "NameError",
     "evalue": "name 'random' is not defined",
     "output_type": "error",
     "traceback": [
      "\u001b[0;31m---------------------------------------------------------------------------\u001b[0m",
      "\u001b[0;31mNameError\u001b[0m                                 Traceback (most recent call last)",
      "\u001b[0;32m<ipython-input-5-a72b76a24a1a>\u001b[0m in \u001b[0;36m<module>\u001b[0;34m\u001b[0m\n\u001b[0;32m----> 1\u001b[0;31m \u001b[0mprint\u001b[0m\u001b[0;34m(\u001b[0m\u001b[0mtype\u001b[0m\u001b[0;34m(\u001b[0m\u001b[0mrandom\u001b[0m\u001b[0;34m.\u001b[0m\u001b[0mchoice\u001b[0m\u001b[0;34m(\u001b[0m\u001b[0mspawn_points\u001b[0m\u001b[0;34m)\u001b[0m\u001b[0;34m)\u001b[0m\u001b[0;34m)\u001b[0m \u001b[0;31m# carla.libcarla.Transform\u001b[0m\u001b[0;34m\u001b[0m\u001b[0;34m\u001b[0m\u001b[0m\n\u001b[0m\u001b[1;32m      2\u001b[0m \u001b[0mprint\u001b[0m\u001b[0;34m(\u001b[0m\u001b[0mtype\u001b[0m\u001b[0;34m(\u001b[0m\u001b[0mspawn_points\u001b[0m\u001b[0;34m)\u001b[0m\u001b[0;34m)\u001b[0m \u001b[0;31m#list\u001b[0m\u001b[0;34m\u001b[0m\u001b[0;34m\u001b[0m\u001b[0m\n\u001b[1;32m      3\u001b[0m \u001b[0mprint\u001b[0m\u001b[0;34m(\u001b[0m\u001b[0mlen\u001b[0m\u001b[0;34m(\u001b[0m\u001b[0mspawn_points\u001b[0m\u001b[0;34m)\u001b[0m\u001b[0;34m)\u001b[0m \u001b[0;31m# 155\u001b[0m\u001b[0;34m\u001b[0m\u001b[0;34m\u001b[0m\u001b[0m\n\u001b[1;32m      4\u001b[0m \u001b[0mprint\u001b[0m\u001b[0;34m(\u001b[0m\u001b[0mspawn_points\u001b[0m\u001b[0;34m[\u001b[0m\u001b[0;36m0\u001b[0m\u001b[0;34m]\u001b[0m\u001b[0;34m)\u001b[0m \u001b[0;31m# <carla.libcarla.Transform at 0x7f390c035570>\u001b[0m\u001b[0;34m\u001b[0m\u001b[0;34m\u001b[0m\u001b[0m\n\u001b[1;32m      5\u001b[0m \u001b[0mprint\u001b[0m\u001b[0;34m(\u001b[0m\u001b[0mtype\u001b[0m\u001b[0;34m(\u001b[0m\u001b[0mspawn_points\u001b[0m\u001b[0;34m[\u001b[0m\u001b[0;36m0\u001b[0m\u001b[0;34m]\u001b[0m\u001b[0;34m)\u001b[0m\u001b[0;34m)\u001b[0m \u001b[0;31m#carla.libcarla.Transform\u001b[0m\u001b[0;34m\u001b[0m\u001b[0;34m\u001b[0m\u001b[0m\n",
      "\u001b[0;31mNameError\u001b[0m: name 'random' is not defined"
     ]
    }
   ],
   "source": [
    "print(type(random.choice(spawn_points))) # carla.libcarla.Transform\n",
    "print(type(spawn_points)) #list\n",
    "print(len(spawn_points)) # 155\n",
    "print(spawn_points[0]) # <carla.libcarla.Transform at 0x7f390c035570>\n",
    "print(type(spawn_points[0])) #carla.libcarla.Transform\n",
    "\n",
    "for i in range(0, len(spawn_points)):\n",
    "    transform = spawn_points[i] # carla.Transform()  # replace with your Transform object\n",
    "    for k, v in transform.__dict__.items():\n",
    "        print(f\"{k}: {v}\")   \n",
    "\n",
    "# type (spawn_points)\n",
    "\n",
    "for k, v in spawn_points[0].__dict__.items():\n",
    "    print(f\"{k}: {v}\") "
   ]
  },
  {
   "cell_type": "code",
   "execution_count": 6,
   "metadata": {},
   "outputs": [
    {
     "name": "stdout",
     "output_type": "stream",
     "text": [
      "__class__\n",
      "__delattr__\n",
      "__dict__\n",
      "__dir__\n",
      "__doc__\n",
      "__eq__\n",
      "__format__\n",
      "__ge__\n",
      "__getattribute__\n",
      "__gt__\n",
      "__hash__\n",
      "__init__\n",
      "__init_subclass__\n",
      "__instance_size__\n",
      "__le__\n",
      "__lt__\n",
      "__module__\n",
      "__ne__\n",
      "__new__\n",
      "__reduce__\n",
      "__reduce_ex__\n",
      "__repr__\n",
      "__setattr__\n",
      "__sizeof__\n",
      "__str__\n",
      "__subclasshook__\n",
      "__weakref__\n",
      "get_forward_vector\n",
      "get_inverse_matrix\n",
      "get_matrix\n",
      "get_right_vector\n",
      "get_up_vector\n",
      "location\n",
      "rotation\n",
      "transform\n",
      "transform_vector\n"
     ]
    }
   ],
   "source": [
    "transform = spawn_points[0]\n",
    "type(transform)\n",
    "transform.__dict__.items()\n",
    "methods = dir(transform)\n",
    "# print(methods)\n",
    "for method in methods:\n",
    "    print(method)"
   ]
  },
  {
   "cell_type": "code",
   "execution_count": 25,
   "metadata": {},
   "outputs": [
    {
     "data": {
      "text/plain": [
       "carla.libcarla.Vector3D"
      ]
     },
     "execution_count": 25,
     "metadata": {},
     "output_type": "execute_result"
    }
   ],
   "source": [
    "type(transform.__eq__(transform))\n",
    "transform.__eq__(transform)\n",
    "type(transform.get_forward_vector())"
   ]
  },
  {
   "cell_type": "markdown",
   "metadata": {},
   "source": [
    "## Spawn a vehicle"
   ]
  },
  {
   "cell_type": "code",
   "execution_count": 7,
   "metadata": {},
   "outputs": [
    {
     "ename": "NameError",
     "evalue": "name 'random' is not defined",
     "output_type": "error",
     "traceback": [
      "\u001b[0;31m---------------------------------------------------------------------------\u001b[0m",
      "\u001b[0;31mNameError\u001b[0m                                 Traceback (most recent call last)",
      "\u001b[0;32m<ipython-input-7-9eb37d7d5931>\u001b[0m in \u001b[0;36m<module>\u001b[0;34m\u001b[0m\n\u001b[1;32m      3\u001b[0m \u001b[0;34m\u001b[0m\u001b[0m\n\u001b[1;32m      4\u001b[0m \u001b[0;31m# Try spawning the vehicle at a randomly chosen spawn point\u001b[0m\u001b[0;34m\u001b[0m\u001b[0;34m\u001b[0m\u001b[0;34m\u001b[0m\u001b[0m\n\u001b[0;32m----> 5\u001b[0;31m \u001b[0mvehicle\u001b[0m \u001b[0;34m=\u001b[0m \u001b[0mworld\u001b[0m\u001b[0;34m.\u001b[0m\u001b[0mtry_spawn_actor\u001b[0m\u001b[0;34m(\u001b[0m\u001b[0mvehicle_bp\u001b[0m\u001b[0;34m,\u001b[0m \u001b[0mrandom\u001b[0m\u001b[0;34m.\u001b[0m\u001b[0mchoice\u001b[0m\u001b[0;34m(\u001b[0m\u001b[0mspawn_points\u001b[0m\u001b[0;34m)\u001b[0m\u001b[0;34m)\u001b[0m\u001b[0;34m\u001b[0m\u001b[0;34m\u001b[0m\u001b[0m\n\u001b[0m",
      "\u001b[0;31mNameError\u001b[0m: name 'random' is not defined"
     ]
    }
   ],
   "source": [
    "# Get the blueprint for the vehicle you want\n",
    "vehicle_bp = bp_lib.find('vehicle.lincoln.mkz_2020') \n",
    "\n",
    "# Try spawning the vehicle at a randomly chosen spawn point\n",
    "vehicle = world.try_spawn_actor(vehicle_bp, random.choice(spawn_points))"
   ]
  },
  {
   "cell_type": "markdown",
   "metadata": {},
   "source": [
    "## List all available vehicles  "
   ]
  },
  {
   "cell_type": "code",
   "execution_count": 7,
   "metadata": {},
   "outputs": [
    {
     "name": "stdout",
     "output_type": "stream",
     "text": [
      "\n",
      "Available Vehicles in CARLA:\n",
      "----------------------------------------\n",
      "\n",
      "AUDI:\n",
      "--------------------\n",
      "Model: a2\n",
      "Full ID: vehicle.audi.a2\n",
      "Tags: a2, audi, vehicle\n",
      "----------\n",
      "Model: etron\n",
      "Full ID: vehicle.audi.etron\n",
      "Tags: etron, audi, vehicle\n",
      "----------\n",
      "Model: tt\n",
      "Full ID: vehicle.audi.tt\n",
      "Tags: tt, audi, vehicle\n",
      "----------\n",
      "\n",
      "BH:\n",
      "--------------------\n",
      "Model: crossbike\n",
      "Full ID: vehicle.bh.crossbike\n",
      "Tags: crossbike, bh, vehicle\n",
      "----------\n",
      "\n",
      "BMW:\n",
      "--------------------\n",
      "Model: grandtourer\n",
      "Full ID: vehicle.bmw.grandtourer\n",
      "Tags: grandtourer, bmw, vehicle\n",
      "----------\n",
      "\n",
      "CARLAMOTORS:\n",
      "--------------------\n",
      "Model: carlacola\n",
      "Full ID: vehicle.carlamotors.carlacola\n",
      "Tags: carlacola, carlamotors, vehicle\n",
      "----------\n",
      "Model: firetruck\n",
      "Full ID: vehicle.carlamotors.firetruck\n",
      "Tags: carlamotors, firetruck, vehicle\n",
      "----------\n",
      "\n",
      "CHEVROLET:\n",
      "--------------------\n",
      "Model: impala\n",
      "Full ID: vehicle.chevrolet.impala\n",
      "Tags: impala, chevrolet, vehicle\n",
      "----------\n",
      "\n",
      "CITROEN:\n",
      "--------------------\n",
      "Model: c3\n",
      "Full ID: vehicle.citroen.c3\n",
      "Tags: c3, citroen, vehicle\n",
      "----------\n",
      "\n",
      "DIAMONDBACK:\n",
      "--------------------\n",
      "Model: century\n",
      "Full ID: vehicle.diamondback.century\n",
      "Tags: century, diamondback, vehicle\n",
      "----------\n",
      "\n",
      "DODGE:\n",
      "--------------------\n",
      "Model: charger_2020\n",
      "Full ID: vehicle.dodge.charger_2020\n",
      "Tags: charger_2020, dodge, vehicle\n",
      "----------\n",
      "Model: charger_police\n",
      "Full ID: vehicle.dodge.charger_police\n",
      "Tags: charger_police, dodge, vehicle\n",
      "----------\n",
      "Model: charger_police_2020\n",
      "Full ID: vehicle.dodge.charger_police_2020\n",
      "Tags: charger_police_2020, dodge, vehicle\n",
      "----------\n",
      "\n",
      "FORD:\n",
      "--------------------\n",
      "Model: ambulance\n",
      "Full ID: vehicle.ford.ambulance\n",
      "Tags: ambulance, ford, vehicle\n",
      "----------\n",
      "Model: crown\n",
      "Full ID: vehicle.ford.crown\n",
      "Tags: crown, ford, vehicle\n",
      "----------\n",
      "Model: mustang\n",
      "Full ID: vehicle.ford.mustang\n",
      "Tags: mustang, ford, vehicle\n",
      "----------\n",
      "\n",
      "GAZELLE:\n",
      "--------------------\n",
      "Model: omafiets\n",
      "Full ID: vehicle.gazelle.omafiets\n",
      "Tags: omafiets, gazelle, vehicle\n",
      "----------\n",
      "\n",
      "HARLEY-DAVIDSON:\n",
      "--------------------\n",
      "Model: low_rider\n",
      "Full ID: vehicle.harley-davidson.low_rider\n",
      "Tags: low_rider, harley-davidson, vehicle\n",
      "----------\n",
      "\n",
      "JEEP:\n",
      "--------------------\n",
      "Model: wrangler_rubicon\n",
      "Full ID: vehicle.jeep.wrangler_rubicon\n",
      "Tags: wrangler_rubicon, jeep, vehicle\n",
      "----------\n",
      "\n",
      "KAWASAKI:\n",
      "--------------------\n",
      "Model: ninja\n",
      "Full ID: vehicle.kawasaki.ninja\n",
      "Tags: ninja, kawasaki, vehicle\n",
      "----------\n",
      "\n",
      "LINCOLN:\n",
      "--------------------\n",
      "Model: mkz_2017\n",
      "Full ID: vehicle.lincoln.mkz_2017\n",
      "Tags: mkz_2017, lincoln, vehicle\n",
      "----------\n",
      "Model: mkz_2020\n",
      "Full ID: vehicle.lincoln.mkz_2020\n",
      "Tags: mkz_2020, lincoln, vehicle\n",
      "----------\n",
      "\n",
      "MERCEDES:\n",
      "--------------------\n",
      "Model: coupe\n",
      "Full ID: vehicle.mercedes.coupe\n",
      "Tags: coupe, mercedes, vehicle\n",
      "----------\n",
      "Model: coupe_2020\n",
      "Full ID: vehicle.mercedes.coupe_2020\n",
      "Tags: coupe_2020, mercedes, vehicle\n",
      "----------\n",
      "Model: sprinter\n",
      "Full ID: vehicle.mercedes.sprinter\n",
      "Tags: sprinter, mercedes, vehicle\n",
      "----------\n",
      "\n",
      "MICRO:\n",
      "--------------------\n",
      "Model: microlino\n",
      "Full ID: vehicle.micro.microlino\n",
      "Tags: microlino, micro, vehicle\n",
      "----------\n",
      "\n",
      "MINI:\n",
      "--------------------\n",
      "Model: cooper_s\n",
      "Full ID: vehicle.mini.cooper_s\n",
      "Tags: cooper_s, mini, vehicle\n",
      "----------\n",
      "Model: cooper_s_2021\n",
      "Full ID: vehicle.mini.cooper_s_2021\n",
      "Tags: mini, cooper_s_2021, vehicle\n",
      "----------\n",
      "\n",
      "NISSAN:\n",
      "--------------------\n",
      "Model: micra\n",
      "Full ID: vehicle.nissan.micra\n",
      "Tags: micra, nissan, vehicle\n",
      "----------\n",
      "Model: patrol\n",
      "Full ID: vehicle.nissan.patrol\n",
      "Tags: patrol, nissan, vehicle\n",
      "----------\n",
      "Model: patrol_2021\n",
      "Full ID: vehicle.nissan.patrol_2021\n",
      "Tags: nissan, patrol_2021, vehicle\n",
      "----------\n",
      "\n",
      "SEAT:\n",
      "--------------------\n",
      "Model: leon\n",
      "Full ID: vehicle.seat.leon\n",
      "Tags: leon, seat, vehicle\n",
      "----------\n",
      "\n",
      "TESLA:\n",
      "--------------------\n",
      "Model: cybertruck\n",
      "Full ID: vehicle.tesla.cybertruck\n",
      "Tags: cybertruck, tesla, vehicle\n",
      "----------\n",
      "Model: model3\n",
      "Full ID: vehicle.tesla.model3\n",
      "Tags: tesla, model3, vehicle\n",
      "----------\n",
      "\n",
      "TOYOTA:\n",
      "--------------------\n",
      "Model: prius\n",
      "Full ID: vehicle.toyota.prius\n",
      "Tags: prius, toyota, vehicle\n",
      "----------\n",
      "\n",
      "VESPA:\n",
      "--------------------\n",
      "Model: zx125\n",
      "Full ID: vehicle.vespa.zx125\n",
      "Tags: zx125, vespa, vehicle\n",
      "----------\n",
      "\n",
      "VOLKSWAGEN:\n",
      "--------------------\n",
      "Model: t2\n",
      "Full ID: vehicle.volkswagen.t2\n",
      "Tags: volkswagen, t2, vehicle\n",
      "----------\n",
      "Model: t2_2021\n",
      "Full ID: vehicle.volkswagen.t2_2021\n",
      "Tags: t2_2021, volkswagen, vehicle\n",
      "----------\n",
      "\n",
      "YAMAHA:\n",
      "--------------------\n",
      "Model: yzf\n",
      "Full ID: vehicle.yamaha.yzf\n",
      "Tags: yzf, yamaha, vehicle\n",
      "----------\n"
     ]
    }
   ],
   "source": [
    "vehicles = bp_lib.filter('vehicle.*')\n",
    "\n",
    "# Print vehicle information\n",
    "print(\"\\nAvailable Vehicles in CARLA:\")\n",
    "print(\"-\" * 40)\n",
    "\n",
    "# Group vehicles by manufacturer\n",
    "vehicle_dict = {}\n",
    "for vehicle in vehicles:\n",
    "    # Get manufacturer (first part of ID after 'vehicle.')\n",
    "    manufacturer = vehicle.id.split('.')[1]\n",
    "    \n",
    "    if manufacturer not in vehicle_dict:\n",
    "        vehicle_dict[manufacturer] = []\n",
    "    \n",
    "    vehicle_dict[manufacturer].append({\n",
    "        'id': vehicle.id,\n",
    "        'model': vehicle.id.split('.')[-1],\n",
    "        'tags': vehicle.tags\n",
    "    })\n",
    "\n",
    "# Print organized results\n",
    "for manufacturer in sorted(vehicle_dict.keys()):\n",
    "    print(f\"\\n{manufacturer.upper()}:\")\n",
    "    print(\"-\" * 20)\n",
    "    for vehicle in sorted(vehicle_dict[manufacturer], key=lambda x: x['id']):\n",
    "        print(f\"Model: {vehicle['model']}\")\n",
    "        print(f\"Full ID: {vehicle['id']}\")\n",
    "        print(f\"Tags: {', '.join(vehicle['tags'])}\")\n",
    "        print(\"-\" * 10)"
   ]
  },
  {
   "cell_type": "markdown",
   "metadata": {},
   "source": [
    "## Latex table with Carla vehicle models"
   ]
  },
  {
   "cell_type": "code",
   "execution_count": 40,
   "metadata": {},
   "outputs": [
    {
     "name": "stdout",
     "output_type": "stream",
     "text": [
      "\\begin{table}[h]\n",
      "\\centering\n",
      "\\begin{tabular}{|l|l|l|}\n",
      "\\hline\n",
      "Manufacturer & Model & Blueprint ID \\\\\n",
      "\\hline\n",
      "audi & a2 & vehicle.audi.a2 \\\\\n",
      "\\hline\n",
      "audi & etron & vehicle.audi.etron \\\\\n",
      "\\hline\n",
      "audi & tt & vehicle.audi.tt \\\\\n",
      "\\hline\n",
      "bh & crossbike & vehicle.bh.crossbike \\\\\n",
      "\\hline\n",
      "bmw & grandtourer & vehicle.bmw.grandtourer \\\\\n",
      "\\hline\n",
      "carlamotors & carlacola & vehicle.carlamotors.carlacola \\\\\n",
      "\\hline\n",
      "carlamotors & firetruck & vehicle.carlamotors.firetruck \\\\\n",
      "\\hline\n",
      "chevrolet & impala & vehicle.chevrolet.impala \\\\\n",
      "\\hline\n",
      "citroen & c3 & vehicle.citroen.c3 \\\\\n",
      "\\hline\n",
      "diamondback & century & vehicle.diamondback.century \\\\\n",
      "\\hline\n",
      "dodge & charger_2020 & vehicle.dodge.charger_2020 \\\\\n",
      "\\hline\n",
      "dodge & charger_police & vehicle.dodge.charger_police \\\\\n",
      "\\hline\n",
      "dodge & charger_police_2020 & vehicle.dodge.charger_police_2020 \\\\\n",
      "\\hline\n",
      "ford & ambulance & vehicle.ford.ambulance \\\\\n",
      "\\hline\n",
      "ford & crown & vehicle.ford.crown \\\\\n",
      "\\hline\n",
      "ford & mustang & vehicle.ford.mustang \\\\\n",
      "\\hline\n",
      "gazelle & omafiets & vehicle.gazelle.omafiets \\\\\n",
      "\\hline\n",
      "harley-davidson & low_rider & vehicle.harley-davidson.low_rider \\\\\n",
      "\\hline\n",
      "jeep & wrangler_rubicon & vehicle.jeep.wrangler_rubicon \\\\\n",
      "\\hline\n",
      "kawasaki & ninja & vehicle.kawasaki.ninja \\\\\n",
      "\\hline\n",
      "lincoln & mkz_2017 & vehicle.lincoln.mkz_2017 \\\\\n",
      "\\hline\n",
      "lincoln & mkz_2020 & vehicle.lincoln.mkz_2020 \\\\\n",
      "\\hline\n",
      "mercedes & coupe & vehicle.mercedes.coupe \\\\\n",
      "\\hline\n",
      "mercedes & coupe_2020 & vehicle.mercedes.coupe_2020 \\\\\n",
      "\\hline\n",
      "mercedes & sprinter & vehicle.mercedes.sprinter \\\\\n",
      "\\hline\n",
      "micro & microlino & vehicle.micro.microlino \\\\\n",
      "\\hline\n",
      "mini & cooper_s & vehicle.mini.cooper_s \\\\\n",
      "\\hline\n",
      "mini & cooper_s_2021 & vehicle.mini.cooper_s_2021 \\\\\n",
      "\\hline\n",
      "nissan & micra & vehicle.nissan.micra \\\\\n",
      "\\hline\n",
      "nissan & patrol & vehicle.nissan.patrol \\\\\n",
      "\\hline\n",
      "nissan & patrol_2021 & vehicle.nissan.patrol_2021 \\\\\n",
      "\\hline\n",
      "seat & leon & vehicle.seat.leon \\\\\n",
      "\\hline\n",
      "tesla & cybertruck & vehicle.tesla.cybertruck \\\\\n",
      "\\hline\n",
      "tesla & model3 & vehicle.tesla.model3 \\\\\n",
      "\\hline\n",
      "toyota & prius & vehicle.toyota.prius \\\\\n",
      "\\hline\n",
      "vespa & zx125 & vehicle.vespa.zx125 \\\\\n",
      "\\hline\n",
      "volkswagen & t2 & vehicle.volkswagen.t2 \\\\\n",
      "\\hline\n",
      "volkswagen & t2_2021 & vehicle.volkswagen.t2_2021 \\\\\n",
      "\\hline\n",
      "yamaha & yzf & vehicle.yamaha.yzf \\\\\n",
      "\\hline\n",
      "\\end{tabular}\n",
      "\\caption{Available vehicles in CARLA simulator with their blueprint IDs}\n",
      "\\label{tab:carla-vehicles}\n",
      "\\end{table}\n"
     ]
    }
   ],
   "source": [
    "vehicles = bp_lib.filter('vehicle.*')\n",
    "\n",
    "# Start LaTeX table with centering\n",
    "print(\"\\\\begin{table}[h]\")\n",
    "print(\"\\\\centering\")\n",
    "print(\"\\\\begin{tabular}{|l|l|l|}\")\n",
    "print(\"\\\\hline\")\n",
    "print(\"Manufacturer & Model & Blueprint ID \\\\\\\\\")\n",
    "print(\"\\\\hline\")\n",
    "\n",
    "# Group vehicles by manufacturer\n",
    "vehicle_dict = {}\n",
    "for vehicle in vehicles:\n",
    "   manufacturer = vehicle.id.split('.')[1]\n",
    "   \n",
    "   if manufacturer not in vehicle_dict:\n",
    "       vehicle_dict[manufacturer] = []\n",
    "   \n",
    "   vehicle_dict[manufacturer].append({\n",
    "       'id': vehicle.id,\n",
    "       'model': vehicle.id.split('.')[-1],\n",
    "   })\n",
    "\n",
    "# Print organized results in LaTeX format\n",
    "for manufacturer in sorted(vehicle_dict.keys()):\n",
    "   manufacturer_vehicles = sorted(vehicle_dict[manufacturer], key=lambda x: x['model'])\n",
    "   \n",
    "   for vehicle in manufacturer_vehicles:\n",
    "       blueprint_id = f\"vehicle.{manufacturer}.{vehicle['model']}\"\n",
    "       print(f\"{manufacturer} & {vehicle['model']} & {blueprint_id} \\\\\\\\\")\n",
    "       print(\"\\\\hline\")\n",
    "\n",
    "# End LaTeX table\n",
    "print(\"\\\\end{tabular}\")\n",
    "print(\"\\\\caption{Available vehicles in CARLA simulator with their blueprint IDs}\")\n",
    "print(\"\\\\label{tab:carla-vehicles}\")\n",
    "print(\"\\\\end{table}\")"
   ]
  },
  {
   "cell_type": "code",
   "execution_count": 8,
   "metadata": {},
   "outputs": [
    {
     "name": "stdout",
     "output_type": "stream",
     "text": [
      "__class__\n",
      "__contains__\n",
      "__delattr__\n",
      "__delitem__\n",
      "__dir__\n",
      "__doc__\n",
      "__eq__\n",
      "__format__\n",
      "__ge__\n",
      "__getattribute__\n",
      "__getitem__\n",
      "__gt__\n",
      "__hash__\n",
      "__init__\n",
      "__init_subclass__\n",
      "__iter__\n",
      "__le__\n",
      "__len__\n",
      "__lt__\n",
      "__ne__\n",
      "__new__\n",
      "__reduce__\n",
      "__reduce_ex__\n",
      "__repr__\n",
      "__setattr__\n",
      "__setitem__\n",
      "__sizeof__\n",
      "__str__\n",
      "__subclasshook__\n",
      "clear\n",
      "copy\n",
      "fromkeys\n",
      "get\n",
      "items\n",
      "keys\n",
      "pop\n",
      "popitem\n",
      "setdefault\n",
      "update\n",
      "values\n"
     ]
    }
   ],
   "source": [
    "methods = dir(vehicle)\n",
    "for method in methods:\n",
    "    print(method)"
   ]
  },
  {
   "cell_type": "markdown",
   "metadata": {},
   "source": [
    "## Spawn cyclist"
   ]
  },
  {
   "cell_type": "code",
   "execution_count": 9,
   "metadata": {},
   "outputs": [],
   "source": [
    "# Get the blueprint for the vehicle you want\n",
    "vehicle_bp = bp_lib.find('vehicle.bh.crossbike') \n",
    "\n",
    "# Try spawning the vehicle at a randomly chosen spawn point\n",
    "vehicle = world.try_spawn_actor(vehicle_bp, random.choice(spawn_points))\n",
    "\n"
   ]
  },
  {
   "cell_type": "code",
   "execution_count": 10,
   "metadata": {},
   "outputs": [],
   "source": [
    "for v in world.get_actors().filter('*vehicle*'): \n",
    "    v.set_autopilot(True) "
   ]
  },
  {
   "cell_type": "code",
   "execution_count": 11,
   "metadata": {},
   "outputs": [],
   "source": [
    "# Move the spectator behind the vehicle \n",
    "spectator = world.get_spectator() \n",
    "transform = carla.Transform(vehicle.get_transform().transform(carla.Location(x=-4,z=2.5)),vehicle.get_transform().rotation) \n",
    "spectator.set_transform(transform) "
   ]
  },
  {
   "cell_type": "markdown",
   "metadata": {},
   "source": [
    "## Transforms   "
   ]
  },
  {
   "cell_type": "code",
   "execution_count": 12,
   "metadata": {},
   "outputs": [
    {
     "data": {
      "image/png": "[encoded data removed]",
      "text/plain": [
       "<Figure size 864x576 with 1 Axes>"
      ]
     },
     "metadata": {
      "needs_background": "light"
     },
     "output_type": "display_data"
    },
    {
     "name": "stdout",
     "output_type": "stream",
     "text": [
      "Vehicle Location: Location(x=2.000000, y=1.000000, z=0.500000)\n",
      "Vehicle Rotation: Rotation(pitch=0.000000, yaw=45.000000, roll=0.000000)\n",
      "Camera Relative Location: Location(x=-0.828427, y=-1.828427, z=3.000000)\n",
      "Camera World Location: Vector3D(x=-0.828427, y=-1.828427, z=3.000000)\n"
     ]
    },
    {
     "data": {
      "text/plain": [
       "(<carla.libcarla.Transform at 0x7f16c1c7b1b8>,\n",
       " <carla.libcarla.Vector3D at 0x7f16c9f49348>)"
      ]
     },
     "execution_count": 12,
     "metadata": {},
     "output_type": "execute_result"
    }
   ],
   "source": [
    "import numpy as np\n",
    "import matplotlib.pyplot as plt\n",
    "from mpl_toolkits.mplot3d import Axes3D\n",
    "import carla\n",
    "import math\n",
    "\n",
    "def plot_coordinate_frame(ax, origin, rotation, scale=1.0, label=''):\n",
    "    \"\"\"Plot a coordinate frame with given origin and rotation.\"\"\"\n",
    "    # Create rotation matrix from euler angles (in radians)\n",
    "    pitch, yaw, roll = rotation.pitch * np.pi/180, rotation.yaw * np.pi/180, rotation.roll * np.pi/180\n",
    "    \n",
    "    # Rotation matrices for each axis\n",
    "    Rx = np.array([[1, 0, 0],\n",
    "                   [0, np.cos(pitch), -np.sin(pitch)],\n",
    "                   [0, np.sin(pitch), np.cos(pitch)]])\n",
    "    \n",
    "    Ry = np.array([[np.cos(yaw), 0, np.sin(yaw)],\n",
    "                   [0, 1, 0],\n",
    "                   [-np.sin(yaw), 0, np.cos(yaw)]])\n",
    "    \n",
    "    Rz = np.array([[np.cos(roll), -np.sin(roll), 0],\n",
    "                   [np.sin(roll), np.cos(roll), 0],\n",
    "                   [0, 0, 1]])\n",
    "    \n",
    "    # Combined rotation matrix\n",
    "    R = Rz @ Ry @ Rx\n",
    "    \n",
    "    # Unit vectors\n",
    "    vectors = np.eye(3) * scale\n",
    "    \n",
    "    # Transform and plot each axis\n",
    "    colors = ['r', 'g', 'b']\n",
    "    labels = ['X', 'Y', 'Z']\n",
    "    \n",
    "    for i in range(3):\n",
    "        v = R @ vectors[i]\n",
    "        ax.quiver(origin.x, origin.y, origin.z,\n",
    "                 v[0], v[1], v[2],\n",
    "                 color=colors[i], label=f'{label}{labels[i]}')\n",
    "\n",
    "def demonstrate_transform():\n",
    "    # Create figure\n",
    "    fig = plt.figure(figsize=(12, 8))\n",
    "    ax = fig.add_subplot(111, projection='3d')\n",
    "    \n",
    "    # World coordinate frame\n",
    "    world_origin = carla.Location(0, 0, 0)\n",
    "    world_rotation = carla.Rotation(0, 0, 0)\n",
    "    plot_coordinate_frame(ax, world_origin, world_rotation, scale=1.0, label='World_')\n",
    "    \n",
    "    # Vehicle coordinate frame\n",
    "    vehicle_loc = carla.Location(2, 1, 0.5)\n",
    "    vehicle_rot = carla.Rotation(pitch=0, yaw=45, roll=0)  # 45-degree yaw\n",
    "    plot_coordinate_frame(ax, vehicle_loc, vehicle_rot, scale=0.5, label='Vehicle_')\n",
    "    \n",
    "    # Camera coordinate frame (relative to vehicle)\n",
    "    camera_relative = carla.Location(x=-4, z=2.5)  # As in your spectator code\n",
    "    vehicle_transform = carla.Transform(vehicle_loc, vehicle_rot)\n",
    "    camera_world = vehicle_transform.transform(camera_relative)\n",
    "    \n",
    "    plot_coordinate_frame(ax, camera_world, vehicle_rot, scale=0.3, label='Camera_')\n",
    "    \n",
    "    # Plot points and connecting lines\n",
    "    ax.plot([vehicle_loc.x, camera_world.x],\n",
    "            [vehicle_loc.y, camera_world.y],\n",
    "            [vehicle_loc.z, camera_world.z],\n",
    "            'k--', label='Camera Offset')\n",
    "    \n",
    "    # Set labels and title\n",
    "    ax.set_xlabel('X')\n",
    "    ax.set_ylabel('Y')\n",
    "    ax.set_zlabel('Z')\n",
    "    ax.set_title('CARLA Coordinate Transformations')\n",
    "    \n",
    "    # Set equal aspect ratio\n",
    "    ax.set_box_aspect([1,1,1])\n",
    "    \n",
    "    # Add legend\n",
    "    ax.legend()\n",
    "    \n",
    "    # Show grid\n",
    "    ax.grid(True)\n",
    "    \n",
    "    plt.show()\n",
    "\n",
    "# Example usage\n",
    "demonstrate_transform()\n",
    "\n",
    "# Demonstration of transform calculations\n",
    "def explain_transform():\n",
    "    # Create a vehicle transform\n",
    "    vehicle_loc = carla.Location(2, 1, 0.5)\n",
    "    vehicle_rot = carla.Rotation(pitch=0, yaw=45, roll=0)\n",
    "    vehicle_transform = carla.Transform(vehicle_loc, vehicle_rot)\n",
    "    \n",
    "    # Create relative camera location\n",
    "    camera_relative = carla.Location(x=-4, z=2.5)\n",
    "    \n",
    "    # Get world camera position\n",
    "    camera_world = vehicle_transform.transform(camera_relative)\n",
    "    \n",
    "    print(\"Vehicle Location:\", vehicle_loc)\n",
    "    print(\"Vehicle Rotation:\", vehicle_rot)\n",
    "    print(\"Camera Relative Location:\", camera_relative)\n",
    "    print(\"Camera World Location:\", camera_world)\n",
    "    \n",
    "    return vehicle_transform, camera_world\n",
    "\n",
    "explain_transform()"
   ]
  },
  {
   "cell_type": "markdown",
   "metadata": {},
   "source": [
    "## Set autopilot"
   ]
  },
  {
   "cell_type": "code",
   "execution_count": 13,
   "metadata": {},
   "outputs": [
    {
     "data": {
      "text/plain": [
       "carla.libcarla.Vehicle"
      ]
     },
     "execution_count": 13,
     "metadata": {},
     "output_type": "execute_result"
    }
   ],
   "source": [
    "# for v in world.get_actors().filter('*vehicle*'): \n",
    "#     v.set_autopilot(True) \n",
    "\n",
    "type(world.get_actors().filter('*vehicle*')) #carla.libcarla.ActorList\n",
    "type(world.get_actors().filter('*vehicle*')[0]) #carla.libcarla.Vehicle\n"
   ]
  },
  {
   "cell_type": "code",
   "execution_count": 14,
   "metadata": {},
   "outputs": [],
   "source": [
    "vehicle.set_autopilot(True)"
   ]
  },
  {
   "cell_type": "markdown",
   "metadata": {},
   "source": [
    "## Follow vehicle"
   ]
  },
  {
   "cell_type": "code",
   "execution_count": 15,
   "metadata": {},
   "outputs": [
    {
     "name": "stdout",
     "output_type": "stream",
     "text": [
      "\n",
      "Camera following stopped by user\n"
     ]
    }
   ],
   "source": [
    "import time\n",
    "import math\n",
    "\n",
    "def follow_vehicle_with_camera(world, vehicle, spectator):\n",
    "    \"\"\"\n",
    "    Creates a smooth following camera that tracks a vehicle from behind.\n",
    "    \n",
    "    Args:\n",
    "        world: CARLA world object\n",
    "        vehicle: The vehicle actor to follow\n",
    "        spectator: The spectator object to control camera view\n",
    "    \"\"\"\n",
    "     \n",
    "    try:\n",
    "        while True:\n",
    "            # Update spectator transform to follow vehicle\n",
    "            transform = carla.Transform(vehicle.get_transform().transform(carla.Location(x=-4,z=2.5)),vehicle.get_transform().rotation)\n",
    "            spectator.set_transform(transform)\n",
    "            \n",
    "            # Add a small delay to control update frequency and reduce CPU usage\n",
    "            time.sleep(0.01)\n",
    "            \n",
    "    except KeyboardInterrupt:\n",
    "        print(\"\\nCamera following stopped by user\")\n",
    "\n",
    "follow_vehicle_with_camera(world, vehicle, spectator)        "
   ]
  },
  {
   "cell_type": "markdown",
   "metadata": {},
   "source": [
    "## Follow vehicle with changing views"
   ]
  },
  {
   "cell_type": "code",
   "execution_count": 19,
   "metadata": {},
   "outputs": [
    {
     "data": {
      "text/plain": [
       "'\\n# Start the following camera in a separate thread\\nimport threading\\ncamera_thread = threading.Thread(target=follow_vehicle_with_camera, args=(world, vehicle, spectator))\\ncamera_thread.start()\\n\\n# Now you can modify the view at any time:\\nset_front_view()  # Switch to front view\\ntime.sleep(5)     # Watch from front for 5 seconds\\nset_right_profile()  # Switch to right side view\\ntime.sleep(5)     # Watch from right for 5 seconds\\nset_custom_view(x=3, y=3, z=5, pitch=-15, yaw=45)  # Switch to custom angle\\n'"
      ]
     },
     "execution_count": 19,
     "metadata": {},
     "output_type": "execute_result"
    }
   ],
   "source": [
    "import carla\n",
    "import time\n",
    "import math\n",
    "\n",
    "# Global camera configuration\n",
    "class CameraConfig:\n",
    "    def __init__(self):\n",
    "        # Default to rear view\n",
    "        self.x_offset = -4.0  # negative is behind, positive is in front\n",
    "        self.y_offset = 0.0   # negative is left, positive is right\n",
    "        self.z_offset = 2.5   # height above vehicle\n",
    "        self.rotation_offset = carla.Rotation(0, 0, 0)  # pitch, yaw, roll offsets\n",
    "\n",
    "# Create global instance\n",
    "camera_config = CameraConfig()\n",
    "\n",
    "# Preset view configurations\n",
    "def set_rear_view():\n",
    "    camera_config.x_offset = -4.0\n",
    "    camera_config.y_offset = 0.0\n",
    "    camera_config.z_offset = 2.5\n",
    "    camera_config.rotation_offset = carla.Rotation(0, 0, 0)\n",
    "\n",
    "def set_front_view():\n",
    "    #camera_config.x_offset = 4.0\n",
    "    camera_config.x_offset = 1.5\n",
    "    camera_config.y_offset = 0.0\n",
    "    #camera_config.z_offset = 2.5\n",
    "    camera_config.z_offset = 1.5\n",
    "    camera_config.rotation_offset = carla.Rotation(0, 180, 0)  # Rotate 180° to face vehicle\n",
    "\n",
    "def set_right_profile():\n",
    "    camera_config.x_offset = 0.0\n",
    "    camera_config.y_offset = 4.0\n",
    "    camera_config.z_offset = 2.5\n",
    "    camera_config.rotation_offset = carla.Rotation(0, 90, 0)  # Rotate 90° to face vehicle\n",
    "\n",
    "def set_left_profile():\n",
    "    camera_config.x_offset = 0.0\n",
    "    camera_config.y_offset = -4.0\n",
    "    #camera_config.y_offset = -4.0\n",
    "    camera_config.z_offset = 2.5\n",
    "    camera_config.rotation_offset = carla.Rotation(0, -90, 0)  # Rotate -90° to face vehicle\n",
    "\n",
    "def set_top_down():\n",
    "    camera_config.x_offset = 0.0\n",
    "    camera_config.y_offset = 0.0\n",
    "    camera_config.z_offset = 8.0\n",
    "    camera_config.rotation_offset = carla.Rotation(-90, 0, 0)  # Look straight down\n",
    "\n",
    "def set_custom_view(x, y, z, pitch=0, yaw=0, roll=0):\n",
    "    camera_config.x_offset = x\n",
    "    camera_config.y_offset = y\n",
    "    camera_config.z_offset = z\n",
    "    camera_config.rotation_offset = carla.Rotation(pitch, yaw, roll)\n",
    "\n",
    "def follow_vehicle_with_camera(world, vehicle, spectator):\n",
    "    \"\"\"\n",
    "    Creates a configurable following camera that tracks a vehicle.\n",
    "    Camera position can be modified in real-time using the camera_config global.\n",
    "    \"\"\"\n",
    "    try:\n",
    "        while True:\n",
    "            # Get vehicle's transform\n",
    "            vehicle_transform = vehicle.get_transform()\n",
    "            \n",
    "            # Create relative location based on current camera configuration\n",
    "            relative_location = carla.Location(\n",
    "                x=camera_config.x_offset,\n",
    "                y=camera_config.y_offset,\n",
    "                z=camera_config.z_offset\n",
    "            )\n",
    "            \n",
    "            # Get world location for camera\n",
    "            camera_world_loc = vehicle_transform.transform(relative_location)\n",
    "            \n",
    "            # Combine vehicle's rotation with camera rotation offset\n",
    "            camera_rotation = carla.Rotation(\n",
    "                pitch=vehicle_transform.rotation.pitch + camera_config.rotation_offset.pitch,\n",
    "                yaw=vehicle_transform.rotation.yaw + camera_config.rotation_offset.yaw,\n",
    "                roll=vehicle_transform.rotation.roll + camera_config.rotation_offset.roll\n",
    "            )\n",
    "            \n",
    "            # Create and set the new transform\n",
    "            transform = carla.Transform(camera_world_loc, camera_rotation)\n",
    "            spectator.set_transform(transform)\n",
    "            \n",
    "            time.sleep(0.01)\n",
    "            \n",
    "    except KeyboardInterrupt:\n",
    "        print(\"\\nCamera following stopped by user\")\n",
    "    except Exception as e:\n",
    "        print(f\"An error occurred: {e}\")\n",
    "\n",
    "# Example usage:\n",
    "\"\"\"\n",
    "# Start the following camera in a separate thread\n",
    "import threading\n",
    "camera_thread = threading.Thread(target=follow_vehicle_with_camera, args=(world, vehicle, spectator))\n",
    "camera_thread.start()\n",
    "\n",
    "# Now you can modify the view at any time:\n",
    "set_front_view()  # Switch to front view\n",
    "time.sleep(5)     # Watch from front for 5 seconds\n",
    "set_right_profile()  # Switch to right side view\n",
    "time.sleep(5)     # Watch from right for 5 seconds\n",
    "set_custom_view(x=3, y=3, z=5, pitch=-15, yaw=45)  # Switch to custom angle\n",
    "\"\"\""
   ]
  },
  {
   "cell_type": "code",
   "execution_count": null,
   "metadata": {},
   "outputs": [],
   "source": [
    "# Start the camera following in a separate thread\n",
    "import threading\n",
    "camera_thread = threading.Thread(target=follow_vehicle_with_camera, args=(world, vehicle, spectator))\n",
    "camera_thread.start()\n",
    "\n",
    "# Then you can modify the view at any time from your main program:\n",
    "while True:\n",
    "    command = input(\"Enter view (rear/front/right/left/top): \")\n",
    "    if command == \"rear\":\n",
    "        set_rear_view()\n",
    "    elif command == \"front\":\n",
    "        set_front_view()\n",
    "    elif command == \"right\":\n",
    "        set_right_profile()\n",
    "    elif command == \"left\":\n",
    "        set_left_profile()\n",
    "    elif command == \"top\":\n",
    "        set_top_down()\n",
    "    elif command == \"quit\":\n",
    "        break"
   ]
  },
  {
   "cell_type": "markdown",
   "metadata": {},
   "source": [
    "## Test camera positions    "
   ]
  },
  {
   "cell_type": "code",
   "execution_count": null,
   "metadata": {},
   "outputs": [
    {
     "name": "stdout",
     "output_type": "stream",
     "text": [
      "\n",
      "Testing Center view...\n",
      "Camera position: (-13.0, -100.1, 2.5)\n",
      "Camera rotation: (-0.0, 89.6, -0.0)\n",
      "\n",
      "Testing Right Close view...\n",
      "Camera position: (-14.9, -77.8, 2.0)\n",
      "Camera rotation: (0.0, 179.6, 0.0)\n",
      "\n",
      "Testing Right Far view...\n",
      "Camera position: (-16.8, -55.3, 2.0)\n",
      "Camera rotation: (0.0, 179.6, 0.0)\n",
      "\n",
      "Testing Left Close view...\n",
      "Camera position: (-10.7, -32.3, 2.0)\n",
      "Camera rotation: (-0.0, -0.1, 0.0)\n",
      "\n",
      "Testing Left Far view...\n"
     ]
    },
    {
     "ename": "KeyboardInterrupt",
     "evalue": "",
     "output_type": "error",
     "traceback": [
      "\u001b[0;31m---------------------------------------------------------------------------\u001b[0m",
      "\u001b[0;31mKeyboardInterrupt\u001b[0m                         Traceback (most recent call last)",
      "\u001b[0;32m<ipython-input-40-1fb5328aaf1f>\u001b[0m in \u001b[0;36m<module>\u001b[0;34m\u001b[0m\n\u001b[1;32m     26\u001b[0m \u001b[0mcamera_thread\u001b[0m \u001b[0;34m=\u001b[0m \u001b[0mthreading\u001b[0m\u001b[0;34m.\u001b[0m\u001b[0mThread\u001b[0m\u001b[0;34m(\u001b[0m\u001b[0mtarget\u001b[0m\u001b[0;34m=\u001b[0m\u001b[0mfollow_vehicle_with_camera\u001b[0m\u001b[0;34m,\u001b[0m \u001b[0margs\u001b[0m\u001b[0;34m=\u001b[0m\u001b[0;34m(\u001b[0m\u001b[0mworld\u001b[0m\u001b[0;34m,\u001b[0m \u001b[0mvehicle\u001b[0m\u001b[0;34m,\u001b[0m \u001b[0mspectator\u001b[0m\u001b[0;34m)\u001b[0m\u001b[0;34m)\u001b[0m\u001b[0;34m\u001b[0m\u001b[0;34m\u001b[0m\u001b[0m\n\u001b[1;32m     27\u001b[0m \u001b[0mcamera_thread\u001b[0m\u001b[0;34m.\u001b[0m\u001b[0mstart\u001b[0m\u001b[0;34m(\u001b[0m\u001b[0;34m)\u001b[0m\u001b[0;34m\u001b[0m\u001b[0;34m\u001b[0m\u001b[0m\n\u001b[0;32m---> 28\u001b[0;31m \u001b[0mtest_camera_positions\u001b[0m\u001b[0;34m(\u001b[0m\u001b[0mworld\u001b[0m\u001b[0;34m,\u001b[0m \u001b[0mvehicle\u001b[0m\u001b[0;34m,\u001b[0m \u001b[0mspectator\u001b[0m\u001b[0;34m)\u001b[0m\u001b[0;34m\u001b[0m\u001b[0;34m\u001b[0m\u001b[0m\n\u001b[0m",
      "\u001b[0;32m<ipython-input-40-1fb5328aaf1f>\u001b[0m in \u001b[0;36mtest_camera_positions\u001b[0;34m(world, vehicle, spectator)\u001b[0m\n\u001b[1;32m     16\u001b[0m         \u001b[0mprint\u001b[0m\u001b[0;34m(\u001b[0m\u001b[0;34mf\"\\nTesting {name} view...\"\u001b[0m\u001b[0;34m)\u001b[0m\u001b[0;34m\u001b[0m\u001b[0;34m\u001b[0m\u001b[0m\n\u001b[1;32m     17\u001b[0m         \u001b[0mset_custom_view\u001b[0m\u001b[0;34m(\u001b[0m\u001b[0mx\u001b[0m\u001b[0;34m,\u001b[0m \u001b[0my\u001b[0m\u001b[0;34m,\u001b[0m \u001b[0mz\u001b[0m\u001b[0;34m,\u001b[0m \u001b[0mpitch\u001b[0m\u001b[0;34m,\u001b[0m \u001b[0myaw\u001b[0m\u001b[0;34m,\u001b[0m \u001b[0mroll\u001b[0m\u001b[0;34m)\u001b[0m\u001b[0;34m\u001b[0m\u001b[0;34m\u001b[0m\u001b[0m\n\u001b[0;32m---> 18\u001b[0;31m         \u001b[0mtime\u001b[0m\u001b[0;34m.\u001b[0m\u001b[0msleep\u001b[0m\u001b[0;34m(\u001b[0m\u001b[0;36m5\u001b[0m\u001b[0;34m)\u001b[0m  \u001b[0;31m# Wait to observe each position\u001b[0m\u001b[0;34m\u001b[0m\u001b[0;34m\u001b[0m\u001b[0m\n\u001b[0m\u001b[1;32m     19\u001b[0m \u001b[0;34m\u001b[0m\u001b[0m\n\u001b[1;32m     20\u001b[0m         \u001b[0;31m# Print current transform for verification\u001b[0m\u001b[0;34m\u001b[0m\u001b[0;34m\u001b[0m\u001b[0;34m\u001b[0m\u001b[0m\n",
      "\u001b[0;31mKeyboardInterrupt\u001b[0m: "
     ]
    }
   ],
   "source": [
    "import carla\n",
    "import time\n",
    "\n",
    "def test_camera_positions(world, vehicle, spectator):\n",
    "    # Test sequence\n",
    "    test_positions = [\n",
    "        # Format: (name, x, y, z, pitch, yaw, roll)\n",
    "        (\"Center\", 0, 0, 2.5, 0, 0, 0),\n",
    "        (\"Right Close\", 0, 2.0, 2.0, 0, 90, 0),\n",
    "        (\"Right Far\", 0, 4.0, 2.0, 0, 90, 0),\n",
    "        (\"Left Close\", 0, -2.0, 2.0, 0, -90, 0),\n",
    "        (\"Left Far\", 0, -4.0, 2.0, 0, -90, 0),\n",
    "    ]\n",
    "    \n",
    "    for name, x, y, z, pitch, yaw, roll in test_positions:\n",
    "        print(f\"\\nTesting {name} view...\")\n",
    "        set_custom_view(x, y, z, pitch, yaw, roll)\n",
    "        time.sleep(5)  # Wait to observe each position\n",
    "        \n",
    "        # Print current transform for verification\n",
    "        transform = spectator.get_transform()\n",
    "        print(f\"Camera position: ({transform.location.x:.1f}, {transform.location.y:.1f}, {transform.location.z:.1f})\")\n",
    "        print(f\"Camera rotation: ({transform.rotation.pitch:.1f}, {transform.rotation.yaw:.1f}, {transform.rotation.roll:.1f})\")\n",
    "\n",
    "# Usage:\n",
    "camera_thread = threading.Thread(target=follow_vehicle_with_camera, args=(world, vehicle, spectator))\n",
    "camera_thread.start()\n",
    "test_camera_positions(world, vehicle, spectator)\n"
   ]
  },
  {
   "cell_type": "code",
   "execution_count": 42,
   "metadata": {},
   "outputs": [],
   "source": [
    "def set_right_profile():\n",
    "    camera_config.x_offset = 0.0\n",
    "    camera_config.y_offset = 2.5  # Reduced from 4.0\n",
    "    camera_config.z_offset = 1.8  # Lower height for better view\n",
    "    camera_config.rotation_offset = carla.Rotation(0, 90, 0)  # Rotate to face vehicle\n",
    "    \n",
    "def set_left_profile():\n",
    "    camera_config.x_offset = 0.0\n",
    "    camera_config.y_offset = -2.5  # Reduced from -4.0\n",
    "    camera_config.z_offset = 1.8   # Lower height\n",
    "    camera_config.rotation_offset = carla.Rotation(0, -90, 0)  # Rotate to face vehicle\n",
    "\n",
    "# For testing specific angles:\n",
    "def set_angled_side_view(side='right'):\n",
    "    if side == 'right':\n",
    "        set_custom_view(0.5, 2.5, 1.8, -5, 100, 0)  # Slight angle and tilt\n",
    "    else:\n",
    "        set_custom_view(0.5, -2.5, 1.8, -5, -100, 0)\n",
    "\n",
    "set_angled_side_view(side='right')  \n",
    "set_angled_side_view(side='left')       \n",
    "\n"
   ]
  },
  {
   "cell_type": "code",
   "execution_count": 95,
   "metadata": {},
   "outputs": [],
   "source": [
    "# from the back, looking right at the cyclist, y offset to the left (negative)\n",
    "camera_config.x_offset = -4.0\n",
    "camera_config.y_offset = -4.0\n",
    "camera_config.z_offset = 2.5\n",
    "# camera looking to the right\n",
    "camera_config.rotation_offset = carla.Rotation(0, 45, 0)"
   ]
  },
  {
   "cell_type": "code",
   "execution_count": 17,
   "metadata": {},
   "outputs": [
    {
     "ename": "NameError",
     "evalue": "name 'camera_config' is not defined",
     "output_type": "error",
     "traceback": [
      "\u001b[0;31m---------------------------------------------------------------------------\u001b[0m",
      "\u001b[0;31mNameError\u001b[0m                                 Traceback (most recent call last)",
      "\u001b[0;32m<ipython-input-17-0c4daa3d48b5>\u001b[0m in \u001b[0;36m<module>\u001b[0;34m\u001b[0m\n\u001b[1;32m      1\u001b[0m \u001b[0;31m# from the back, looking left at the cyclist, y offset to the right (positive)\u001b[0m\u001b[0;34m\u001b[0m\u001b[0;34m\u001b[0m\u001b[0;34m\u001b[0m\u001b[0m\n\u001b[0;32m----> 2\u001b[0;31m \u001b[0mcamera_config\u001b[0m\u001b[0;34m.\u001b[0m\u001b[0mx_offset\u001b[0m \u001b[0;34m=\u001b[0m \u001b[0;34m-\u001b[0m\u001b[0;36m4.0\u001b[0m\u001b[0;34m\u001b[0m\u001b[0;34m\u001b[0m\u001b[0m\n\u001b[0m\u001b[1;32m      3\u001b[0m \u001b[0mcamera_config\u001b[0m\u001b[0;34m.\u001b[0m\u001b[0my_offset\u001b[0m \u001b[0;34m=\u001b[0m \u001b[0;36m4.0\u001b[0m\u001b[0;34m\u001b[0m\u001b[0;34m\u001b[0m\u001b[0m\n\u001b[1;32m      4\u001b[0m \u001b[0mcamera_config\u001b[0m\u001b[0;34m.\u001b[0m\u001b[0mz_offset\u001b[0m \u001b[0;34m=\u001b[0m \u001b[0;36m2.5\u001b[0m\u001b[0;34m\u001b[0m\u001b[0;34m\u001b[0m\u001b[0m\n\u001b[1;32m      5\u001b[0m \u001b[0;31m# camera looking to the left\u001b[0m\u001b[0;34m\u001b[0m\u001b[0;34m\u001b[0m\u001b[0;34m\u001b[0m\u001b[0m\n",
      "\u001b[0;31mNameError\u001b[0m: name 'camera_config' is not defined"
     ]
    }
   ],
   "source": [
    "# from the back, looking left at the cyclist, y offset to the right (positive)\n",
    "camera_config.x_offset = -4.0\n",
    "camera_config.y_offset = 4.0\n",
    "camera_config.z_offset = 2.5\n",
    "# camera looking to the left\n",
    "camera_config.rotation_offset = carla.Rotation(0, -45, 0)"
   ]
  },
  {
   "cell_type": "code",
   "execution_count": 16,
   "metadata": {},
   "outputs": [
    {
     "ename": "NameError",
     "evalue": "name 'camera_config' is not defined",
     "output_type": "error",
     "traceback": [
      "\u001b[0;31m---------------------------------------------------------------------------\u001b[0m",
      "\u001b[0;31mNameError\u001b[0m                                 Traceback (most recent call last)",
      "\u001b[0;32m<ipython-input-16-1789e72d48dc>\u001b[0m in \u001b[0;36m<module>\u001b[0;34m\u001b[0m\n\u001b[1;32m      1\u001b[0m \u001b[0;31m# from the front, looking right at the cyclist, y offset to the left (negative)\u001b[0m\u001b[0;34m\u001b[0m\u001b[0;34m\u001b[0m\u001b[0;34m\u001b[0m\u001b[0m\n\u001b[0;32m----> 2\u001b[0;31m \u001b[0mcamera_config\u001b[0m\u001b[0;34m.\u001b[0m\u001b[0mx_offset\u001b[0m \u001b[0;34m=\u001b[0m \u001b[0;36m4.0\u001b[0m\u001b[0;34m\u001b[0m\u001b[0;34m\u001b[0m\u001b[0m\n\u001b[0m\u001b[1;32m      3\u001b[0m \u001b[0mcamera_config\u001b[0m\u001b[0;34m.\u001b[0m\u001b[0my_offset\u001b[0m \u001b[0;34m=\u001b[0m \u001b[0;34m-\u001b[0m\u001b[0;36m4.0\u001b[0m\u001b[0;34m\u001b[0m\u001b[0;34m\u001b[0m\u001b[0m\n\u001b[1;32m      4\u001b[0m \u001b[0mcamera_config\u001b[0m\u001b[0;34m.\u001b[0m\u001b[0mz_offset\u001b[0m \u001b[0;34m=\u001b[0m \u001b[0;36m2.5\u001b[0m\u001b[0;34m\u001b[0m\u001b[0;34m\u001b[0m\u001b[0m\n\u001b[1;32m      5\u001b[0m \u001b[0;31m# camera looking to the right\u001b[0m\u001b[0;34m\u001b[0m\u001b[0;34m\u001b[0m\u001b[0;34m\u001b[0m\u001b[0m\n",
      "\u001b[0;31mNameError\u001b[0m: name 'camera_config' is not defined"
     ]
    }
   ],
   "source": [
    "# from the front, looking right at the cyclist, y offset to the left (negative)\n",
    "camera_config.x_offset = 4.0\n",
    "camera_config.y_offset = -4.0\n",
    "camera_config.z_offset = 2.5\n",
    "# camera looking to the right\n",
    "camera_config.rotation_offset = carla.Rotation(0, 135, 0)"
   ]
  },
  {
   "cell_type": "code",
   "execution_count": 68,
   "metadata": {},
   "outputs": [],
   "source": [
    "# from the front, looking left at the cyclist, y offset to the right (positive)\n",
    "camera_config.x_offset = 4.0\n",
    "camera_config.y_offset = 4.0\n",
    "camera_config.z_offset = 2.5\n",
    "# camera looking to the right\n",
    "camera_config.rotation_offset = carla.Rotation(0, -135, 0)"
   ]
  },
  {
   "cell_type": "code",
   "execution_count": 92,
   "metadata": {},
   "outputs": [],
   "source": [
    "def set_back_right_diagonal():\n",
    "    camera_config.x_offset = -4.0  # Behind vehicle\n",
    "    camera_config.y_offset = -4.0  # Left side\n",
    "    camera_config.z_offset = 2.5   # Height\n",
    "    camera_config.rotation_offset = carla.Rotation(0, 45, 0)  # Look right\n",
    "\n",
    "def set_back_left_diagonal():\n",
    "    camera_config.x_offset = -4.0  # Behind vehicle\n",
    "    camera_config.y_offset = 4.0   # Right side\n",
    "    camera_config.z_offset = 2.5   # Height\n",
    "    camera_config.rotation_offset = carla.Rotation(0, -45, 0)  # Look left\n",
    "\n",
    "def set_front_right_diagonal():\n",
    "    camera_config.x_offset = 4.0   # Front of vehicle\n",
    "    camera_config.y_offset = -4.0  # Left side\n",
    "    camera_config.z_offset = 2.5   # Height\n",
    "    camera_config.rotation_offset = carla.Rotation(0, 135, 0)  # Look right\n",
    "\n",
    "def set_front_left_diagonal():\n",
    "    camera_config.x_offset = 4.0   # Front of vehicle\n",
    "    camera_config.y_offset = 4.0   # Right side\n",
    "    camera_config.z_offset = 2.5   # Height\n",
    "    camera_config.rotation_offset = carla.Rotation(0, -135, 0)  # Look left\n",
    "\n",
    "def set_right_profile():\n",
    "    camera_config.x_offset = 0.0   # No forward/back offset\n",
    "    camera_config.y_offset = 4.0   # Offset to right side\n",
    "    camera_config.z_offset = 2.0   # Standard height\n",
    "    camera_config.rotation_offset = carla.Rotation(0, -90, 0)  # Face left to look at vehicle\n",
    "\n",
    "def set_left_profile():\n",
    "    camera_config.x_offset = 0.0   # No forward/back offset\n",
    "    camera_config.y_offset = -4.0  # Offset to left side\n",
    "    camera_config.z_offset = 2.0   # Standard height\n",
    "    camera_config.rotation_offset = carla.Rotation(0, 90, 0)   # Face right to look at vehicle    \n",
    "\n",
    "def set_back_view_tilted():\n",
    "    camera_config.x_offset = -4.0  # Behind vehicle\n",
    "    camera_config.y_offset = 0.0   \n",
    "    camera_config.z_offset = 2.5   \n",
    "    camera_config.rotation_offset = carla.Rotation(-30, 0, 0)  # 30 degrees down tilt\n",
    "\n",
    "def set_front_view_tilted():\n",
    "    camera_config.x_offset = 4.0   # Front of vehicle\n",
    "    camera_config.y_offset = 0.0\n",
    "    camera_config.z_offset = 2.5\n",
    "    camera_config.rotation_offset = carla.Rotation(-30, 180, 0)  # 30 degrees down tilt, 180 to face vehicle    "
   ]
  },
  {
   "cell_type": "code",
   "execution_count": 23,
   "metadata": {},
   "outputs": [
    {
     "ename": "NameError",
     "evalue": "name 'set_front_left_diagonal' is not defined",
     "output_type": "error",
     "traceback": [
      "\u001b[0;31m---------------------------------------------------------------------------\u001b[0m",
      "\u001b[0;31mNameError\u001b[0m                                 Traceback (most recent call last)",
      "\u001b[0;32m<ipython-input-23-8dd606f3d0a1>\u001b[0m in \u001b[0;36m<module>\u001b[0;34m\u001b[0m\n\u001b[1;32m      2\u001b[0m \u001b[0;31m# set_back_left_diagonal()\u001b[0m\u001b[0;34m\u001b[0m\u001b[0;34m\u001b[0m\u001b[0;34m\u001b[0m\u001b[0m\n\u001b[1;32m      3\u001b[0m \u001b[0;31m# set_front_right_diagonal()\u001b[0m\u001b[0;34m\u001b[0m\u001b[0;34m\u001b[0m\u001b[0;34m\u001b[0m\u001b[0m\n\u001b[0;32m----> 4\u001b[0;31m \u001b[0mset_front_left_diagonal\u001b[0m\u001b[0;34m(\u001b[0m\u001b[0;34m)\u001b[0m\u001b[0;34m\u001b[0m\u001b[0;34m\u001b[0m\u001b[0m\n\u001b[0m\u001b[1;32m      5\u001b[0m \u001b[0;31m#set_right_profile()\u001b[0m\u001b[0;34m\u001b[0m\u001b[0;34m\u001b[0m\u001b[0;34m\u001b[0m\u001b[0m\n\u001b[1;32m      6\u001b[0m \u001b[0;31m#set_left_profile()\u001b[0m\u001b[0;34m\u001b[0m\u001b[0;34m\u001b[0m\u001b[0;34m\u001b[0m\u001b[0m\n",
      "\u001b[0;31mNameError\u001b[0m: name 'set_front_left_diagonal' is not defined"
     ]
    },
    {
     "ename": "",
     "evalue": "",
     "output_type": "error",
     "traceback": [
      "\u001b[1;31mThe Kernel crashed while executing code in the the current cell or a previous cell. Please review the code in the cell(s) to identify a possible cause of the failure. Click <a href='https://aka.ms/vscodeJupyterKernelCrash'>here</a> for more info. View Jupyter <a href='command:jupyter.viewOutput'>log</a> for further details."
     ]
    }
   ],
   "source": [
    "# set_back_right_diagonal()\n",
    "# set_back_left_diagonal()\n",
    "# set_front_right_diagonal()\n",
    "set_front_left_diagonal()\n",
    "#set_right_profile()\n",
    "#set_left_profile()\n",
    "# set_back_view_tilted()"
   ]
  },
  {
   "cell_type": "code",
   "execution_count": 112,
   "metadata": {},
   "outputs": [
    {
     "data": {
      "text/plain": [
       "'\\nCamera Rotation Reference Table\\n------------------------------\\nX-axis (Pitch):\\n  Negative (-): Tilt Down\\n  Positive (+): Tilt Up\\n  Example: -30° = look down, +30° = look up\\n\\nY-axis (Yaw):\\n    0° = Forward\\n   90° = Right\\n  -90° = Left\\n  180° = Backward\\n\\nZ-axis (Roll):\\n  Negative (-): Counter-clockwise tilt\\n  Positive (+): Clockwise tilt\\n  Example: -45° = tilt left, +45° = tilt right\\n\\nCommon Combinations:\\n------------------\\nBack view:     (0°, 0°, 0°)    # Level, facing forward\\nFront view:    (0°, 180°, 0°)  # Level, facing vehicle\\nRight view:    (0°, 90°, 0°)   # Level, facing right\\nLeft view:     (0°, -90°, 0°)  # Level, facing left\\nAngled down:   (-30°, Y, 0°)   # Add downward tilt to any view\\n'"
      ]
     },
     "execution_count": 112,
     "metadata": {},
     "output_type": "execute_result"
    }
   ],
   "source": [
    "camera_config.x_offset = -4.0   # Front of vehicle\n",
    "camera_config.y_offset = 4.0\n",
    "camera_config.z_offset = 2.5\n",
    "camera_config.rotation_offset = carla.Rotation(-10, -45, 0)\n",
    "\n",
    "\"\"\"\n",
    "Camera Rotation Reference Table\n",
    "------------------------------\n",
    "X-axis (Pitch):\n",
    "  Negative (-): Tilt Down\n",
    "  Positive (+): Tilt Up\n",
    "  Example: -30° = look down, +30° = look up\n",
    "\n",
    "Y-axis (Yaw):\n",
    "    0° = Forward\n",
    "   90° = Right\n",
    "  -90° = Left\n",
    "  180° = Backward\n",
    "\n",
    "Z-axis (Roll):\n",
    "  Negative (-): Counter-clockwise tilt\n",
    "  Positive (+): Clockwise tilt\n",
    "  Example: -45° = tilt left, +45° = tilt right\n",
    "\n",
    "Common Combinations:\n",
    "------------------\n",
    "Back view:     (0°, 0°, 0°)    # Level, facing forward\n",
    "Front view:    (0°, 180°, 0°)  # Level, facing vehicle\n",
    "Right view:    (0°, 90°, 0°)   # Level, facing right\n",
    "Left view:     (0°, -90°, 0°)  # Level, facing left\n",
    "Angled down:   (-30°, Y, 0°)   # Add downward tilt to any view\n",
    "\"\"\""
   ]
  },
  {
   "cell_type": "code",
   "execution_count": 111,
   "metadata": {},
   "outputs": [],
   "source": [
    "dir(camera_thread)\n",
    "camera_running = threading.Event()\n",
    "camera_running.set()\n",
    "camera_running.clear()"
   ]
  },
  {
   "cell_type": "code",
   "execution_count": null,
   "metadata": {},
   "outputs": [],
   "source": []
  }
 ],
 "metadata": {
  "kernelspec": {
   "display_name": "carla-env",
   "language": "python",
   "name": "python3"
  },
  "language_info": {
   "codemirror_mode": {
    "name": "ipython",
    "version": 3
   },
   "file_extension": ".py",
   "mimetype": "text/x-python",
   "name": "python",
   "nbconvert_exporter": "python",
   "pygments_lexer": "ipython3",
   "version": "3.6.9"
  }
 },
 "nbformat": 4,
 "nbformat_minor": 2
}
