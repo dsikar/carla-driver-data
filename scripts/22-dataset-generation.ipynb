{
 "cells": [
  {
   "cell_type": "markdown",
   "metadata": {},
   "source": [
    "# Camera Manager"
   ]
  },
  {
   "cell_type": "code",
   "execution_count": 4,
   "metadata": {},
   "outputs": [
    {
     "name": "stdout",
     "output_type": "stream",
     "text": [
      "pygame 2.6.1 (SDL 2.28.4, Python 3.6.9)\n",
      "Hello from the pygame community. https://www.pygame.org/contribute.html\n"
     ]
    },
    {
     "data": {
      "text/plain": [
       "'\\n# 1. Setup\\nclient = carla.Client(\"localhost\", 2000)\\nworld = client.get_world()\\nvehicles = world.get_actors().filter(\\'vehicle.*\\')\\nvehicle = vehicles[0]\\n\\ncamera = CameraSetup(vehicle)\\ncamera.setup_camera(world)\\n\\n# 2. Main loop\\nrunning = True\\nwhile running:\\n    # Handle events\\n    for event in pygame.event.get():\\n        if event.type == pygame.QUIT:\\n            running = False\\n        elif event.type == pygame.KEYDOWN:\\n            if event.key == pygame.K_ESCAPE:\\n                running = False\\n                \\n    # Handle held keys\\n    keys = pygame.key.get_pressed()\\n    if keys[pygame.K_LEFT]:\\n        camera.fov = max(10, camera.fov - 1)\\n    if keys[pygame.K_RIGHT]:\\n        camera.fov = min(170, camera.fov + 1)\\n    if keys[pygame.K_UP]:\\n        camera.height += 0.1\\n    if keys[pygame.K_DOWN]:\\n        camera.height -= 0.1\\n    if keys[pygame.K_w]:\\n        camera.pitch = min(0, camera.pitch + 1)\\n    if keys[pygame.K_s]:\\n        camera.pitch = max(-180, camera.pitch - 1)\\n        \\n    # Update camera if any parameters changed\\n    camera.update_camera_position()\\n    \\n    # Update display\\n    camera.update_frame()\\n    time.sleep(0.01)  # Short sleep to prevent excessive CPU usage\\n\\n# 3. Cleanup\\ncamera.destroy()\\n'"
      ]
     },
     "execution_count": 4,
     "metadata": {},
     "output_type": "execute_result"
    }
   ],
   "source": [
    "import carla\n",
    "import numpy as np\n",
    "import pygame\n",
    "import weakref\n",
    "import time\n",
    "\n",
    "class CameraSetup:\n",
    "    def __init__(self, vehicle, width=1280, height=720):\n",
    "        self.sensor = None\n",
    "        self.vehicle = vehicle\n",
    "        self.width = width\n",
    "        self.height = height\n",
    "        self._surface = None\n",
    "        \n",
    "        # Initialize Pygame\n",
    "        pygame.init()\n",
    "        pygame.font.init()\n",
    "        self.display = pygame.display.set_mode((width, height), pygame.HWSURFACE | pygame.DOUBLEBUF)\n",
    "        pygame.display.set_caption(\"Camera View - Use arrows, WASD, and QE to adjust\")\n",
    "        \n",
    "        # Camera parameters\n",
    "        self.fov = 90.0\n",
    "        self.height = 5.0\n",
    "        self.pitch = -90.0\n",
    "        \n",
    "    def setup_camera(self, world):\n",
    "        \"\"\"Initial camera setup\"\"\"\n",
    "        camera_bp = world.get_blueprint_library().find('sensor.camera.rgb')\n",
    "        camera_bp.set_attribute('image_size_x', str(self.width))\n",
    "        camera_bp.set_attribute('image_size_y', str(self.height))\n",
    "        camera_bp.set_attribute('fov', str(self.fov))\n",
    "        \n",
    "        # Initial transform\n",
    "        camera_transform = carla.Transform(\n",
    "            carla.Location(x=0.0, z=self.height),\n",
    "            carla.Rotation(pitch=self.pitch)\n",
    "        )\n",
    "        \n",
    "        # Spawn camera\n",
    "        self.sensor = world.spawn_actor(camera_bp, camera_transform, attach_to=self.vehicle)\n",
    "        \n",
    "        # Set up image callback\n",
    "        weak_self = weakref.ref(self)\n",
    "        self.sensor.listen(lambda image: self._process_image(weak_self, image))\n",
    "        \n",
    "    @staticmethod\n",
    "    def _process_image(weak_self, image):\n",
    "        \"\"\"Convert image to pygame surface\"\"\"\n",
    "        self = weak_self()\n",
    "        if not self:\n",
    "            return\n",
    "        \n",
    "        array = np.frombuffer(image.raw_data, dtype=np.dtype(\"uint8\"))\n",
    "        array = np.reshape(array, (image.height, image.width, 4))\n",
    "        array = array[:, :, :3]  # Remove alpha channel\n",
    "        array = array[:, :, ::-1]  # Convert from RGB to BGR\n",
    "        self._surface = pygame.surfarray.make_surface(array.swapaxes(0, 1))\n",
    "\n",
    "    def update_frame(self):\n",
    "        \"\"\"Update pygame display with current frame and parameters\"\"\"\n",
    "        if self._surface is None:\n",
    "            return\n",
    "            \n",
    "        self.display.blit(self._surface, (0, 0))\n",
    "        \n",
    "        # Display current parameters\n",
    "        font = pygame.font.Font(None, 36)\n",
    "        params = [\n",
    "            f\"FOV: {self.fov:.1f} (Left/Right)\",\n",
    "            f\"Height: {self.height:.1f} (Up/Down)\",\n",
    "            f\"Pitch: {self.pitch:.1f} (W/S)\",\n",
    "            \"Press ESC to quit\"\n",
    "        ]\n",
    "        \n",
    "        y = 10\n",
    "        for param in params:\n",
    "            text = font.render(param, True, (255, 255, 255))\n",
    "            self.display.blit(text, (10, y))\n",
    "            y += 30\n",
    "            \n",
    "        pygame.display.flip()\n",
    "        \n",
    "    def update_camera_position(self):\n",
    "        \"\"\"Update camera transform based on current parameters\"\"\"\n",
    "        transform = carla.Transform(\n",
    "            carla.Location(x=0.0, z=self.height),\n",
    "            carla.Rotation(pitch=self.pitch)\n",
    "        )\n",
    "        self.sensor.set_transform(transform)\n",
    "        self.sensor.set_attribute('fov', str(self.fov))\n",
    "        \n",
    "    def destroy(self):\n",
    "        \"\"\"Cleanup\"\"\"\n",
    "        if self.sensor:\n",
    "            self.sensor.destroy()\n",
    "        pygame.quit()\n",
    "\n",
    "# Example usage:\n",
    "\"\"\"\n",
    "# 1. Setup\n",
    "client = carla.Client(\"localhost\", 2000)\n",
    "world = client.get_world()\n",
    "vehicles = world.get_actors().filter('vehicle.*')\n",
    "vehicle = vehicles[0]\n",
    "\n",
    "camera = CameraSetup(vehicle)\n",
    "camera.setup_camera(world)\n",
    "\n",
    "# 2. Main loop\n",
    "running = True\n",
    "while running:\n",
    "    # Handle events\n",
    "    for event in pygame.event.get():\n",
    "        if event.type == pygame.QUIT:\n",
    "            running = False\n",
    "        elif event.type == pygame.KEYDOWN:\n",
    "            if event.key == pygame.K_ESCAPE:\n",
    "                running = False\n",
    "                \n",
    "    # Handle held keys\n",
    "    keys = pygame.key.get_pressed()\n",
    "    if keys[pygame.K_LEFT]:\n",
    "        camera.fov = max(10, camera.fov - 1)\n",
    "    if keys[pygame.K_RIGHT]:\n",
    "        camera.fov = min(170, camera.fov + 1)\n",
    "    if keys[pygame.K_UP]:\n",
    "        camera.height += 0.1\n",
    "    if keys[pygame.K_DOWN]:\n",
    "        camera.height -= 0.1\n",
    "    if keys[pygame.K_w]:\n",
    "        camera.pitch = min(0, camera.pitch + 1)\n",
    "    if keys[pygame.K_s]:\n",
    "        camera.pitch = max(-180, camera.pitch - 1)\n",
    "        \n",
    "    # Update camera if any parameters changed\n",
    "    camera.update_camera_position()\n",
    "    \n",
    "    # Update display\n",
    "    camera.update_frame()\n",
    "    time.sleep(0.01)  # Short sleep to prevent excessive CPU usage\n",
    "\n",
    "# 3. Cleanup\n",
    "camera.destroy()\n",
    "\"\"\""
   ]
  },
  {
   "cell_type": "code",
   "execution_count": 5,
   "metadata": {},
   "outputs": [
    {
     "ename": "IndexError",
     "evalue": "vector::_M_range_check: __n (which is 0) >= this->size() (which is 0)",
     "output_type": "error",
     "traceback": [
      "\u001b[0;31m---------------------------------------------------------------------------\u001b[0m",
      "\u001b[0;31mIndexError\u001b[0m                                Traceback (most recent call last)",
      "\u001b[0;32m<ipython-input-5-0c296d46a22c>\u001b[0m in \u001b[0;36m<module>\u001b[0;34m\u001b[0m\n\u001b[1;32m      3\u001b[0m \u001b[0mworld\u001b[0m \u001b[0;34m=\u001b[0m \u001b[0mclient\u001b[0m\u001b[0;34m.\u001b[0m\u001b[0mget_world\u001b[0m\u001b[0;34m(\u001b[0m\u001b[0;34m)\u001b[0m\u001b[0;34m\u001b[0m\u001b[0;34m\u001b[0m\u001b[0m\n\u001b[1;32m      4\u001b[0m \u001b[0mvehicles\u001b[0m \u001b[0;34m=\u001b[0m \u001b[0mworld\u001b[0m\u001b[0;34m.\u001b[0m\u001b[0mget_actors\u001b[0m\u001b[0;34m(\u001b[0m\u001b[0;34m)\u001b[0m\u001b[0;34m.\u001b[0m\u001b[0mfilter\u001b[0m\u001b[0;34m(\u001b[0m\u001b[0;34m'vehicle.*'\u001b[0m\u001b[0;34m)\u001b[0m\u001b[0;34m\u001b[0m\u001b[0;34m\u001b[0m\u001b[0m\n\u001b[0;32m----> 5\u001b[0;31m \u001b[0mvehicle\u001b[0m \u001b[0;34m=\u001b[0m \u001b[0mvehicles\u001b[0m\u001b[0;34m[\u001b[0m\u001b[0;36m0\u001b[0m\u001b[0;34m]\u001b[0m\u001b[0;34m\u001b[0m\u001b[0;34m\u001b[0m\u001b[0m\n\u001b[0m\u001b[1;32m      6\u001b[0m \u001b[0;34m\u001b[0m\u001b[0m\n\u001b[1;32m      7\u001b[0m \u001b[0mcamera\u001b[0m \u001b[0;34m=\u001b[0m \u001b[0mCameraSetup\u001b[0m\u001b[0;34m(\u001b[0m\u001b[0mvehicle\u001b[0m\u001b[0;34m)\u001b[0m\u001b[0;34m\u001b[0m\u001b[0;34m\u001b[0m\u001b[0m\n",
      "\u001b[0;31mIndexError\u001b[0m: vector::_M_range_check: __n (which is 0) >= this->size() (which is 0)"
     ]
    }
   ],
   "source": [
    "\n",
    "# 1. Setup\n",
    "client = carla.Client(\"localhost\", 2000)\n",
    "world = client.get_world()\n",
    "vehicles = world.get_actors().filter('vehicle.*')\n",
    "vehicle = vehicles[0]\n",
    "\n",
    "camera = CameraSetup(vehicle)\n",
    "camera.setup_camera(world)\n",
    "\n",
    "# 2. Main loop\n",
    "running = True\n",
    "while running:\n",
    "    # Handle events\n",
    "    for event in pygame.event.get():\n",
    "        if event.type == pygame.QUIT:\n",
    "            running = False\n",
    "        elif event.type == pygame.KEYDOWN:\n",
    "            if event.key == pygame.K_ESCAPE:\n",
    "                running = False\n",
    "                \n",
    "    # Handle held keys\n",
    "    keys = pygame.key.get_pressed()\n",
    "    if keys[pygame.K_LEFT]:\n",
    "        camera.fov = max(10, camera.fov - 1)\n",
    "    if keys[pygame.K_RIGHT]:\n",
    "        camera.fov = min(170, camera.fov + 1)\n",
    "    if keys[pygame.K_UP]:\n",
    "        camera.height += 0.1\n",
    "    if keys[pygame.K_DOWN]:\n",
    "        camera.height -= 0.1\n",
    "    if keys[pygame.K_w]:\n",
    "        camera.pitch = min(0, camera.pitch + 1)\n",
    "    if keys[pygame.K_s]:\n",
    "        camera.pitch = max(-180, camera.pitch - 1)\n",
    "        \n",
    "    # Update camera if any parameters changed\n",
    "    camera.update_camera_position()\n",
    "    \n",
    "    # Update display\n",
    "    camera.update_frame()\n",
    "    time.sleep(0.01)  # Short sleep to prevent excessive CPU usage\n",
    "\n",
    "# 3. Cleanup\n",
    "camera.destroy()\n"
   ]
  },
  {
   "cell_type": "code",
   "execution_count": 2,
   "metadata": {},
   "outputs": [],
   "source": [
    "# Connect to the CARLA server\n",
    "client = carla.Client(\"localhost\", 2000)\n",
    "client.set_timeout(10.0)\n",
    "world = client.get_world()"
   ]
  },
  {
   "cell_type": "code",
   "execution_count": 6,
   "metadata": {},
   "outputs": [
    {
     "name": "stdout",
     "output_type": "stream",
     "text": [
      "Found vehicle: vehicle.tesla.model3 at Location(x=-327.453033, y=9.007962, z=0.224307)\n",
      "Camera setup complete\n"
     ]
    }
   ],
   "source": [
    "vehicles = world.get_actors().filter('vehicle.*')\n",
    "if not vehicles:\n",
    "    print(\"No vehicles found in the simulation. Please ensure a vehicle is spawned.\")\n",
    "vehicles \n",
    "vehicle = vehicles[0]  # Get the first vehicle\n",
    "print(f\"Found vehicle: {vehicle.type_id} at {vehicle.get_location()}\")\n",
    "\n",
    "# Initialize and setup camera\n",
    "camera_manager = CameraManager(vehicle)\n",
    "camera_manager.setup_camera(world)\n",
    "print(\"Camera setup complete\")   "
   ]
  },
  {
   "cell_type": "code",
   "execution_count": 3,
   "metadata": {},
   "outputs": [
    {
     "ename": "NameError",
     "evalue": "name 'pygame' is not defined",
     "output_type": "error",
     "traceback": [
      "\u001b[0;31m---------------------------------------------------------------------------\u001b[0m",
      "\u001b[0;31mNameError\u001b[0m                                 Traceback (most recent call last)",
      "\u001b[0;32m<ipython-input-3-3a00d2a3a192>\u001b[0m in \u001b[0;36m<module>\u001b[0;34m\u001b[0m\n\u001b[1;32m      2\u001b[0m \u001b[0;32mwhile\u001b[0m \u001b[0mrunning\u001b[0m\u001b[0;34m:\u001b[0m\u001b[0;34m\u001b[0m\u001b[0;34m\u001b[0m\u001b[0m\n\u001b[1;32m      3\u001b[0m     \u001b[0;31m# Handle Pygame events for camera parameter adjustments\u001b[0m\u001b[0;34m\u001b[0m\u001b[0;34m\u001b[0m\u001b[0;34m\u001b[0m\u001b[0m\n\u001b[0;32m----> 4\u001b[0;31m     \u001b[0;32mfor\u001b[0m \u001b[0mevent\u001b[0m \u001b[0;32min\u001b[0m \u001b[0mpygame\u001b[0m\u001b[0;34m.\u001b[0m\u001b[0mevent\u001b[0m\u001b[0;34m.\u001b[0m\u001b[0mget\u001b[0m\u001b[0;34m(\u001b[0m\u001b[0;34m)\u001b[0m\u001b[0;34m:\u001b[0m\u001b[0;34m\u001b[0m\u001b[0;34m\u001b[0m\u001b[0m\n\u001b[0m\u001b[1;32m      5\u001b[0m         \u001b[0;32mif\u001b[0m \u001b[0mevent\u001b[0m\u001b[0;34m.\u001b[0m\u001b[0mtype\u001b[0m \u001b[0;34m==\u001b[0m \u001b[0mpygame\u001b[0m\u001b[0;34m.\u001b[0m\u001b[0mQUIT\u001b[0m\u001b[0;34m:\u001b[0m\u001b[0;34m\u001b[0m\u001b[0;34m\u001b[0m\u001b[0m\n\u001b[1;32m      6\u001b[0m             \u001b[0mrunning\u001b[0m \u001b[0;34m=\u001b[0m \u001b[0;32mFalse\u001b[0m\u001b[0;34m\u001b[0m\u001b[0;34m\u001b[0m\u001b[0m\n",
      "\u001b[0;31mNameError\u001b[0m: name 'pygame' is not defined"
     ]
    }
   ],
   "source": [
    "running = True\n",
    "while running:\n",
    "    # Handle Pygame events for camera parameter adjustments\n",
    "    for event in pygame.event.get():\n",
    "        if event.type == pygame.QUIT:\n",
    "            running = False\n",
    "        elif event.type == pygame.KEYDOWN:\n",
    "            # Camera controls\n",
    "            if event.key == pygame.K_UP:\n",
    "                camera_manager.update_camera_params('height', \n",
    "                    camera_manager.camera_attributes['position'].location.z + 0.5)\n",
    "            elif event.key == pygame.K_DOWN:\n",
    "                camera_manager.update_camera_params('height', \n",
    "                    camera_manager.camera_attributes['position'].location.z - 0.5)\n",
    "            elif event.key == pygame.K_LEFT:\n",
    "                camera_manager.update_camera_params('fov', \n",
    "                    camera_manager.camera_attributes['fov'] - 5)\n",
    "            elif event.key == pygame.K_RIGHT:\n",
    "                camera_manager.update_camera_params('fov', \n",
    "                    camera_manager.camera_attributes['fov'] + 5)\n",
    "            elif event.key == pygame.K_ESCAPE:\n",
    "                running = False\n",
    "    \n",
    "    # Update camera display\n",
    "    camera_manager.render()\n",
    "    \n",
    "    # Small delay to prevent excessive CPU usage\n",
    "    time.sleep(0.01)"
   ]
  },
  {
   "cell_type": "code",
   "execution_count": 6,
   "metadata": {},
   "outputs": [
    {
     "ename": "NameError",
     "evalue": "name 'vehicle' is not defined",
     "output_type": "error",
     "traceback": [
      "\u001b[0;31m---------------------------------------------------------------------------\u001b[0m",
      "\u001b[0;31mNameError\u001b[0m                                 Traceback (most recent call last)",
      "\u001b[0;32m<ipython-input-6-49873a9e90e1>\u001b[0m in \u001b[0;36m<module>\u001b[0;34m\u001b[0m\n\u001b[0;32m----> 1\u001b[0;31m \u001b[0mvehicle\u001b[0m\u001b[0;34m\u001b[0m\u001b[0;34m\u001b[0m\u001b[0m\n\u001b[0m",
      "\u001b[0;31mNameError\u001b[0m: name 'vehicle' is not defined"
     ]
    },
    {
     "ename": "",
     "evalue": "",
     "output_type": "error",
     "traceback": [
      "\u001b[1;31mThe Kernel crashed while executing code in the the current cell or a previous cell. Please review the code in the cell(s) to identify a possible cause of the failure. Click <a href='https://aka.ms/vscodeJupyterKernelCrash'>here</a> for more info. View Jupyter <a href='command:jupyter.viewOutput'>log</a> for further details."
     ]
    }
   ],
   "source": [
    "vehicle"
   ]
  }
 ],
 "metadata": {
  "kernelspec": {
   "display_name": "carla-env",
   "language": "python",
   "name": "python3"
  },
  "language_info": {
   "codemirror_mode": {
    "name": "ipython",
    "version": 3
   },
   "file_extension": ".py",
   "mimetype": "text/x-python",
   "name": "python",
   "nbconvert_exporter": "python",
   "pygments_lexer": "ipython3",
   "version": "3.6.9"
  }
 },
 "nbformat": 4,
 "nbformat_minor": 2
}
