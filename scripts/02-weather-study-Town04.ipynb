{
 "cells": [
  {
   "cell_type": "markdown",
   "metadata": {},
   "source": [
    "# Weather study"
   ]
  },
  {
   "cell_type": "code",
   "execution_count": 1,
   "metadata": {},
   "outputs": [],
   "source": [
    "# boilerplate code\n",
    "import carla \n",
    "import math \n",
    "import random \n",
    "import time \n",
    "import logging\n",
    "\n",
    "# Initialize logging\n",
    "logging.basicConfig(level=logging.INFO, format='%(asctime)s - %(message)s')\n",
    "\n",
    "# Create a file handler\n",
    "file_handler = logging.FileHandler('../data/carla_simulation.log')\n",
    "file_handler.setLevel(logging.INFO)\n",
    "file_handler.setFormatter(logging.Formatter('%(asctime)s - %(message)s'))\n",
    "\n",
    "# Add the file handler to the logger\n",
    "logger = logging.getLogger(__name__)\n",
    "logger.addHandler(file_handler)\n",
    "\n",
    "# Connect to the client and get the world object\n",
    "client = carla.Client('localhost', 2000) \n",
    "world = client.get_world() \n",
    "\n",
    "# load Town04 map\n",
    "world = client.load_world('Town01')\n"
   ]
  },
  {
   "cell_type": "markdown",
   "metadata": {},
   "source": [
    "## Ajust position of sun in the sky"
   ]
  },
  {
   "cell_type": "code",
   "execution_count": 2,
   "metadata": {},
   "outputs": [
    {
     "data": {
      "text/plain": [
       "\"\\n# Connect to CARLA\\nclient = carla.Client('localhost', 2000)\\nworld = client.get_world()\\n\\n# Test different positions\\nmorning_east(world)    # Sunrise\\ntime.sleep(2)          # Wait to observe\\nnoon_overhead(world)   # Noon\\ntime.sleep(2)\\nafternoon_west(world)  # Afternoon\\ntime.sleep(2)\\nsunset_west(world)     # Sunset\\ntime.sleep(2)\\nnight_scene(world)     # Night\\n\""
      ]
     },
     "execution_count": 2,
     "metadata": {},
     "output_type": "execute_result"
    }
   ],
   "source": [
    "# import carla # assumed imported already\n",
    "\n",
    "def set_sun_position(world, altitude, azimuth):\n",
    "    \"\"\"\n",
    "    Set sun position with debug print\n",
    "    \n",
    "    Args:\n",
    "        world: CARLA world object\n",
    "        altitude (float): Sun's height angle in degrees. Range: -90 to 90\n",
    "                         -90 = below horizon (night)\n",
    "                         0 = at horizon\n",
    "                         90 = directly overhead\n",
    "        azimuth (float): Sun's horizontal angle in degrees. Range: 0 to 360\n",
    "                        0/360 = North\n",
    "                        90 = East\n",
    "                        180 = South\n",
    "                        270 = West\n",
    "    \n",
    "    Returns:\n",
    "        carla.WeatherParameters: The weather object with updated sun position\n",
    "        \n",
    "    Additional Parameters (fixed in this function):\n",
    "        cloudiness: Range 0 to 100\n",
    "        precipitation: Range 0 to 100\n",
    "        precipitation_deposits: Range 0 to 100\n",
    "        fog_density: Range 0 to 100\n",
    "    \"\"\"\n",
    "    weather = carla.WeatherParameters(\n",
    "        sun_altitude_angle=altitude,\n",
    "        sun_azimuth_angle=azimuth,\n",
    "        cloudiness=0,\n",
    "        precipitation=0,\n",
    "        precipitation_deposits=0,\n",
    "        fog_density=0\n",
    "    )\n",
    "    world.set_weather(weather)\n",
    "    print(f\"Sun Position Set - Altitude: {altitude}°, Azimuth: {azimuth}°\")\n",
    "    return weather\n",
    "\n",
    "# Time of day presets\n",
    "def morning_east(world):\n",
    "    \"\"\"Sunrise from the east\"\"\"\n",
    "    return set_sun_position(world, altitude=15, azimuth=90)  # Low in the east\n",
    "\n",
    "def noon_overhead(world):\n",
    "    \"\"\"Sun directly overhead\"\"\"\n",
    "    return set_sun_position(world, altitude=90, azimuth=180)  # Highest point\n",
    "\n",
    "def afternoon_west(world):\n",
    "    \"\"\"Afternoon sun from west\"\"\"\n",
    "    return set_sun_position(world, altitude=45, azimuth=270)  # Medium height in west\n",
    "\n",
    "def sunset_west(world):\n",
    "    \"\"\"Sunset in the west\"\"\"\n",
    "    return set_sun_position(world, altitude=10, azimuth=270)  # Low in the west\n",
    "\n",
    "def night_scene(world):\n",
    "    \"\"\"Night time\"\"\"\n",
    "    return set_sun_position(world, altitude=-90, azimuth=270)  # Below horizon\n",
    "\n",
    "# Example usage:\n",
    "\"\"\"\n",
    "# Connect to CARLA\n",
    "client = carla.Client('localhost', 2000)\n",
    "world = client.get_world()\n",
    "\n",
    "# Test different positions\n",
    "morning_east(world)    # Sunrise\n",
    "time.sleep(2)          # Wait to observe\n",
    "noon_overhead(world)   # Noon\n",
    "time.sleep(2)\n",
    "afternoon_west(world)  # Afternoon\n",
    "time.sleep(2)\n",
    "sunset_west(world)     # Sunset\n",
    "time.sleep(2)\n",
    "night_scene(world)     # Night\n",
    "\"\"\""
   ]
  },
  {
   "cell_type": "markdown",
   "metadata": {},
   "source": [
    "## Morning"
   ]
  },
  {
   "cell_type": "code",
   "execution_count": 13,
   "metadata": {},
   "outputs": [
    {
     "name": "stdout",
     "output_type": "stream",
     "text": [
      "Sun Position Set - Altitude: 15°, Azimuth: 90°\n"
     ]
    }
   ],
   "source": [
    "weather = morning_east(world)    # Sunrise"
   ]
  },
  {
   "cell_type": "markdown",
   "metadata": {},
   "source": [
    "## Noon"
   ]
  },
  {
   "cell_type": "code",
   "execution_count": 14,
   "metadata": {},
   "outputs": [
    {
     "name": "stdout",
     "output_type": "stream",
     "text": [
      "Sun Position Set - Altitude: 90°, Azimuth: 180°\n"
     ]
    }
   ],
   "source": [
    "weather = noon_overhead(world)   # Noon"
   ]
  },
  {
   "cell_type": "markdown",
   "metadata": {},
   "source": [
    "## Afternoon"
   ]
  },
  {
   "cell_type": "code",
   "execution_count": 15,
   "metadata": {},
   "outputs": [
    {
     "name": "stdout",
     "output_type": "stream",
     "text": [
      "Sun Position Set - Altitude: 45°, Azimuth: 270°\n"
     ]
    }
   ],
   "source": [
    "weather = afternoon_west(world)  # Afternoon"
   ]
  },
  {
   "cell_type": "markdown",
   "metadata": {},
   "source": [
    "## Sunset"
   ]
  },
  {
   "cell_type": "code",
   "execution_count": 16,
   "metadata": {},
   "outputs": [
    {
     "name": "stdout",
     "output_type": "stream",
     "text": [
      "Sun Position Set - Altitude: 10°, Azimuth: 270°\n"
     ]
    }
   ],
   "source": [
    "weather = sunset_west(world)     # Sunset"
   ]
  },
  {
   "cell_type": "markdown",
   "metadata": {},
   "source": [
    "## Night"
   ]
  },
  {
   "cell_type": "code",
   "execution_count": 17,
   "metadata": {},
   "outputs": [
    {
     "name": "stdout",
     "output_type": "stream",
     "text": [
      "Sun Position Set - Altitude: -90°, Azimuth: 270°\n"
     ]
    }
   ],
   "source": [
    "weather = night_scene(world)     # Night"
   ]
  },
  {
   "cell_type": "markdown",
   "metadata": {},
   "source": [
    "## Set Sun Position Manually"
   ]
  },
  {
   "cell_type": "code",
   "execution_count": 3,
   "metadata": {},
   "outputs": [
    {
     "name": "stdout",
     "output_type": "stream",
     "text": [
      "Sun Position Set - Altitude: 0°, Azimuth: 150°\n"
     ]
    },
    {
     "data": {
      "text/plain": [
       "<carla.libcarla.WeatherParameters at 0x7f51340a1bc8>"
      ]
     },
     "execution_count": 3,
     "metadata": {},
     "output_type": "execute_result"
    }
   ],
   "source": [
    "set_sun_position(world, altitude=0, azimuth=150)"
   ]
  },
  {
   "cell_type": "markdown",
   "metadata": {},
   "source": [
    "## Get Spectator Position"
   ]
  },
  {
   "cell_type": "code",
   "execution_count": 4,
   "metadata": {},
   "outputs": [
    {
     "name": "stdout",
     "output_type": "stream",
     "text": [
      "\n",
      "=== Spectator Transform ===\n",
      "Location: x=202.97, y=188.10, z=2.05\n",
      "Rotation: pitch=0.00, yaw=43.20, roll=0.00\n"
     ]
    }
   ],
   "source": [
    "import carla_helpers as helpers\n",
    "transform = helpers.get_spectator_transform(world)"
   ]
  },
  {
   "cell_type": "markdown",
   "metadata": {},
   "source": [
    "## Set Spectator Transform"
   ]
  },
  {
   "cell_type": "code",
   "execution_count": 5,
   "metadata": {},
   "outputs": [
    {
     "name": "stdout",
     "output_type": "stream",
     "text": [
      "\n",
      "=== Spectator Transform Set ===\n",
      "Location: x=190.00, y=230.00, z=40.00\n",
      "Rotation: pitch=3.00, yaw=-30.00, roll=0.00\n",
      "\n",
      "=== Spectator Transform Set ===\n",
      "Location: x=190.00, y=230.00, z=40.00\n",
      "Rotation: pitch=3.00, yaw=-30.00, roll=0.00\n"
     ]
    }
   ],
   "source": [
    "transform = helpers.set_spectator_transform(world, (190, 230, 40), (3, -30, 0))"
   ]
  },
  {
   "cell_type": "markdown",
   "metadata": {},
   "source": [
    "## Get Spectator Cardinal Direction"
   ]
  },
  {
   "cell_type": "code",
   "execution_count": 6,
   "metadata": {},
   "outputs": [
    {
     "name": "stdout",
     "output_type": "stream",
     "text": [
      "\n",
      "Spectator is facing: NW\n",
      "Exact yaw angle: -30.0°\n"
     ]
    }
   ],
   "source": [
    "helpers.get_spectator_direction(world)\n",
    "#Spectator is facing: NW\n",
    "#Exact yaw angle: -30.0°"
   ]
  },
  {
   "cell_type": "markdown",
   "metadata": {},
   "source": [
    "## Set Spectator cardinal direction"
   ]
  },
  {
   "cell_type": "code",
   "execution_count": 10,
   "metadata": {},
   "outputs": [
    {
     "name": "stdout",
     "output_type": "stream",
     "text": [
      "\n",
      "=== Spectator Transform Set ===\n",
      "Location: x=190.00, y=230.00, z=40.00\n",
      "Rotation: pitch=0.00, yaw=270.00, roll=0.00\n"
     ]
    }
   ],
   "source": [
    "transform = helpers.set_spectator_transform(world, (190, 230, 40), (0, 270, 0))"
   ]
  },
  {
   "cell_type": "markdown",
   "metadata": {},
   "source": [
    "## Get Spectator Geo-Location"
   ]
  },
  {
   "cell_type": "code",
   "execution_count": 9,
   "metadata": {},
   "outputs": [
    {
     "name": "stdout",
     "output_type": "stream",
     "text": [
      "\n",
      "=== Coordinate Conversion ===\n",
      "CARLA Location: x=190.00, y=230.00, z=40.00\n",
      "Geographic Location:\n",
      "Latitude:  -0.002066°\n",
      "Longitude: 0.001707°\n",
      "Altitude:  40.00m\n"
     ]
    },
    {
     "data": {
      "text/plain": [
       "(-0.002066125153035614, 0.0017067990398270906, 40.0)"
      ]
     },
     "execution_count": 9,
     "metadata": {},
     "output_type": "execute_result"
    }
   ],
   "source": [
    "helpers.get_spectator_geo_location(world)"
   ]
  },
  {
   "cell_type": "markdown",
   "metadata": {},
   "source": [
    "# TODOS\n",
    "See list in README plus\n",
    "Set sun motion based on start and end altitude and azimuth and latitude and longitude\n",
    "Note, we might to move the sun stuff into a sun motion analysis notebook, and leave the weather to this notebook\n",
    "Also, we want a 4th notebook to adjust cyclist character\n",
    "Finally, we want to keep the notebooks short and modular, so we open and execute them, and they are self contained and self explanatory, no scope creep"
   ]
  }
 ],
 "metadata": {
  "kernelspec": {
   "display_name": "carla-env",
   "language": "python",
   "name": "python3"
  },
  "language_info": {
   "codemirror_mode": {
    "name": "ipython",
    "version": 3
   },
   "file_extension": ".py",
   "mimetype": "text/x-python",
   "name": "python",
   "nbconvert_exporter": "python",
   "pygments_lexer": "ipython3",
   "version": "3.6.9"
  }
 },
 "nbformat": 4,
 "nbformat_minor": 2
}
