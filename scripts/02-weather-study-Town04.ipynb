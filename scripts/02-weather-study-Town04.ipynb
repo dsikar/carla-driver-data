{
 "cells": [
  {
   "cell_type": "markdown",
   "metadata": {},
   "source": [
    "# Weather study"
   ]
  },
  {
   "cell_type": "code",
   "execution_count": 1,
   "metadata": {},
   "outputs": [],
   "source": [
    "# boilerplate code\n",
    "import carla \n",
    "import math \n",
    "import random \n",
    "import time \n",
    "import carla_helpers as helpers\n",
    "\n",
    "# Connect to the client and get the world object\n",
    "client = carla.Client('localhost', 2000) \n",
    "world = client.get_world() \n",
    "\n",
    "# load Town04 map\n",
    "world = client.load_world('Town04')\n"
   ]
  },
  {
   "cell_type": "markdown",
   "metadata": {},
   "source": [
    "## Ajust position of sun in the sky"
   ]
  },
  {
   "cell_type": "markdown",
   "metadata": {},
   "source": [
    "## Morning"
   ]
  },
  {
   "cell_type": "code",
   "execution_count": 3,
   "metadata": {},
   "outputs": [
    {
     "name": "stdout",
     "output_type": "stream",
     "text": [
      "Sun Position Set - Altitude: 15°, Azimuth: 90°\n"
     ]
    },
    {
     "ename": "",
     "evalue": "",
     "output_type": "error",
     "traceback": [
      "\u001b[1;31mThe Kernel crashed while executing code in the the current cell or a previous cell. Please review the code in the cell(s) to identify a possible cause of the failure. Click <a href='https://aka.ms/vscodeJupyterKernelCrash'>here</a> for more info. View Jupyter <a href='command:jupyter.viewOutput'>log</a> for further details."
     ]
    }
   ],
   "source": [
    "weather = helpers.morning_east(world)    # Sunrise"
   ]
  },
  {
   "cell_type": "markdown",
   "metadata": {},
   "source": [
    "## Noon"
   ]
  },
  {
   "cell_type": "code",
   "execution_count": 27,
   "metadata": {},
   "outputs": [
    {
     "name": "stdout",
     "output_type": "stream",
     "text": [
      "Sun Position Set - Altitude: 90°, Azimuth: 180°\n"
     ]
    }
   ],
   "source": [
    "weather = helpers.noon_overhead(world)   # Noon"
   ]
  },
  {
   "cell_type": "markdown",
   "metadata": {},
   "source": [
    "## Afternoon"
   ]
  },
  {
   "cell_type": "code",
   "execution_count": 4,
   "metadata": {},
   "outputs": [
    {
     "name": "stdout",
     "output_type": "stream",
     "text": [
      "Sun Position Set - Altitude: 45°, Azimuth: 270°\n"
     ]
    }
   ],
   "source": [
    "weather = helpers.afternoon_west(world)  # Afternoon"
   ]
  },
  {
   "cell_type": "markdown",
   "metadata": {},
   "source": [
    "## Sunset"
   ]
  },
  {
   "cell_type": "code",
   "execution_count": 38,
   "metadata": {},
   "outputs": [
    {
     "name": "stdout",
     "output_type": "stream",
     "text": [
      "Sun Position Set - Altitude: 10°, Azimuth: 270°\n"
     ]
    },
    {
     "ename": "",
     "evalue": "",
     "output_type": "error",
     "traceback": [
      "\u001b[1;31mThe Kernel crashed while executing code in the the current cell or a previous cell. Please review the code in the cell(s) to identify a possible cause of the failure. Click <a href='https://aka.ms/vscodeJupyterKernelCrash'>here</a> for more info. View Jupyter <a href='command:jupyter.viewOutput'>log</a> for further details."
     ]
    }
   ],
   "source": [
    "weather = helpers.sunset_west(world)     # Sunset"
   ]
  },
  {
   "cell_type": "markdown",
   "metadata": {},
   "source": [
    "## Night"
   ]
  },
  {
   "cell_type": "code",
   "execution_count": 30,
   "metadata": {},
   "outputs": [
    {
     "name": "stdout",
     "output_type": "stream",
     "text": [
      "Sun Position Set - Altitude: -90°, Azimuth: 270°\n"
     ]
    }
   ],
   "source": [
    "weather = helpers.night_scene(world)     # Night"
   ]
  },
  {
   "cell_type": "markdown",
   "metadata": {},
   "source": [
    "## Set Sun Position Manually"
   ]
  },
  {
   "cell_type": "code",
   "execution_count": 25,
   "metadata": {},
   "outputs": [
    {
     "name": "stdout",
     "output_type": "stream",
     "text": [
      "Sun Position Set - Altitude: 3°, Azimuth: 150°\n"
     ]
    },
    {
     "data": {
      "text/plain": [
       "<carla.libcarla.WeatherParameters at 0x7fd244504490>"
      ]
     },
     "execution_count": 25,
     "metadata": {},
     "output_type": "execute_result"
    }
   ],
   "source": [
    "helpers.set_sun_position(world, altitude=3, azimuth=150)"
   ]
  },
  {
   "cell_type": "markdown",
   "metadata": {},
   "source": [
    "## Get Spectator Position"
   ]
  },
  {
   "cell_type": "code",
   "execution_count": 20,
   "metadata": {},
   "outputs": [
    {
     "name": "stdout",
     "output_type": "stream",
     "text": [
      "\n",
      "=== Spectator Transform ===\n",
      "Location: x=138.85, y=-171.75, z=2.90\n",
      "Rotation: pitch=0.00, yaw=1.00, roll=0.00\n"
     ]
    }
   ],
   "source": [
    "import carla_helpers as helpers\n",
    "transform = helpers.get_spectator_transform(world)"
   ]
  },
  {
   "cell_type": "markdown",
   "metadata": {},
   "source": [
    "## Set Spectator Transform"
   ]
  },
  {
   "cell_type": "code",
   "execution_count": 21,
   "metadata": {},
   "outputs": [
    {
     "name": "stdout",
     "output_type": "stream",
     "text": [
      "\n",
      "=== Spectator Transform Set ===\n",
      "Location: x=303.57, y=-189.02, z=1.00\n",
      "Rotation: pitch=-8.06, yaw=-130.48, roll=0.00\n"
     ]
    }
   ],
   "source": [
    "transform = helpers.set_spectator_transform(world, (303.57, -189.02, 1), (-8.06, -130.48, 0))"
   ]
  },
  {
   "cell_type": "markdown",
   "metadata": {},
   "source": [
    "## Get Spectator Cardinal Direction"
   ]
  },
  {
   "cell_type": "code",
   "execution_count": 11,
   "metadata": {},
   "outputs": [
    {
     "name": "stdout",
     "output_type": "stream",
     "text": [
      "\n",
      "Spectator is facing: SW\n",
      "Exact yaw angle: -130.5°\n"
     ]
    }
   ],
   "source": [
    "helpers.get_spectator_direction(world)\n",
    "#Spectator is facing: NW\n",
    "#Exact yaw angle: -30.0°"
   ]
  },
  {
   "cell_type": "markdown",
   "metadata": {},
   "source": [
    "## Set Spectator cardinal direction"
   ]
  },
  {
   "cell_type": "code",
   "execution_count": 11,
   "metadata": {},
   "outputs": [
    {
     "name": "stdout",
     "output_type": "stream",
     "text": [
      "\n",
      "=== Spectator Transform Set ===\n",
      "Location: x=190.00, y=230.00, z=40.00\n",
      "Rotation: pitch=0.00, yaw=270.00, roll=0.00\n"
     ]
    }
   ],
   "source": [
    "#transform = helpers.set_spectator_transform(world, (190, 230, 40), (0, 270, 0))"
   ]
  },
  {
   "cell_type": "markdown",
   "metadata": {},
   "source": [
    "## Get Spectator Geo-Location"
   ]
  },
  {
   "cell_type": "code",
   "execution_count": 12,
   "metadata": {},
   "outputs": [
    {
     "name": "stdout",
     "output_type": "stream",
     "text": [
      "\n",
      "=== Coordinate Conversion ===\n",
      "CARLA Location: x=303.57, y=-189.02, z=1.00\n",
      "Geographic Location:\n",
      "Latitude:  0.001698°\n",
      "Longitude: 0.002727°\n",
      "Altitude:  1.00m\n"
     ]
    },
    {
     "data": {
      "text/plain": [
       "(0.0016979954510816242, 0.0027270157737962074, 1.0)"
      ]
     },
     "execution_count": 12,
     "metadata": {},
     "output_type": "execute_result"
    }
   ],
   "source": [
    "helpers.get_spectator_geo_location(world)"
   ]
  },
  {
   "cell_type": "markdown",
   "metadata": {},
   "source": [
    "## Change weather"
   ]
  },
  {
   "cell_type": "code",
   "execution_count": 32,
   "metadata": {},
   "outputs": [],
   "source": [
    "sun_altitude_angle = -10\n",
    "sun_azimuth_angle = 0\n",
    "cloudiness = 50\n",
    "precipitation = 100\n",
    "precipitation_deposits = 80\n",
    "fog_density = 20\n",
    "\n",
    "weather = carla.WeatherParameters(\n",
    "    sun_altitude_angle=sun_altitude_angle,\n",
    "    sun_azimuth_angle=sun_azimuth_angle,\n",
    "    cloudiness=cloudiness,\n",
    "    precipitation=precipitation,\n",
    "    precipitation_deposits=precipitation_deposits,\n",
    "    fog_density=fog_density\n",
    ")\n",
    "world.set_weather(weather)"
   ]
  }
 ],
 "metadata": {
  "kernelspec": {
   "display_name": "carla-env",
   "language": "python",
   "name": "python3"
  },
  "language_info": {
   "codemirror_mode": {
    "name": "ipython",
    "version": 3
   },
   "file_extension": ".py",
   "mimetype": "text/x-python",
   "name": "python",
   "nbconvert_exporter": "python",
   "pygments_lexer": "ipython3",
   "version": "3.6.9"
  }
 },
 "nbformat": 4,
 "nbformat_minor": 2
}
