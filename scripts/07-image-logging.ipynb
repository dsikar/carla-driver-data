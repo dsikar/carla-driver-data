{
 "cells": [
  {
   "cell_type": "markdown",
   "metadata": {},
   "source": [
    "# Image logging\n",
    "Code to log image and configure camera to log images for a neural network training dataset"
   ]
  },
  {
   "cell_type": "code",
   "execution_count": 9,
   "metadata": {},
   "outputs": [],
   "source": [
    "# boilerplate code\n",
    "import carla \n",
    "import math \n",
    "import random \n",
    "import time \n",
    "\n",
    "# Connect to the client and get the world object\n",
    "client = carla.Client('localhost', 2000) \n",
    "world = client.get_world() \n",
    "\n",
    "# load Town04 map\n",
    "world = client.load_world('Town04')\n",
    "\n",
    "# Get the blueprint library and the spawn points for the map\n",
    "bp_lib = world.get_blueprint_library() \n",
    "spawn_points = world.get_map().get_spawn_points() \n",
    "\n",
    "# Get the blueprint for the bycicle you want\n",
    "vehicle_bp = bp_lib.find('vehicle.tesla.model3') \n",
    "\n",
    "# Try spawning the vehicle at a randomly chosen spawn point\n",
    "vehicle = world.try_spawn_actor(vehicle_bp, random.choice(spawn_points))"
   ]
  },
  {
   "cell_type": "markdown",
   "metadata": {},
   "source": [
    "## Create camera"
   ]
  },
  {
   "cell_type": "code",
   "execution_count": 6,
   "metadata": {},
   "outputs": [],
   "source": [
    "import os\n",
    "import cv2\n",
    "import numpy as np\n",
    "from queue import Queue\n",
    "from datetime import datetime\n",
    "\n",
    "# Create output directory if it doesn't exist\n",
    "if not os.path.exists('output'):\n",
    "   os.makedirs('output')\n",
    "\n",
    "# Create camera\n",
    "camera_bp = bp_lib.find('sensor.camera.rgb')\n",
    "camera_bp.set_attribute('image_size_x', '1280')\n",
    "camera_bp.set_attribute('image_size_y', '720')\n",
    "camera_bp.set_attribute('fov', '110')\n",
    "\n",
    "# Spawn camera relative to vehicle\n",
    "camera_spawn = carla.Transform(carla.Location(x=1.5, z=2.4))\n",
    "camera = world.spawn_actor(camera_bp, camera_spawn, attach_to=vehicle)\n",
    "\n",
    "image_queue = Queue()\n",
    "\n",
    "def process_image(image):\n",
    "   timestamp = datetime.now().strftime(\"%Y%m%d_%H%M%S_%f\")\n",
    "   array = np.frombuffer(image.raw_data, dtype=np.dtype(\"uint8\"))\n",
    "   array = np.reshape(array, (image.height, image.width, 4))\n",
    "   array = array[:, :, :3]\n",
    "   \n",
    "   # Save image\n",
    "   cv2.imwrite(f'output/frame_{timestamp}.jpg', array)\n",
    "   \n",
    "   # Display image\n",
    "   cv2.imshow('CARLA Camera', array)\n",
    "   cv2.waitKey(1)\n",
    "\n",
    "camera.listen(lambda image: image_queue.put(image))"
   ]
  },
  {
   "cell_type": "markdown",
   "metadata": {},
   "source": [
    "# Start autopilot and save images for 10 seconds"
   ]
  },
  {
   "cell_type": "code",
   "execution_count": 7,
   "metadata": {},
   "outputs": [],
   "source": [
    "# start the simulation\n",
    "vehicle.set_autopilot(True)\n",
    "\n",
    "start_time = time.time()\n",
    "while time.time() - start_time < 10:\n",
    "   image = image_queue.get()\n",
    "   process_image(image)\n",
    "   time.sleep(0.2)\n",
    "\n",
    "camera.stop()\n",
    "camera.destroy()\n",
    "cv2.destroyAllWindows()"
   ]
  },
  {
   "cell_type": "markdown",
   "metadata": {},
   "source": [
    "## Camera study"
   ]
  },
  {
   "cell_type": "code",
   "execution_count": 13,
   "metadata": {},
   "outputs": [
    {
     "name": "stdout",
     "output_type": "stream",
     "text": [
      "\n",
      "Testing: (1280, 720), (1.5, 0, 2.4), FOV: 110\n",
      "\n",
      "Testing: (800, 600), (1.5, 0, 2.4), FOV: 110\n",
      "\n",
      "Testing: (1280, 720), (0, 0, 2.4), FOV: 110\n",
      "\n",
      "Testing: (1280, 720), (1.5, 1, 2.4), FOV: 110\n",
      "\n",
      "Testing: (1280, 720), (1.5, 0, 1.8), FOV: 110\n",
      "\n",
      "Testing: (1280, 720), (1.5, 0, 2.4), FOV: 90\n"
     ]
    }
   ],
   "source": [
    "\n",
    "import cv2\n",
    "import numpy as np\n",
    "from queue import Queue\n",
    "\n",
    "def setup_camera(resolution=(1280,720), pos=(1.5,0,2.4), fov=110):\n",
    "    camera_bp = bp_lib.find('sensor.camera.rgb')\n",
    "    camera_bp.set_attribute('image_size_x', str(resolution[0]))\n",
    "    camera_bp.set_attribute('image_size_y', str(resolution[1]))\n",
    "    camera_bp.set_attribute('fov', str(fov))\n",
    "    \n",
    "    camera_spawn = carla.Transform(carla.Location(x=pos[0], y=pos[1], z=pos[2]))\n",
    "    return world.spawn_actor(camera_bp, camera_spawn, attach_to=vehicle)\n",
    "\n",
    "def study_image(camera, resolution, position, fov):\n",
    "    image_queue = Queue()\n",
    "    frames_shown = 0\n",
    "    \n",
    "    def process_frame(image):\n",
    "        nonlocal frames_shown\n",
    "        array = np.frombuffer(image.raw_data, dtype=np.dtype(\"uint8\"))\n",
    "        array = np.reshape(array, (image.height, image.width, 4))\n",
    "        array = array[:, :, :3].copy()\n",
    "        \n",
    "        info_text = [\n",
    "            f\"Resolution: {resolution[0]}x{resolution[1]}\",\n",
    "            f\"Camera: x={position[0]:.1f}m, y={position[1]:.1f}m, z={position[2]:.1f}m\",\n",
    "            f\"FOV: {fov} degrees\"\n",
    "        ]\n",
    "        \n",
    "        for i, text in enumerate(info_text):\n",
    "            cv2.putText(array, text, (10, 30 + i*30), \n",
    "                       cv2.FONT_HERSHEY_SIMPLEX, 1, (255,255,255), 2)\n",
    "        \n",
    "        cv2.imshow('CARLA Camera Study', array)\n",
    "        key = cv2.waitKey(1)\n",
    "        frames_shown += 1\n",
    "        \n",
    "        if key == 27:  # ESC key\n",
    "            return False\n",
    "        return True\n",
    "\n",
    "    camera.listen(lambda image: image_queue.put(image))\n",
    "    \n",
    "    try:\n",
    "        while frames_shown < 30:  # Show 30 frames\n",
    "            if not image_queue.empty():\n",
    "                image = image_queue.get()\n",
    "                if not process_frame(image):\n",
    "                    break\n",
    "            time.sleep(0.1)\n",
    "    finally:\n",
    "        camera.stop()\n",
    "        cv2.destroyAllWindows()\n",
    "\n",
    "# Test cases\n",
    "configs = [\n",
    "    ((1280, 720), (1.5, 0, 2.4), 110),  # Default\n",
    "    ((800, 600), (1.5, 0, 2.4), 110),   # Lower res\n",
    "    ((1280, 720), (0, 0, 2.4), 110),    # Front\n",
    "    ((1280, 720), (1.5, 1, 2.4), 110),  # Side\n",
    "    ((1280, 720), (1.5, 0, 1.8), 110),  # Lower\n",
    "    ((1280, 720), (1.5, 0, 2.4), 90),   # Narrow FOV\n",
    "]\n",
    "\n",
    "for resolution, position, fov in configs:\n",
    "    print(f\"\\nTesting: {resolution}, {position}, FOV: {fov}\")\n",
    "    camera = setup_camera(resolution, position, fov)\n",
    "    study_image(camera, resolution, position, fov)\n",
    "    camera.destroy()\n",
    "    time.sleep(2)"
   ]
  }
 ],
 "metadata": {
  "kernelspec": {
   "display_name": "carla-env",
   "language": "python",
   "name": "python3"
  },
  "language_info": {
   "codemirror_mode": {
    "name": "ipython",
    "version": 3
   },
   "file_extension": ".py",
   "mimetype": "text/x-python",
   "name": "python",
   "nbconvert_exporter": "python",
   "pygments_lexer": "ipython3",
   "version": "3.6.9"
  }
 },
 "nbformat": 4,
 "nbformat_minor": 2
}
