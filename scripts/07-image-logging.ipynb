{
 "cells": [
  {
   "cell_type": "markdown",
   "metadata": {},
   "source": [
    "# Image logging\n",
    "Logging images for a neural network training dataset"
   ]
  },
  {
   "cell_type": "code",
   "execution_count": null,
   "metadata": {},
   "outputs": [],
   "source": [
    "# boilerplate code\n",
    "import carla \n",
    "import math \n",
    "import random \n",
    "import time \n",
    "\n",
    "# Connect to the client and get the world object\n",
    "client = carla.Client('localhost', 2000) \n",
    "world = client.get_world() \n",
    "\n",
    "# load Town04 map\n",
    "world = client.load_world('Town04')\n",
    "\n",
    "# Get the blueprint library and the spawn points for the map\n",
    "bp_lib = world.get_blueprint_library() \n",
    "spawn_points = world.get_map().get_spawn_points() \n",
    "\n",
    "# Get the blueprint for the bycicle you want\n",
    "vehicle_bp = bp_lib.find('vehicle.tesla.model3') \n",
    "# nb other options are:\n",
    "# 'vehicle.gazelle.omafiets',\n",
    "# 'vehicle.diamondback.century'\n",
    "\n",
    "# Try spawning the vehicle at a randomly chosen spawn point\n",
    "vehicle = world.try_spawn_actor(vehicle_bp, random.choice(spawn_points))\n",
    "\n",
    "# start the simulation\n",
    "vehicle.set_autopilot(True)"
   ]
  }
 ],
 "metadata": {
  "language_info": {
   "name": "python"
  }
 },
 "nbformat": 4,
 "nbformat_minor": 2
}
