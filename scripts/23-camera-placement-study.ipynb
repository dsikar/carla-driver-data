{
 "cells": [
  {
   "cell_type": "markdown",
   "metadata": {},
   "source": [
    "# Camera placement study"
   ]
  },
  {
   "cell_type": "markdown",
   "metadata": {},
   "source": [
    "## Place vehicle"
   ]
  },
  {
   "cell_type": "code",
   "execution_count": 172,
   "metadata": {},
   "outputs": [
    {
     "name": "stdout",
     "output_type": "stream",
     "text": [
      "Location(x=160.342804, y=-368.140472, z=0.000000)\n",
      "Location(x=160.342804, y=-368.140472, z=0.600000)\n",
      "\n",
      "=== Spectator Transform Set ===\n",
      "Location: x=160.34, y=-368.14, z=0.60\n",
      "Rotation: pitch=0.00, yaw=0.50, roll=0.00\n"
     ]
    }
   ],
   "source": [
    "import carla \n",
    "import math \n",
    "import random \n",
    "import time \n",
    "import carla_helpers as helpers\n",
    "import time\n",
    "\n",
    "# Connect to the client and get the world object\n",
    "client = carla.Client('localhost', 2000) \n",
    "world = client.get_world() \n",
    "\n",
    "# load Town04 map\n",
    "world = client.load_world('Town04')\n",
    "\n",
    "# Get the blueprint library and the spawn points for the map\n",
    "bp_lib = world.get_blueprint_library() \n",
    "\n",
    "# Get the blueprint for the bycicle you want\n",
    "vehicle_bp = bp_lib.find('vehicle.tesla.model3') \n",
    "\n",
    "waypoints = helpers.get_town04_figure8_waypoints(world)\n",
    "waypoint_0 = waypoints[0].transform\n",
    "print(waypoint_0.location)\n",
    "waypoint_0.location.z += 0.6 \n",
    "print(waypoint_0.location)\n",
    "\n",
    "# Place observer where vehicle will be dropped\n",
    "inside_vehicle = helpers.set_spectator_transform(world, waypoint_0.location, waypoint_0.rotation)\n",
    "time.sleep(5)\n",
    "\n",
    "# Try spawning the vehicle at a given spawn point\n",
    "vehicle = world.try_spawn_actor(vehicle_bp, waypoint_0)\n",
    "\n",
    "\n",
    "# start the simulation\n",
    "# vehicle.set_autopilot(True) # not this time\n",
    "\n"
   ]
  },
  {
   "cell_type": "markdown",
   "metadata": {},
   "source": [
    "## View functions"
   ]
  },
  {
   "cell_type": "code",
   "execution_count": 173,
   "metadata": {},
   "outputs": [
    {
     "name": "stdout",
     "output_type": "stream",
     "text": [
      "\n",
      "=== Spectator Transform Set ===\n",
      "Location: x=160.44, y=-369.24, z=1.38\n",
      "Rotation: pitch=0.00, yaw=90.50, roll=0.00\n"
     ]
    }
   ],
   "source": [
    "inside_vehicle = vehicle.get_transform()\n",
    "base_transform = vehicle.get_transform()\n",
    "base_transform.location.z += 0.6\n",
    "def side_view_left(world, base_transform):\n",
    "    import carla_helpers as helpers\n",
    "    x = base_transform.location.x + 0.1\n",
    "    y = base_transform.location.y - 3.1\n",
    "    z = base_transform.location.z\n",
    "    yaw = base_transform.rotation.yaw + 90\n",
    "    pitch = base_transform.rotation.pitch\n",
    "    roll = base_transform.rotation.roll\n",
    "    helpers.set_spectator_transform(world, (x,y,z),(pitch, yaw,roll))\n",
    "\n",
    "# side_view_left(world, base_transform)    \n",
    "\n",
    "def side_view_left_close(world, base_transform):\n",
    "    import carla_helpers as helpers\n",
    "    x = base_transform.location.x + 0.1\n",
    "    y = base_transform.location.y - 1.1\n",
    "    z = base_transform.location.z + 0.78\n",
    "    yaw = base_transform.rotation.yaw + 90\n",
    "    pitch = base_transform.rotation.pitch\n",
    "    roll = base_transform.rotation.roll\n",
    "    helpers.set_spectator_transform(world, (x,y,z),(pitch, yaw,roll))    \n",
    "\n",
    "side_view_left_close(world, base_transform)\n",
    "\n",
    "def side_view_left_top(world, base_transform):\n",
    "    import carla_helpers as helpers\n",
    "    x = base_transform.location.x + 0.1\n",
    "    y = base_transform.location.y - 3.1\n",
    "    z = base_transform.location.z + 2\n",
    "    yaw = base_transform.rotation.yaw + 90\n",
    "    pitch = base_transform.rotation.pitch - 27\n",
    "    roll = base_transform.rotation.roll\n",
    "    helpers.set_spectator_transform(world, (x,y,z),(pitch, yaw,roll))    \n",
    "\n",
    "# side_view_left_top(world, base_transform)\n",
    "\n",
    "def side_view_right(world, base_transform):\n",
    "    import carla_helpers as helpers\n",
    "    x = base_transform.location.x + 0.1\n",
    "    y = base_transform.location.y + 3.1\n",
    "    z = base_transform.location.z\n",
    "    yaw = base_transform.rotation.yaw - 90\n",
    "    pitch = base_transform.rotation.pitch\n",
    "    roll = base_transform.rotation.roll\n",
    "    helpers.set_spectator_transform(world, (x,y,z),(pitch, yaw,roll))\n",
    "\n",
    "# side_view_right(world, base_transform)   \n",
    "\n",
    "def side_view_right_top(world, base_transform):\n",
    "    import carla_helpers as helpers\n",
    "    x = base_transform.location.x + 0.1\n",
    "    y = base_transform.location.y + 3.1\n",
    "    z = base_transform.location.z + 2\n",
    "    yaw = base_transform.rotation.yaw - 90\n",
    "    pitch = base_transform.rotation.pitch - 27\n",
    "    roll = base_transform.rotation.roll\n",
    "    helpers.set_spectator_transform(world, (x,y,z),(pitch, yaw,roll))    \n",
    "\n",
    "# side_view_right_top(world, base_transform)\n",
    "\n",
    "def side_view_left_top_front(world, base_transform):\n",
    "    import carla_helpers as helpers\n",
    "    x = base_transform.location.x + 1.8\n",
    "    y = base_transform.location.y - 2.5\n",
    "    z = base_transform.location.z + 1.5\n",
    "    yaw = base_transform.rotation.yaw + 110\n",
    "    pitch = base_transform.rotation.pitch - 27\n",
    "    roll = base_transform.rotation.roll\n",
    "    helpers.set_spectator_transform(world, (x,y,z),(pitch, yaw,roll))\n",
    " \n",
    "#side_view_left_top_front(world, base_transform) \n",
    "\n",
    "def side_view_right_top_front(world, base_transform):\n",
    "    import carla_helpers as helpers\n",
    "    x = base_transform.location.x + 1.8\n",
    "    y = base_transform.location.y + 2.5\n",
    "    z = base_transform.location.z + 1.5\n",
    "    yaw = base_transform.rotation.yaw - 110\n",
    "    pitch = base_transform.rotation.pitch - 27\n",
    "    roll = base_transform.rotation.roll\n",
    "    helpers.set_spectator_transform(world, (x,y,z),(pitch, yaw,roll))\n",
    "\n",
    "# side_view_right_top_front(world, base_transform)    \n",
    "\n",
    "def front_view_top(world, base_transform):\n",
    "    import carla_helpers as helpers\n",
    "    x = base_transform.location.x + 3.5\n",
    "    y = base_transform.location.y \n",
    "    z = base_transform.location.z + 1.5\n",
    "    yaw = base_transform.rotation.yaw - 180\n",
    "    pitch = base_transform.rotation.pitch -33\n",
    "    roll = base_transform.rotation.roll\n",
    "    helpers.set_spectator_transform(world, (x,y,z),(pitch, yaw,roll))\n",
    "\n",
    "\n",
    "#front_view_top(world, base_transform)    "
   ]
  },
  {
   "cell_type": "markdown",
   "metadata": {},
   "source": [
    "## Set View"
   ]
  },
  {
   "cell_type": "code",
   "execution_count": 174,
   "metadata": {},
   "outputs": [
    {
     "name": "stdout",
     "output_type": "stream",
     "text": [
      "\n",
      "=== Spectator Transform Set ===\n",
      "Location: x=163.84, y=-368.14, z=2.10\n",
      "Rotation: pitch=-33.00, yaw=-179.50, roll=0.00\n",
      "\n",
      "=== Spectator Transform Set ===\n",
      "Location: x=162.14, y=-370.64, z=2.10\n",
      "Rotation: pitch=-27.00, yaw=110.50, roll=0.00\n"
     ]
    }
   ],
   "source": [
    "base_transform = waypoints[0].transform\n",
    "base_transform.location.z += 0.6\n",
    "#side_view_left_top_front(world, base_transform)  \n",
    "front_view_top(world, base_transform)  \n",
    "#side_view_left(world, base_transform)\n",
    "#side_view_left_top(world, base_transform)\n",
    "side_view_left_top_front(world, base_transform)"
   ]
  },
  {
   "cell_type": "markdown",
   "metadata": {},
   "source": [
    "## Camera Position Marker"
   ]
  },
  {
   "cell_type": "code",
   "execution_count": 175,
   "metadata": {},
   "outputs": [
    {
     "name": "stdout",
     "output_type": "stream",
     "text": [
      "Location(x=160.342804, y=-368.140472, z=0.001556)\n",
      "Location(x=160.342804, y=-368.140472, z=0.000000)\n",
      "Placed marker at location: Location(x=160.692810, y=-368.140472, z=1.400000)\n"
     ]
    }
   ],
   "source": [
    "base_transform = waypoints[0].transform\n",
    "print(inside_vehicle.location)\n",
    "print(base_transform.location)\n",
    "base_transform.location.x += 0.35\n",
    "#base_transform.location.y -= 2.1\n",
    "base_transform.location.z = 1.40\n",
    "# yaw = base_transform.rotation.yaw + 90\n",
    "# pitch = base_transform.rotation.pitch\n",
    "# roll = base_transform.rotation.roll\n",
    "helpers.place_waypoint_marker(world, base_transform, r=255, g=0, b=0, life_time=20.0)"
   ]
  },
  {
   "cell_type": "markdown",
   "metadata": {},
   "source": [
    "## Camera Position\n",
    "Based on marker"
   ]
  },
  {
   "cell_type": "code",
   "execution_count": 176,
   "metadata": {},
   "outputs": [
    {
     "name": "stdout",
     "output_type": "stream",
     "text": [
      "\n",
      "=== Spectator Transform Set ===\n",
      "Location: x=161.04, y=-368.14, z=2.80\n",
      "Rotation: pitch=-25.00, yaw=0.50, roll=0.00\n"
     ]
    }
   ],
   "source": [
    "x = base_transform.location.x + 0.35\n",
    "y = base_transform.location.y \n",
    "z = base_transform.location.z + 1.40\n",
    "yaw = base_transform.rotation.yaw\n",
    "pitch = base_transform.rotation.pitch -25\n",
    "roll = base_transform.rotation.roll\n",
    "camera_transform = helpers.set_spectator_transform(world, (x,y,z),(pitch, yaw,roll))"
   ]
  },
  {
   "cell_type": "markdown",
   "metadata": {},
   "source": [
    "## Destroy Vehicle"
   ]
  },
  {
   "cell_type": "code",
   "execution_count": null,
   "metadata": {},
   "outputs": [
    {
     "name": "stdout",
     "output_type": "stream",
     "text": [
      "Vehicle ID: 1241, Type: vehicle.tesla.model3, Location: Location(x=160.342804, y=-368.140472, z=0.001653)\n"
     ]
    },
    {
     "data": {
      "text/plain": [
       "<carla.libcarla.ActorList at 0x76a4fcec1768>"
      ]
     },
     "execution_count": 158,
     "metadata": {},
     "output_type": "execute_result"
    }
   ],
   "source": [
    "helpers.list_all_vehicles(world)\n",
    "#helpers.destroy_vehicle(world, 1241)"
   ]
  },
  {
   "cell_type": "markdown",
   "metadata": {},
   "source": [
    "# Camera functions"
   ]
  },
  {
   "cell_type": "code",
   "execution_count": 178,
   "metadata": {},
   "outputs": [
    {
     "name": "stdout",
     "output_type": "stream",
     "text": [
      "Camera attached to vehicle at Location(x=161.042816, y=-368.140472, z=2.800000)\n",
      "Image size verified successfully.\n",
      "Camera position: Location(x=324.601013, y=-734.857544, z=2.801556)\n",
      "Camera rotation: Rotation(pitch=-24.999994, yaw=1.002797, roll=-0.000000)\n"
     ]
    },
    {
     "data": {
      "image/png": "[encoded data removed]",
      "text/plain": [
       "<Figure size 432x288 with 1 Axes>"
      ]
     },
     "metadata": {
      "needs_background": "light"
     },
     "output_type": "display_data"
    },
    {
     "name": "stdout",
     "output_type": "stream",
     "text": [
      "Camera destroyed.\n"
     ]
    }
   ],
   "source": [
    "import carla\n",
    "import numpy as np\n",
    "import queue\n",
    "import time\n",
    "import matplotlib.pyplot as plt\n",
    "\n",
    "# Constants\n",
    "CAMERA_WIDTH = 640  # Image width in pixels\n",
    "CAMERA_HEIGHT = 360  # Image height in pixels\n",
    "CAMERA_FOV = 90  # Field of view in degrees\n",
    "CAMERA_LOCATION = camera_transform.location # carla.Location(x=1, y=0.0, z=1.5)  # Position relative to the vehicle\n",
    "CAMERA_ROTATION = camera_transform.rotation # carla.Rotation(pitch=5.0, yaw=0.0, roll=0.0)  # Rotation relative to the vehicle\n",
    "\n",
    "# def spawn_vehicle(world, spawn_point):\n",
    "#     \"\"\"\n",
    "#     Spawn a vehicle at the first waypoint.\n",
    "    \n",
    "#     Parameters:\n",
    "#     - world: CARLA world object.\n",
    "#     - spawn_point: CARLA transform object for the spawn location.\n",
    "    \n",
    "#     Returns:\n",
    "#     - vehicle: CARLA vehicle object.\n",
    "#     \"\"\"\n",
    "#     # Get the blueprint for the vehicle\n",
    "#     blueprint_library = world.get_blueprint_library()\n",
    "#     vehicle_bp = blueprint_library.filter(\"vehicle.tesla.model3\")[0]  # Choose a vehicle blueprint\n",
    "\n",
    "#     # Spawn the vehicle at the first waypoint\n",
    "#     #pawn_point = waypoints[0].transform\n",
    "#     #spawn_point.location.z += 2.0  # Adjust spawn height to avoid collisions\n",
    "#     vehicle = world.spawn_actor(vehicle_bp, spawn_point)\n",
    "#     print(f\"Vehicle spawned at {spawn_point.location}\")\n",
    "#     return vehicle\n",
    "\n",
    "def attach_camera_to_vehicle(world, vehicle, camera_transform):\n",
    "    \"\"\"\n",
    "    Attach a camera to the vehicle and set up the image capture.\n",
    "    \n",
    "    Parameters:\n",
    "    - world: CARLA world object.\n",
    "    - vehicle: CARLA vehicle object.\n",
    "    \n",
    "    Returns:\n",
    "    - camera: CARLA camera object.\n",
    "    - image_queue: Queue to store captured images.\n",
    "    \"\"\"\n",
    "    # Get the blueprint for the camera\n",
    "    blueprint_library = world.get_blueprint_library()\n",
    "    camera_bp = blueprint_library.find(\"sensor.camera.rgb\")\n",
    "    camera_bp.set_attribute(\"image_size_x\", str(CAMERA_WIDTH))\n",
    "    camera_bp.set_attribute(\"image_size_y\", str(CAMERA_HEIGHT))\n",
    "    camera_bp.set_attribute(\"fov\", str(CAMERA_FOV))\n",
    "\n",
    "    # Attach the camera to the vehicle, alternative method, using the camera transform\n",
    "    # camera_transform = carla.Transform(CAMERA_LOCATION, CAMERA_ROTATION)\n",
    "    camera = world.spawn_actor(camera_bp, camera_transform, attach_to=vehicle)\n",
    "    print(f\"Camera attached to vehicle at {camera_transform.location}\")\n",
    "\n",
    "    # Create a queue to store captured images\n",
    "    image_queue = queue.Queue()\n",
    "\n",
    "    # Set up the callback to store images in the queue\n",
    "    camera.listen(image_queue.put)\n",
    "\n",
    "    return camera, image_queue\n",
    "\n",
    "def process_image(image):\n",
    "    \"\"\"\n",
    "    Process the captured image and convert it to a numpy array.\n",
    "    \n",
    "    Parameters:\n",
    "    - image: CARLA image object.\n",
    "    \n",
    "    Returns:\n",
    "    - image_array: Numpy array representing the image.\n",
    "    \"\"\"\n",
    "    # Convert the raw image data to a numpy array\n",
    "    image_array = np.frombuffer(image.raw_data, dtype=np.uint8)\n",
    "    image_array = image_array.reshape((CAMERA_HEIGHT, CAMERA_WIDTH, 4))  # RGBA format\n",
    "    image_array = image_array[:, :, :3]  # Remove alpha channel (keep only RGB)\n",
    "    return image_array\n",
    "\n",
    "def plot_image(image_array):\n",
    "    \"\"\"\n",
    "    Plot the captured image using matplotlib.\n",
    "    \n",
    "    Parameters:\n",
    "    - image_array: Numpy array representing the image.\n",
    "    \"\"\"\n",
    "    plt.imshow(image_array)\n",
    "    plt.axis(\"off\")  # Hide axes\n",
    "    plt.show()\n",
    "\n",
    "def test_vehicle_and_camera(world, vehicle, camera_transform):\n",
    "    \"\"\"\n",
    "    Unit test to verify vehicle and camera instantiation, image size, and camera positioning.\n",
    "    \"\"\"\n",
    "    # Connect to the CARLA server\n",
    "    # Declared at top of script\n",
    "    # client = carla.Client(\"localhost\", 2000)\n",
    "    # client.set_timeout(10.0)\n",
    "    # world = client.get_world()\n",
    "\n",
    "    # Enable synchronous mode\n",
    "    settings = world.get_settings()\n",
    "    settings.synchronous_mode = True\n",
    "    settings.fixed_delta_seconds = 0.05\n",
    "    world.apply_settings(settings)\n",
    "\n",
    "    try:\n",
    "        # Get waypoints for the figure-8 track\n",
    "        # waypoints = get_figure8_waypoints(world)\n",
    "        # print(f\"Number of waypoints retrieved: {len(waypoints)}\")\n",
    "\n",
    "        # Spawn the vehicle\n",
    "        #vehicle = spawn_vehicle(world, waypoints)\n",
    "\n",
    "        # Attach the camera to the vehicle\n",
    "        camera, image_queue = attach_camera_to_vehicle(world, vehicle, camera_transform)\n",
    "\n",
    "        # Advance the simulation to allow the camera to capture an image\n",
    "        for _ in range(10):  # Advance 10 frames\n",
    "            world.tick()\n",
    "\n",
    "        # Wait for the image to be captured\n",
    "        start_time = time.time()\n",
    "        while time.time() - start_time < 5.0:  # Wait up to 5 seconds\n",
    "            if not image_queue.empty():\n",
    "                image = image_queue.get()\n",
    "                image_array = process_image(image)\n",
    "\n",
    "                # Verify image size\n",
    "                assert image_array.shape == (CAMERA_HEIGHT, CAMERA_WIDTH, 3), \\\n",
    "                    f\"Image size mismatch: expected {(CAMERA_HEIGHT, CAMERA_WIDTH, 3)}, got {image_array.shape}\"\n",
    "                print(\"Image size verified successfully.\")\n",
    "\n",
    "                # Print camera position and rotation\n",
    "                camera_transform = camera.get_transform()\n",
    "                print(f\"Camera position: {camera_transform.location}\")\n",
    "                print(f\"Camera rotation: {camera_transform.rotation}\")\n",
    "\n",
    "                # Plot the captured image\n",
    "                plot_image(image_array)\n",
    "                break\n",
    "            time.sleep(0.1)  # Small delay to avoid busy-waiting\n",
    "        else:\n",
    "            print(\"No image captured within the timeout period. Check camera setup.\")\n",
    "    finally:\n",
    "        # Clean up\n",
    "        if 'camera' in locals():\n",
    "            camera.destroy()\n",
    "            print(\"Camera destroyed.\")\n",
    "        #if 'vehicle' in locals():\n",
    "        #    vehicle.destroy()\n",
    "        #    print(\"Vehicle destroyed.\")\n",
    "\n",
    "# world declared at top of script\n",
    "inside_vehicle = vehicle.get_transform()\n",
    "test_vehicle_and_camera(world, vehicle, camera_transform)"
   ]
  },
  {
   "cell_type": "code",
   "execution_count": 169,
   "metadata": {},
   "outputs": [
    {
     "name": "stdout",
     "output_type": "stream",
     "text": [
      "161.04281616210938\n",
      "-368.1404724121094\n",
      "2.799999952316284\n"
     ]
    }
   ],
   "source": [
    "print(camera_transform.location.x)\n",
    "print(camera_transform.location.y)\n",
    "print(camera_transform.location.z)"
   ]
  }
 ],
 "metadata": {
  "kernelspec": {
   "display_name": "carla-env",
   "language": "python",
   "name": "python3"
  },
  "language_info": {
   "codemirror_mode": {
    "name": "ipython",
    "version": 3
   },
   "file_extension": ".py",
   "mimetype": "text/x-python",
   "name": "python",
   "nbconvert_exporter": "python",
   "pygments_lexer": "ipython3",
   "version": "3.6.9"
  }
 },
 "nbformat": 4,
 "nbformat_minor": 2
}
