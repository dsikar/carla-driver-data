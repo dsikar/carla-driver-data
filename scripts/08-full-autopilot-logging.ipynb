{
 "cells": [
  {
   "cell_type": "markdown",
   "metadata": {},
   "source": [
    "# Image, steering angle and x and y logging"
   ]
  },
  {
   "cell_type": "code",
   "execution_count": 3,
   "metadata": {},
   "outputs": [],
   "source": [
    "import carla\n",
    "import numpy as np\n",
    "import os\n",
    "from datetime import datetime\n",
    "import cv2\n",
    "import time\n",
    "\n",
    "class DataCollector:\n",
    "    def __init__(self, client=None, world=None):\n",
    "        self.client = client or carla.Client('localhost', 2000)\n",
    "        self.world = world or self.client.get_world()\n",
    "        if 'Town04' not in self.world.get_map().name:\n",
    "            self.world = self.client.load_world('Town04')\n",
    "        self.session = self.create_session()\n",
    "        \n",
    "    def create_session(self):\n",
    "        session_id = datetime.now().strftime('%Y%m%d_%H%M%S')\n",
    "        session = {\n",
    "            'id': session_id,\n",
    "            'image_dir': f'data/images/{session_id}',\n",
    "            'labels_file': f'data/labels/{session_id}.npy'\n",
    "        }\n",
    "        os.makedirs(session['image_dir'], exist_ok=True)\n",
    "        os.makedirs(os.path.dirname(session['labels_file']), exist_ok=True)\n",
    "        return session\n",
    "        \n",
    "    def setup_vehicle(self):\n",
    "        bp_lib = self.world.get_blueprint_library()\n",
    "        vehicle_bp = bp_lib.find('vehicle.tesla.model3')\n",
    "        spawn_points = self.world.get_map().get_spawn_points()\n",
    "        \n",
    "        # Try multiple spawn points until success\n",
    "        for spawn_point in spawn_points:\n",
    "            self.vehicle = self.world.try_spawn_actor(vehicle_bp, spawn_point)\n",
    "            if self.vehicle is not None:\n",
    "                return self.vehicle\n",
    "                \n",
    "        raise RuntimeError(\"Failed to spawn vehicle - no valid spawn points\")\n",
    "        \n",
    "    def setup_camera(self):\n",
    "        camera_bp = self.world.get_blueprint_library().find('sensor.camera.rgb')\n",
    "        camera_bp.set_attribute('image_size_x', '640')\n",
    "        camera_bp.set_attribute('image_size_y', '480')\n",
    "        camera_bp.set_attribute('fov', '110')\n",
    "        \n",
    "        camera_init_trans = carla.Transform(carla.Location(x=2.0, z=1.4))\n",
    "        self.camera = self.world.spawn_actor(camera_bp, camera_init_trans, attach_to=self.vehicle)\n",
    "        \n",
    "        self.image_array = None\n",
    "        self.camera.listen(lambda image: self._process_image(image))\n",
    "        \n",
    "    def _process_image(self, image):\n",
    "        array = np.frombuffer(image.raw_data, dtype=np.dtype(\"uint8\"))\n",
    "        array = np.reshape(array, (image.height, image.width, 4))\n",
    "        array = array[:, :, :3]  # Remove alpha channel\n",
    "        self.image_array = array\n",
    "        \n",
    "    def collect_data(self, num_frames=1000, interval=0.1):\n",
    "        labels = np.zeros((num_frames, 3), dtype=np.float32)  # [steering, x, y]\n",
    "        \n",
    "        self.vehicle.set_autopilot(True)\n",
    "        time.sleep(2)  # Let autopilot stabilize\n",
    "        \n",
    "        for i in range(num_frames):\n",
    "            if self.image_array is not None:\n",
    "                # Save image\n",
    "                img_path = os.path.join(self.session['image_dir'], f'{i:06d}.jpg')\n",
    "                print(f'Saving {img_path}')\n",
    "                cv2.imwrite(img_path, self.image_array)\n",
    "                \n",
    "                # Get vehicle data\n",
    "                control = self.vehicle.get_control()\n",
    "                location = self.vehicle.get_location()\n",
    "                \n",
    "                # Store labels\n",
    "                labels[i] = [control.steer, location.x, location.y]\n",
    "                \n",
    "                time.sleep(interval)\n",
    "            \n",
    "        np.save(self.session['labels_file'], labels)\n",
    "        print(f'Saved labels to {self.session[\"labels_file\"]}')\n",
    "        \n",
    "    def cleanup(self):\n",
    "        if hasattr(self, 'camera'):\n",
    "            self.camera.destroy()\n",
    "        if hasattr(self, 'vehicle'):\n",
    "            self.vehicle.destroy()"
   ]
  },
  {
   "cell_type": "code",
   "execution_count": null,
   "metadata": {},
   "outputs": [
    {
     "ename": "",
     "evalue": "",
     "output_type": "error",
     "traceback": [
      "\u001b[1;31mThe Kernel crashed while executing code in the the current cell or a previous cell. Please review the code in the cell(s) to identify a possible cause of the failure. Click <a href='https://aka.ms/vscodeJupyterKernelCrash'>here</a> for more info. View Jupyter <a href='command:jupyter.viewOutput'>log</a> for further details."
     ]
    }
   ],
   "source": [
    "client = carla.Client('localhost', 2000) \n",
    "world = client.get_world() \n",
    "\n",
    "collector = DataCollector(client, world)  # Using existing CARLA connection\n",
    "collector.setup_vehicle()\n",
    "collector.setup_camera()\n",
    "collector.collect_data()\n"
   ]
  }
 ],
 "metadata": {
  "kernelspec": {
   "display_name": "carla-env",
   "language": "python",
   "name": "python3"
  },
  "language_info": {
   "codemirror_mode": {
    "name": "ipython",
    "version": 3
   },
   "file_extension": ".py",
   "mimetype": "text/x-python",
   "name": "python",
   "nbconvert_exporter": "python",
   "pygments_lexer": "ipython3",
   "version": "3.6.9"
  }
 },
 "nbformat": 4,
 "nbformat_minor": 2
}
