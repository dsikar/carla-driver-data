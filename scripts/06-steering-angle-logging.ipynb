{
 "cells": [
  {
   "cell_type": "markdown",
   "metadata": {},
   "source": [
    "# Steering angle logging\n",
    "Logging steering angles while vehicle is on autopilot."
   ]
  },
  {
   "cell_type": "markdown",
   "metadata": {},
   "source": [
    "## Set vehicle on autopilot "
   ]
  },
  {
   "cell_type": "code",
   "execution_count": 1,
   "metadata": {},
   "outputs": [],
   "source": [
    "# boilerplate code\n",
    "import carla \n",
    "import math \n",
    "import random \n",
    "import time \n",
    "import logging\n",
    "\n",
    "# Initialize logging\n",
    "logging.basicConfig(level=logging.INFO, format='%(asctime)s - %(message)s')\n",
    "\n",
    "# Create a file handler\n",
    "file_handler = logging.FileHandler('../data/carla_simulation.log')\n",
    "file_handler.setLevel(logging.INFO)\n",
    "file_handler.setFormatter(logging.Formatter('%(asctime)s - %(message)s'))\n",
    "\n",
    "# Add the file handler to the logger\n",
    "logger = logging.getLogger(__name__)\n",
    "logger.addHandler(file_handler)\n",
    "\n",
    "# Connect to the client and get the world object\n",
    "client = carla.Client('localhost', 2000) \n",
    "world = client.get_world() \n",
    "\n",
    "# load Town04 map\n",
    "world = client.load_world('Town04')\n",
    "\n",
    "# Get the blueprint library and the spawn points for the map\n",
    "bp_lib = world.get_blueprint_library() \n",
    "spawn_points = world.get_map().get_spawn_points() \n",
    "\n",
    "# Get the blueprint for the bycicle you want\n",
    "vehicle_bp = bp_lib.find('vehicle.tesla.model3') \n",
    "# nb other options are:\n",
    "# 'vehicle.gazelle.omafiets',\n",
    "# 'vehicle.diamondback.century'\n",
    "\n",
    "# Try spawning the vehicle at a randomly chosen spawn point\n",
    "vehicle = world.try_spawn_actor(vehicle_bp, random.choice(spawn_points))\n",
    "\n",
    "# start the simulation\n",
    "vehicle.set_autopilot(True)\n",
    "\n"
   ]
  },
  {
   "cell_type": "markdown",
   "metadata": {},
   "source": [
    "## Follow vehicle"
   ]
  },
  {
   "cell_type": "code",
   "execution_count": 2,
   "metadata": {},
   "outputs": [
    {
     "name": "stdout",
     "output_type": "stream",
     "text": [
      "Camera following started\n"
     ]
    }
   ],
   "source": [
    "from carla_camera import CameraManager\n",
    "\n",
    "# Connect to CARLA\n",
    "client = carla.Client('localhost', 2000)\n",
    "client.set_timeout(10.0)\n",
    "world = client.get_world()\n",
    "\n",
    "# Get spectator\n",
    "spectator = world.get_spectator()\n",
    "\n",
    "# Spawn vehicle (example)\n",
    "spawn_points = world.get_map().get_spawn_points()\n",
    "# vehicle_bp = world.get_blueprint_library().find('vehicle.tesla.model3')\n",
    "vehicle = world.spawn_actor(vehicle_bp, spawn_points[0])\n",
    "vehicle.set_autopilot(True)\n",
    "\n",
    "# Create camera manager\n",
    "camera = CameraManager()\n",
    "\n",
    "# Cell 2: Control Camera\n",
    "# Start following\n",
    "camera.start_following(world, vehicle, spectator)\n",
    "\n",
    "# Modify view\n",
    "camera.set_back_right_diagonal()"
   ]
  },
  {
   "cell_type": "markdown",
   "metadata": {},
   "source": [
    "## Log\n",
    "Log to ../data/carla_simulation.log"
   ]
  },
  {
   "cell_type": "code",
   "execution_count": null,
   "metadata": {},
   "outputs": [],
   "source": [
    "def log_steering_control(vehicle, duration=10, interval=0.2):\n",
    "    \"\"\"\n",
    "    Log steering control values for specified duration at given interval.\n",
    "    Args:\n",
    "        vehicle: CARLA vehicle object\n",
    "        duration: Time to log in seconds \n",
    "        interval: Logging interval in seconds\n",
    "    \"\"\"\n",
    "    start_time = time.time()\n",
    "    while time.time() - start_time < duration:\n",
    "        control = vehicle.get_control()\n",
    "        logger.info(f\"Steering control: {control.steer:.3f}\")\n",
    "        time.sleep(interval)\n",
    "\n",
    "# Usage example:\n",
    "# vehicle.set_autopilot(False)  # Disable autopilot to test\n",
    "# control = vehicle.get_control()\n",
    "# control.steer = -1  # Full left\n",
    "# vehicle.apply_control(control)\n",
    "# log_steering_control(vehicle, 5)  # Log for 5 seconds\n",
    "log_steering_control(vehicle, 5)  # Log for 5 seconds\n"
   ]
  },
  {
   "cell_type": "markdown",
   "metadata": {},
   "source": [
    "## Stop following"
   ]
  },
  {
   "cell_type": "code",
   "execution_count": 8,
   "metadata": {},
   "outputs": [
    {
     "name": "stdout",
     "output_type": "stream",
     "text": [
      "Camera following stopped\n"
     ]
    }
   ],
   "source": [
    "camera.stop_following()"
   ]
  },
  {
   "cell_type": "markdown",
   "metadata": {},
   "source": [
    "## Destroy car"
   ]
  },
  {
   "cell_type": "code",
   "execution_count": 9,
   "metadata": {},
   "outputs": [
    {
     "data": {
      "text/plain": [
       "True"
      ]
     },
     "execution_count": 9,
     "metadata": {},
     "output_type": "execute_result"
    }
   ],
   "source": [
    "vehicle.destroy()\n"
   ]
  }
 ],
 "metadata": {
  "kernelspec": {
   "display_name": "carla-env",
   "language": "python",
   "name": "python3"
  },
  "language_info": {
   "codemirror_mode": {
    "name": "ipython",
    "version": 3
   },
   "file_extension": ".py",
   "mimetype": "text/x-python",
   "name": "python",
   "nbconvert_exporter": "python",
   "pygments_lexer": "ipython3",
   "version": "3.6.9"
  }
 },
 "nbformat": 4,
 "nbformat_minor": 2
}
