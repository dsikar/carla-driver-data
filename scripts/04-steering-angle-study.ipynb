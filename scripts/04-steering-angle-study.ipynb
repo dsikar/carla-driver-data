{
 "cells": [
  {
   "cell_type": "markdown",
   "metadata": {},
   "source": [
    "# Steering angle study"
   ]
  },
  {
   "cell_type": "code",
   "execution_count": 1,
   "metadata": {},
   "outputs": [],
   "source": [
    "import carla \n",
    "import math \n",
    "import random \n",
    "import time \n",
    "import carla_helpers as helpers\n",
    "\n",
    "# Connect to the client and get the world object\n",
    "client = carla.Client('localhost', 2000) \n",
    "world = client.get_world() \n",
    "\n",
    "# load Town04 map\n",
    "world = client.load_world('Town04')\n",
    "\n",
    "# Get the blueprint library and the spawn points for the map\n",
    "bp_lib = world.get_blueprint_library() \n",
    "spawn_points = world.get_map().get_spawn_points() \n",
    "\n",
    "# Get the blueprint for the bycicle you want\n",
    "vehicle_bp = bp_lib.find('vehicle.tesla.model3') \n",
    "# nb other options are:\n",
    "# 'vehicle.gazelle.omafiets',\n",
    "# 'vehicle.diamondback.century'\n",
    "\n",
    "# Try spawning the vehicle at a given spawn point\n",
    "spn = 180\n",
    "vehicle = world.try_spawn_actor(vehicle_bp, spawn_points[spn])\n",
    "\n",
    "# start the simulation\n",
    "# vehicle.set_autopilot(True) # not this time\n",
    "\n"
   ]
  },
  {
   "cell_type": "markdown",
   "metadata": {},
   "source": [
    "## Place spectator"
   ]
  },
  {
   "cell_type": "code",
   "execution_count": 2,
   "metadata": {},
   "outputs": [
    {
     "name": "stdout",
     "output_type": "stream",
     "text": [
      "\n",
      "=== Spectator Transform Set ===\n",
      "Location: x=235.50, y=-309.10, z=0.60\n",
      "Rotation: pitch=-12.70, yaw=133.12, roll=0.00\n"
     ]
    }
   ],
   "source": [
    "#print(spectator.get_location())\n",
    "#transform = helpers.get_spectator_transform(world)\n",
    "\"\"\"\n",
    "Location(x=237.176086, y=-310.309143, z=1.558947)\n",
    "\n",
    "=== Spectator Transform ===\n",
    "Location: x=237.18, y=-310.31, z=1.56\n",
    "Rotation: pitch=-12.70, yaw=133.12, roll=0.00\n",
    "\"\"\"\n",
    "#spectator.set_transform(transform)\n",
    "transform = helpers.set_spectator_transform(world, (235.5, -309.1, 0.6), (-12.70, 133.12, 0))"
   ]
  },
  {
   "cell_type": "markdown",
   "metadata": {},
   "source": [
    "## Get maximum steering angle"
   ]
  },
  {
   "cell_type": "code",
   "execution_count": 3,
   "metadata": {},
   "outputs": [
    {
     "name": "stdout",
     "output_type": "stream",
     "text": [
      "Maximum steering angle: 70.0 degrees\n"
     ]
    },
    {
     "data": {
      "text/plain": [
       "69.99999237060547"
      ]
     },
     "execution_count": 3,
     "metadata": {},
     "output_type": "execute_result"
    }
   ],
   "source": [
    "def get_max_steering_angle(vehicle):\n",
    "   wheel_phys_control = vehicle.get_physics_control().wheels\n",
    "   max_angle = wheel_phys_control[0].max_steer_angle\n",
    "   print(f\"Maximum steering angle: {max_angle:.1f} degrees\")\n",
    "   return max_angle\n",
    "   \n",
    "   return max_angle\n",
    "\n",
    "get_max_steering_angle(vehicle)"
   ]
  },
  {
   "cell_type": "markdown",
   "metadata": {},
   "source": [
    "## Steer maximum left"
   ]
  },
  {
   "cell_type": "code",
   "execution_count": 4,
   "metadata": {},
   "outputs": [],
   "source": [
    "control = vehicle.get_control()\n",
    "control.steer = -1 # -70 degrees\n",
    "vehicle.apply_control(control)"
   ]
  },
  {
   "cell_type": "markdown",
   "metadata": {},
   "source": [
    "## Steer maximum right"
   ]
  },
  {
   "cell_type": "code",
   "execution_count": 5,
   "metadata": {},
   "outputs": [],
   "source": [
    "control = vehicle.get_control()\n",
    "control.steer = 1 # -70 degrees\n",
    "vehicle.apply_control(control)"
   ]
  },
  {
   "cell_type": "markdown",
   "metadata": {},
   "source": [
    "## Plot control vs steering angle"
   ]
  },
  {
   "cell_type": "code",
   "execution_count": 6,
   "metadata": {},
   "outputs": [
    {
     "data": {
      "image/png": "[encoded data removed]",
      "text/plain": [
       "<Figure size 576x432 with 1 Axes>"
      ]
     },
     "metadata": {
      "needs_background": "light"
     },
     "output_type": "display_data"
    }
   ],
   "source": [
    "import matplotlib.pyplot as plt\n",
    "import numpy as np\n",
    "\n",
    "def plot_steering_relationship(vehicle):\n",
    "   max_angle = vehicle.get_physics_control().wheels[0].max_steer_angle\n",
    "   control_values = np.linspace(-1.0, 1.0, 21)\n",
    "   angles = control_values * max_angle\n",
    "   \n",
    "   plt.figure(figsize=(8, 6))\n",
    "   plt.plot(control_values, angles, 'b-', linewidth=2)\n",
    "   plt.plot(control_values, angles, 'ro', markersize=5)\n",
    "   \n",
    "   plt.grid(True)\n",
    "   plt.xlabel('Control Value')\n",
    "   plt.ylabel('Steering Angle (degrees)')\n",
    "   plt.title('Steering Control to Angle Relationship')\n",
    "   \n",
    "   plt.axhline(y=0, color='k', linestyle='-', alpha=0.3)\n",
    "   plt.axvline(x=0, color='k', linestyle='-', alpha=0.3)\n",
    "   \n",
    "   plt.xlim(-1.1, 1.1)\n",
    "   plt.ylim(-75, 75)\n",
    "   \n",
    "   plt.savefig('steering_relationship.png', dpi=300, bbox_inches='tight')\n",
    "   plt.show()\n",
    "   plt.close()\n",
    "\n",
    "plot_steering_relationship(vehicle)"
   ]
  },
  {
   "cell_type": "markdown",
   "metadata": {},
   "source": [
    "## Test full steering range"
   ]
  },
  {
   "cell_type": "code",
   "execution_count": 7,
   "metadata": {},
   "outputs": [
    {
     "name": "stdout",
     "output_type": "stream",
     "text": [
      "Steering angle: -0.0\n",
      "Steering angle: -0.1\n",
      "Steering angle: -0.2\n",
      "Steering angle: -0.3\n",
      "Steering angle: -0.4\n",
      "Steering angle: -0.5\n",
      "Steering angle: -0.6\n",
      "Steering angle: -0.7\n",
      "Steering angle: -0.8\n",
      "Steering angle: -0.9\n",
      "Steering angle: -1.0\n",
      "Steering angle: -1.0\n",
      "Steering angle: -0.9\n",
      "Steering angle: -0.8\n",
      "Steering angle: -0.7\n",
      "Steering angle: -0.6\n",
      "Steering angle: -0.5\n",
      "Steering angle: -0.4\n",
      "Steering angle: -0.3\n",
      "Steering angle: -0.2\n",
      "Steering angle: -0.1\n",
      "Steering angle: 0.0\n",
      "Steering angle: 0.1\n",
      "Steering angle: 0.2\n",
      "Steering angle: 0.3\n",
      "Steering angle: 0.4\n",
      "Steering angle: 0.5\n",
      "Steering angle: 0.6\n",
      "Steering angle: 0.7\n",
      "Steering angle: 0.8\n",
      "Steering angle: 0.9\n",
      "Steering angle: 1.0\n",
      "Steering angle: 1.0\n",
      "Steering angle: 0.9\n",
      "Steering angle: 0.8\n",
      "Steering angle: 0.7\n",
      "Steering angle: 0.6\n",
      "Steering angle: 0.5\n",
      "Steering angle: 0.4\n",
      "Steering angle: 0.3\n",
      "Steering angle: 0.2\n",
      "Steering angle: 0.1\n",
      "Steering angle: 0.0\n"
     ]
    }
   ],
   "source": [
    "def test_steering_full_range(vehicle, debug=False):\n",
    "   control = vehicle.get_control()\n",
    "   \n",
    "   # Increment from 0 to full left (-1.0)\n",
    "   for steer in [x * -0.1 for x in range(11)]:\n",
    "       control.steer = steer\n",
    "       if debug:\n",
    "           print(f\"Steering angle: {control.steer:.1f}\")\n",
    "       vehicle.apply_control(control)\n",
    "       time.sleep(0.2)\n",
    "   \n",
    "   # Increment from full left to full right (1.0)\n",
    "   for steer in [x * 0.1 for x in range(-10, 11)]:\n",
    "       control.steer = steer\n",
    "       if debug:\n",
    "           print(f\"Steering angle: {control.steer:.1f}\")\n",
    "       vehicle.apply_control(control)\n",
    "       time.sleep(0.2)\n",
    "   \n",
    "   # Increment from full right back to center (0.0)\n",
    "   for steer in [x * 0.1 for x in range(10, -1, -1)]:\n",
    "       control.steer = steer\n",
    "       if debug:\n",
    "           print(f\"Steering angle: {control.steer:.1f}\")\n",
    "       vehicle.apply_control(control)\n",
    "       time.sleep(0.1)\n",
    "\n",
    "test_steering_full_range(vehicle, debug=True)"
   ]
  },
  {
   "cell_type": "markdown",
   "metadata": {},
   "source": [
    "## More steering study functions"
   ]
  },
  {
   "cell_type": "code",
   "execution_count": 8,
   "metadata": {},
   "outputs": [
    {
     "ename": "",
     "evalue": "",
     "output_type": "error",
     "traceback": [
      "\u001b[1;31mThe Kernel crashed while executing code in the the current cell or a previous cell. Please review the code in the cell(s) to identify a possible cause of the failure. Click <a href='https://aka.ms/vscodeJupyterKernelCrash'>here</a> for more info. View Jupyter <a href='command:jupyter.viewOutput'>log</a> for further details."
     ]
    }
   ],
   "source": [
    "def test_steering(vehicle, debug=False):\n",
    "    control = vehicle.get_control()\n",
    "    max_angle = vehicle.get_physics_control().wheels[0].max_steer_angle\n",
    "    \n",
    "    # Convert max steering angle to control value (-1 to 1)\n",
    "    def angle_to_control(angle):\n",
    "        return angle / max_angle\n",
    "        \n",
    "    # Test in 10 degree increments\n",
    "    for angle in range(0, -int(max_angle)-1, -10):\n",
    "        control.steer = angle_to_control(angle)\n",
    "        if debug:\n",
    "            print(f\"Angle: {angle}°, Control: {control.steer:.2f}\")\n",
    "        vehicle.apply_control(control)\n",
    "        time.sleep(0.2)\n",
    "\n",
    "#test_steering(vehicle, debug=True)\n",
    "\n",
    "def print_steering_range(vehicle):\n",
    "   max_angle = vehicle.get_physics_control().wheels[0].max_steer_angle\n",
    "   \n",
    "   for control in [x/10 for x in range(-10, 11)]:\n",
    "       angle = control * max_angle\n",
    "       print(f\"Control: {control:>5.1f}, Angle: {angle:>6.1f}°\")       \n",
    "\n",
    "\n",
    "# print_steering_range(vehicle)\n",
    "       \n",
    "def print_steering_range_latex(vehicle):\n",
    "   max_angle = vehicle.get_physics_control().wheels[0].max_steer_angle\n",
    "   \n",
    "   print(r\"\\begin{table}[h]\")\n",
    "   print(r\"\\centering\")\n",
    "   print(r\"\\caption{Steering Control Values and Corresponding Angles}\")\n",
    "   print(r\"\\begin{tabular}{|c|c|}\")\n",
    "   print(r\"\\hline\")\n",
    "   print(r\"Control Value & Steering Angle (degrees) \\\\\")\n",
    "   print(r\"\\hline\")\n",
    "   \n",
    "   for control in [x/10 for x in range(-10, 11)]:\n",
    "       angle = control * max_angle\n",
    "       print(f\"{control:>5.1f} & {angle:>6.1f} \\\\\\\\\")\n",
    "       print(r\"\\hline\")\n",
    "   \n",
    "   print(r\"\\end{tabular}\")\n",
    "   print(r\"\\label{tab:steering_range}\")\n",
    "   print(r\"\\end{table}\")       \n",
    "\n",
    "# print_steering_range_latex(vehicle)   "
   ]
  },
  {
   "cell_type": "markdown",
   "metadata": {},
   "source": [
    "## Youtube video\n",
    "https://youtu.be/cg6hhrpsc5g"
   ]
  }
 ],
 "metadata": {
  "kernelspec": {
   "display_name": "carla-env",
   "language": "python",
   "name": "python3"
  },
  "language_info": {
   "codemirror_mode": {
    "name": "ipython",
    "version": 3
   },
   "file_extension": ".py",
   "mimetype": "text/x-python",
   "name": "python",
   "nbconvert_exporter": "python",
   "pygments_lexer": "ipython3",
   "version": "3.6.9"
  }
 },
 "nbformat": 4,
 "nbformat_minor": 2
}
