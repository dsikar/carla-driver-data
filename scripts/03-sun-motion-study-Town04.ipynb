{
 "cells": [
  {
   "cell_type": "markdown",
   "metadata": {},
   "source": [
    "# Sun Motion Study"
   ]
  },
  {
   "cell_type": "code",
   "execution_count": 16,
   "metadata": {},
   "outputs": [],
   "source": [
    "# boilerplate code\n",
    "import carla \n",
    "import math \n",
    "import random \n",
    "import time \n",
    "import logging\n",
    "import carla_helpers as helpers\n",
    "\n",
    "# Initialize logging\n",
    "logging.basicConfig(level=logging.INFO, format='%(asctime)s - %(message)s')\n",
    "\n",
    "# Create a file handler\n",
    "file_handler = logging.FileHandler('../data/carla_simulation.log')\n",
    "file_handler.setLevel(logging.INFO)\n",
    "file_handler.setFormatter(logging.Formatter('%(asctime)s - %(message)s'))\n",
    "\n",
    "# Add the file handler to the logger\n",
    "logger = logging.getLogger(__name__)\n",
    "logger.addHandler(file_handler)\n",
    "\n",
    "# Connect to the client and get the world object\n",
    "client = carla.Client('localhost', 2000) \n",
    "world = client.get_world() \n",
    "\n",
    "# load Town04 map\n",
    "world = client.load_world('Town04')\n"
   ]
  },
  {
   "cell_type": "markdown",
   "metadata": {},
   "source": [
    "## Set Sun Position - sunrise, afternoon, sunset, night\n"
   ]
  },
  {
   "cell_type": "code",
   "execution_count": 17,
   "metadata": {},
   "outputs": [
    {
     "name": "stdout",
     "output_type": "stream",
     "text": [
      "Morning\n",
      "Sun Position Set - Altitude: 15°, Azimuth: 90°\n",
      "Noon\n",
      "Sun Position Set - Altitude: 90°, Azimuth: 180°\n",
      "Afternoon\n",
      "Sun Position Set - Altitude: 45°, Azimuth: 270°\n",
      "Sunset\n",
      "Sun Position Set - Altitude: 10°, Azimuth: 270°\n",
      "Night\n",
      "Sun Position Set - Altitude: -90°, Azimuth: 270°\n"
     ]
    }
   ],
   "source": [
    "print(\"Morning\")\n",
    "weather = helpers.morning_east(world)    # Sunrise\n",
    "time.sleep(2)\n",
    "\n",
    "print(\"Noon\")\n",
    "weather = helpers.noon_overhead(world)   # Noon\n",
    "time.sleep(2)\n",
    "\n",
    "print(\"Afternoon\")\n",
    "weather = helpers.afternoon_west(world) \n",
    "time.sleep(2)\n",
    "\n",
    "print(\"Sunset\")\n",
    "weather = helpers.sunset_west(world)\n",
    "time.sleep(2)\n",
    "\n",
    "print(\"Night\")\n",
    "weather = helpers.night_scene(world)\n",
    "time.sleep(2)\n"
   ]
  },
  {
   "cell_type": "markdown",
   "metadata": {},
   "source": [
    "## Set Sun Position Manually"
   ]
  },
  {
   "cell_type": "code",
   "execution_count": 18,
   "metadata": {},
   "outputs": [
    {
     "name": "stdout",
     "output_type": "stream",
     "text": [
      "Sun Position Set - Altitude: 0°, Azimuth: 150°\n"
     ]
    },
    {
     "data": {
      "text/plain": [
       "<carla.libcarla.WeatherParameters at 0x7fb1147a1228>"
      ]
     },
     "execution_count": 18,
     "metadata": {},
     "output_type": "execute_result"
    }
   ],
   "source": [
    "helpers.set_sun_position(world, altitude=0, azimuth=150)"
   ]
  },
  {
   "cell_type": "markdown",
   "metadata": {},
   "source": [
    "## Get Spectator Position"
   ]
  },
  {
   "cell_type": "code",
   "execution_count": 19,
   "metadata": {},
   "outputs": [
    {
     "name": "stdout",
     "output_type": "stream",
     "text": [
      "\n",
      "=== Spectator Transform ===\n",
      "Location: x=138.85, y=-171.75, z=2.90\n",
      "Rotation: pitch=0.00, yaw=1.00, roll=0.00\n"
     ]
    }
   ],
   "source": [
    "transform = helpers.get_spectator_transform(world)"
   ]
  },
  {
   "cell_type": "markdown",
   "metadata": {},
   "source": [
    "## Set Spectator Transform"
   ]
  },
  {
   "cell_type": "code",
   "execution_count": 20,
   "metadata": {},
   "outputs": [
    {
     "name": "stdout",
     "output_type": "stream",
     "text": [
      "\n",
      "=== Spectator Transform Set ===\n",
      "Location: x=190.00, y=230.00, z=140.00\n",
      "Rotation: pitch=3.00, yaw=-30.00, roll=0.00\n"
     ]
    }
   ],
   "source": [
    "transform = helpers.set_spectator_transform(world, (190, 230, 140), (3, -30, 0))"
   ]
  },
  {
   "cell_type": "markdown",
   "metadata": {},
   "source": [
    "## Get Spectator Cardinal Direction"
   ]
  },
  {
   "cell_type": "code",
   "execution_count": 21,
   "metadata": {},
   "outputs": [
    {
     "name": "stdout",
     "output_type": "stream",
     "text": [
      "\n",
      "Spectator is facing: NW\n",
      "Exact yaw angle: -30.0°\n"
     ]
    }
   ],
   "source": [
    "helpers.get_spectator_direction(world)\n",
    "#Spectator is facing: NW\n",
    "#Exact yaw angle: -30.0°\n",
    "#transform = helpers.set_spectator_transform(world, (190, 230, 140), (3, 270, 0))"
   ]
  },
  {
   "cell_type": "markdown",
   "metadata": {},
   "source": [
    "## Get Spectator Geo-Location"
   ]
  },
  {
   "cell_type": "code",
   "execution_count": 22,
   "metadata": {},
   "outputs": [
    {
     "name": "stdout",
     "output_type": "stream",
     "text": [
      "\n",
      "=== Coordinate Conversion ===\n",
      "CARLA Location: x=190.00, y=230.00, z=140.00\n",
      "Geographic Location:\n",
      "Latitude:  -0.002066°\n",
      "Longitude: 0.001707°\n",
      "Altitude:  140.00m\n"
     ]
    },
    {
     "data": {
      "text/plain": [
       "(-0.002066125153035614, 0.0017067990398270906, 140.0)"
      ]
     },
     "execution_count": 22,
     "metadata": {},
     "output_type": "execute_result"
    }
   ],
   "source": [
    "helpers.get_spectator_geo_location(world)"
   ]
  },
  {
   "cell_type": "markdown",
   "metadata": {},
   "source": [
    "## Sun Path"
   ]
  },
  {
   "cell_type": "code",
   "execution_count": 23,
   "metadata": {},
   "outputs": [
    {
     "name": "stdout",
     "output_type": "stream",
     "text": [
      "\n",
      "Sun Path Parameters for 51.0°N/S:\n",
      "Maximum altitude: 62.5°\n",
      "Minimum altitude: -20.0°\n",
      "Time: 08:12 - Altitude:  55.84°, Azimuth: 123.02°\n",
      "Simulation stopped\n"
     ]
    }
   ],
   "source": [
    "import carla\n",
    "import time\n",
    "from carla_sunpath import SunPathSimulator\n",
    "\n",
    "# Correct way:\n",
    "client = carla.Client('localhost', 2000)\n",
    "world = client.get_world()\n",
    "\n",
    "# Create instance with required parameters\n",
    "simulator = SunPathSimulator(world, latitude=51.0, speed_factor=50)\n",
    "\n",
    "# Now we can use the instance methods\n",
    "try:\n",
    "    last_time = time.time()\n",
    "    while True:\n",
    "        current_time = time.time()\n",
    "        delta_seconds = current_time - last_time\n",
    "        \n",
    "        # Update sun position using instance method\n",
    "        simulator.update(delta_seconds)\n",
    "        \n",
    "        last_time = current_time\n",
    "        time.sleep(0.01)\n",
    "except KeyboardInterrupt:\n",
    "    print(\"\\nSimulation stopped\")"
   ]
  }
 ],
 "metadata": {
  "kernelspec": {
   "display_name": "carla-env",
   "language": "python",
   "name": "python3"
  },
  "language_info": {
   "codemirror_mode": {
    "name": "ipython",
    "version": 3
   },
   "file_extension": ".py",
   "mimetype": "text/x-python",
   "name": "python",
   "nbconvert_exporter": "python",
   "pygments_lexer": "ipython3",
   "version": "3.6.9"
  }
 },
 "nbformat": 4,
 "nbformat_minor": 2
}
