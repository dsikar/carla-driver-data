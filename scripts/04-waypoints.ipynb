{
 "cells": [
  {
   "cell_type": "code",
   "execution_count": 1,
   "metadata": {},
   "outputs": [
    {
     "name": "stdout",
     "output_type": "stream",
     "text": [
      "An error occurred: Python argument types in\n",
      "    Location.distance(Location, Waypoint, float)\n",
      "did not match C++ signature:\n",
      "    distance(carla::geom::Location {lvalue}, carla::geom::Location location)\n"
     ]
    },
    {
     "ename": "",
     "evalue": "",
     "output_type": "error",
     "traceback": [
      "\u001b[1;31mThe Kernel crashed while executing code in the the current cell or a previous cell. Please review the code in the cell(s) to identify a possible cause of the failure. Click <a href='https://aka.ms/vscodeJupyterKernelCrash'>here</a> for more info. View Jupyter <a href='command:jupyter.viewOutput'>log</a> for further details."
     ]
    }
   ],
   "source": [
    "import carla\n",
    "import math\n",
    "import time\n",
    "\n",
    "def generate_figure_eight_route(world, start_location):\n",
    "    \"\"\"\n",
    "    Generates a figure-eight route using CARLA waypoints.\n",
    "\n",
    "    Args:\n",
    "        world (carla.World): The CARLA world instance.\n",
    "        start_location (carla.Location): The starting location of the route.\n",
    "\n",
    "    Returns:\n",
    "        list of carla.Waypoint: A list of waypoints representing the figure-eight route.\n",
    "    \"\"\"\n",
    "    map = world.get_map()\n",
    "    waypoints = []\n",
    "\n",
    "    # Start waypoint\n",
    "    start_waypoint = map.get_waypoint(start_location, project_to_road=True, lane_type=carla.LaneType.Driving)\n",
    "    waypoints.append(start_waypoint)\n",
    "\n",
    "    # Generate waypoints for the first loop (circle)\n",
    "    current_waypoint = start_waypoint\n",
    "    for _ in range(50):  # Adjust number of points to define loop size\n",
    "        next_waypoint = current_waypoint.next(2.0)[0]  # Step forward 2 meters\n",
    "        current_waypoint = next_waypoint\n",
    "        waypoints.append(current_waypoint)\n",
    "        if len(waypoints) > 25 and waypoints[0].transform.location.distance(next_waypoint.transform.location) < 2.0:\n",
    "            break  # Loop back to start\n",
    "\n",
    "    # Generate waypoints for the second loop (cross over)\n",
    "    current_waypoint = waypoints[-1]\n",
    "    for _ in range(50):\n",
    "        next_waypoint = current_waypoint.next(2.0)[0]\n",
    "        current_waypoint = next_waypoint\n",
    "        waypoints.append(current_waypoint)\n",
    "        if len(waypoints) > 75 and waypoints[25].transform.location.distance(next_waypoint, .2):\n",
    "            waypoints.append(current_waypoint)\n",
    "        if len(waypoints) > 75 and waypoints[25].transform.location.distance(next_waypoint.transform.location) < 2.0:\n",
    "            break  # Loop back to crossover point\n",
    "\n",
    "    return waypoints\n",
    "\n",
    "def visualize_route(world, waypoints):\n",
    "    \"\"\"\n",
    "    Visualizes a route by placing markers or debug points along the waypoints.\n",
    "\n",
    "    Args:\n",
    "        world (carla.World): The CARLA world instance.\n",
    "        waypoints (list of carla.Waypoint): The list of waypoints to visualize.\n",
    "    \"\"\"\n",
    "    for i, waypoint in enumerate(waypoints):\n",
    "        location = waypoint.transform.location\n",
    "        # Debug point for visualization\n",
    "        world.debug.draw_point(location, size=0.3, color=carla.Color(0, 255, 0), life_time=30.0)\n",
    "        # Optional: Label the waypoints\n",
    "        world.debug.draw_string(location, f\"{i}\", draw_shadow=False, color=carla.Color(255, 255, 255), life_time=30.0)\n",
    "\n",
    "def main():\n",
    "    try:\n",
    "        # Connect to the CARLA simulator\n",
    "        client = carla.Client('localhost', 2000)\n",
    "        client.set_timeout(10.0)\n",
    "\n",
    "        # Load Town04\n",
    "        world = client.load_world('Town04')\n",
    "\n",
    "        # Define a starting location\n",
    "        start_location = carla.Location(x=50, y=150, z=0.2)  # Adjust coordinates as needed\n",
    "\n",
    "        # Generate a figure-eight route\n",
    "        waypoints = generate_figure_eight_route(world, start_location)\n",
    "        print(f\"Generated {len(waypoints)} waypoints for the route.\")\n",
    "\n",
    "        # Visualize the route\n",
    "        visualize_route(world, waypoints)\n",
    "\n",
    "        # Pause to observe\n",
    "        time.sleep(30)  # Adjust the sleep time as needed\n",
    "\n",
    "    except Exception as e:\n",
    "        print(f\"An error occurred: {e}\")\n",
    "\n",
    "main()\n",
    "\n"
   ]
  }
 ],
 "metadata": {
  "kernelspec": {
   "display_name": "carla-env",
   "language": "python",
   "name": "python3"
  },
  "language_info": {
   "codemirror_mode": {
    "name": "ipython",
    "version": 3
   },
   "file_extension": ".py",
   "mimetype": "text/x-python",
   "name": "python",
   "nbconvert_exporter": "python",
   "pygments_lexer": "ipython3",
   "version": "3.6.9"
  }
 },
 "nbformat": 4,
 "nbformat_minor": 2
}
